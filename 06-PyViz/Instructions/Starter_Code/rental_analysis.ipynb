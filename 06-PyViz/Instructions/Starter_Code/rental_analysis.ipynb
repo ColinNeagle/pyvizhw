{
 "cells": [
  {
   "cell_type": "markdown",
   "metadata": {},
   "source": [
    "# San Francisco Housing Rental Analysis\n",
    "\n",
    "In this assignment, you will perform basic analysis for the San Francisco Housing Market to allow potential real estate investors to choose rental investment properties. "
   ]
  },
  {
   "cell_type": "code",
   "execution_count": 38,
   "metadata": {},
   "outputs": [],
   "source": [
    "# initial imports\n",
    "import os\n",
    "import pandas as pd\n",
    "import matplotlib.pyplot as plt\n",
    "import plotly.express as px\n",
    "import hvplot.pandas\n",
    "from pathlib import Path\n",
    "from dotenv import load_dotenv\n",
    "\n",
    "%matplotlib inline"
   ]
  },
  {
   "cell_type": "code",
   "execution_count": 39,
   "metadata": {},
   "outputs": [],
   "source": [
    "# Read the Mapbox API key\n",
    "load_dotenv()\n",
    "mapbox_token = os.getenv(\"MAPBOX_API_KEY\")"
   ]
  },
  {
   "cell_type": "markdown",
   "metadata": {},
   "source": [
    "## Load Data"
   ]
  },
  {
   "cell_type": "code",
   "execution_count": 40,
   "metadata": {},
   "outputs": [
    {
     "output_type": "execute_result",
     "data": {
      "text/plain": [
       "          neighborhood  sale_price_sqr_foot  housing_units  gross_rent\n",
       "year                                                                  \n",
       "2010      Alamo Square           291.182945         372560        1239\n",
       "2010        Anza Vista           267.932583         372560        1239\n",
       "2010           Bayview           170.098665         372560        1239\n",
       "2010  Buena Vista Park           347.394919         372560        1239\n",
       "2010  Central Richmond           319.027623         372560        1239"
      ],
      "text/html": "<div>\n<style scoped>\n    .dataframe tbody tr th:only-of-type {\n        vertical-align: middle;\n    }\n\n    .dataframe tbody tr th {\n        vertical-align: top;\n    }\n\n    .dataframe thead th {\n        text-align: right;\n    }\n</style>\n<table border=\"1\" class=\"dataframe\">\n  <thead>\n    <tr style=\"text-align: right;\">\n      <th></th>\n      <th>neighborhood</th>\n      <th>sale_price_sqr_foot</th>\n      <th>housing_units</th>\n      <th>gross_rent</th>\n    </tr>\n    <tr>\n      <th>year</th>\n      <th></th>\n      <th></th>\n      <th></th>\n      <th></th>\n    </tr>\n  </thead>\n  <tbody>\n    <tr>\n      <th>2010</th>\n      <td>Alamo Square</td>\n      <td>291.182945</td>\n      <td>372560</td>\n      <td>1239</td>\n    </tr>\n    <tr>\n      <th>2010</th>\n      <td>Anza Vista</td>\n      <td>267.932583</td>\n      <td>372560</td>\n      <td>1239</td>\n    </tr>\n    <tr>\n      <th>2010</th>\n      <td>Bayview</td>\n      <td>170.098665</td>\n      <td>372560</td>\n      <td>1239</td>\n    </tr>\n    <tr>\n      <th>2010</th>\n      <td>Buena Vista Park</td>\n      <td>347.394919</td>\n      <td>372560</td>\n      <td>1239</td>\n    </tr>\n    <tr>\n      <th>2010</th>\n      <td>Central Richmond</td>\n      <td>319.027623</td>\n      <td>372560</td>\n      <td>1239</td>\n    </tr>\n  </tbody>\n</table>\n</div>"
     },
     "metadata": {},
     "execution_count": 40
    }
   ],
   "source": [
    "# Read the census data into a Pandas DataFrame\n",
    "file_path = Path(\"Data/sfo_neighborhoods_census_data.csv\")\n",
    "sfo_data = pd.read_csv(file_path, index_col=\"year\")\n",
    "sfo_data.head()"
   ]
  },
  {
   "cell_type": "markdown",
   "metadata": {},
   "source": [
    "- - - "
   ]
  },
  {
   "cell_type": "markdown",
   "metadata": {},
   "source": [
    "## Housing Units Per Year\n",
    "\n",
    "In this section, you will calculate the number of housing units per year and visualize the results as a bar chart using the Pandas plot function. \n",
    "\n",
    "Hint: Use the Pandas groupby function\n",
    "\n",
    "Optional challenge: Use the min, max, and std to scale the y limits of the chart."
   ]
  },
  {
   "cell_type": "code",
   "execution_count": 41,
   "metadata": {},
   "outputs": [],
   "source": [
    "# Calculate the mean number of housing units per year (hint: use groupby) \n",
    "sfogroupby=sfo_data.groupby('year').mean().reset_index()\n",
    "#sfogroupby\n"
   ]
  },
  {
   "cell_type": "code",
   "execution_count": 42,
   "metadata": {},
   "outputs": [
    {
     "output_type": "execute_result",
     "data": {
      "text/html": "<div id='1347'>\n\n\n\n\n\n  <div class=\"bk-root\" id=\"27f43260-38bf-4e9b-8907-1ca5a91523f1\" data-root-id=\"1347\"></div>\n</div>\n<script type=\"application/javascript\">(function(root) {\n  function embed_document(root) {\n  var docs_json = {\"1b48e82f-54c6-4fb0-a94f-c59013092b0e\":{\"roots\":{\"references\":[{\"attributes\":{\"callback\":null,\"renderers\":[{\"id\":\"1387\"}],\"tags\":[\"hv_created\"],\"tooltips\":[[\"year\",\"@{year}\"],[\"housing_units\",\"@{housing_units}\"]]},\"id\":\"1351\",\"type\":\"HoverTool\"},{\"attributes\":{\"bottom_units\":\"screen\",\"fill_alpha\":0.5,\"fill_color\":\"lightgrey\",\"left_units\":\"screen\",\"level\":\"overlay\",\"line_alpha\":1.0,\"line_color\":\"black\",\"line_dash\":[4,4],\"line_width\":2,\"right_units\":\"screen\",\"top_units\":\"screen\"},\"id\":\"1373\",\"type\":\"BoxAnnotation\"},{\"attributes\":{\"text\":\"\",\"text_color\":{\"value\":\"black\"},\"text_font_size\":{\"value\":\"12pt\"}},\"id\":\"1353\",\"type\":\"Title\"},{\"attributes\":{\"children\":[{\"id\":\"1348\"},{\"id\":\"1352\"},{\"id\":\"1409\"}],\"margin\":[0,0,0,0],\"name\":\"Row02082\",\"tags\":[\"embedded\"]},\"id\":\"1347\",\"type\":\"Row\"},{\"attributes\":{\"fill_color\":{\"value\":\"#1f77b3\"},\"top\":{\"field\":\"housing_units\"},\"width\":{\"value\":0.8},\"x\":{\"field\":\"year\"}},\"id\":\"1384\",\"type\":\"VBar\"},{\"attributes\":{\"margin\":[5,5,5,5],\"name\":\"HSpacer02087\",\"sizing_mode\":\"stretch_width\"},\"id\":\"1409\",\"type\":\"Spacer\"},{\"attributes\":{\"active_drag\":\"auto\",\"active_inspect\":\"auto\",\"active_multi\":null,\"active_scroll\":\"auto\",\"active_tap\":\"auto\",\"tools\":[{\"id\":\"1351\"},{\"id\":\"1368\"},{\"id\":\"1369\"},{\"id\":\"1370\"},{\"id\":\"1371\"},{\"id\":\"1372\"}]},\"id\":\"1374\",\"type\":\"Toolbar\"},{\"attributes\":{\"margin\":[5,5,5,5],\"name\":\"HSpacer02086\",\"sizing_mode\":\"stretch_width\"},\"id\":\"1348\",\"type\":\"Spacer\"},{\"attributes\":{},\"id\":\"1368\",\"type\":\"SaveTool\"},{\"attributes\":{},\"id\":\"1370\",\"type\":\"WheelZoomTool\"},{\"attributes\":{\"align\":null,\"below\":[{\"id\":\"1361\"}],\"center\":[{\"id\":\"1363\"},{\"id\":\"1367\"}],\"left\":[{\"id\":\"1364\"}],\"margin\":null,\"min_border_bottom\":10,\"min_border_left\":10,\"min_border_right\":10,\"min_border_top\":10,\"plot_height\":300,\"plot_width\":700,\"renderers\":[{\"id\":\"1387\"}],\"sizing_mode\":\"fixed\",\"title\":{\"id\":\"1353\"},\"toolbar\":{\"id\":\"1374\"},\"x_range\":{\"id\":\"1349\"},\"x_scale\":{\"id\":\"1357\"},\"y_range\":{\"id\":\"1350\"},\"y_scale\":{\"id\":\"1359\"}},\"id\":\"1352\",\"subtype\":\"Figure\",\"type\":\"Plot\"},{\"attributes\":{},\"id\":\"1369\",\"type\":\"PanTool\"},{\"attributes\":{},\"id\":\"1389\",\"type\":\"CategoricalTickFormatter\"},{\"attributes\":{},\"id\":\"1359\",\"type\":\"LinearScale\"},{\"attributes\":{\"overlay\":{\"id\":\"1373\"}},\"id\":\"1371\",\"type\":\"BoxZoomTool\"},{\"attributes\":{},\"id\":\"1399\",\"type\":\"UnionRenderers\"},{\"attributes\":{},\"id\":\"1357\",\"type\":\"CategoricalScale\"},{\"attributes\":{},\"id\":\"1382\",\"type\":\"Selection\"},{\"attributes\":{},\"id\":\"1372\",\"type\":\"ResetTool\"},{\"attributes\":{\"axis_label\":\"year\",\"bounds\":\"auto\",\"formatter\":{\"id\":\"1389\"},\"major_label_orientation\":\"horizontal\",\"ticker\":{\"id\":\"1362\"}},\"id\":\"1361\",\"type\":\"CategoricalAxis\"},{\"attributes\":{\"fill_alpha\":{\"value\":0.1},\"fill_color\":{\"value\":\"#1f77b3\"},\"line_alpha\":{\"value\":0.1},\"top\":{\"field\":\"housing_units\"},\"width\":{\"value\":0.8},\"x\":{\"field\":\"year\"}},\"id\":\"1385\",\"type\":\"VBar\"},{\"attributes\":{\"axis\":{\"id\":\"1361\"},\"grid_line_color\":null,\"ticker\":null},\"id\":\"1363\",\"type\":\"Grid\"},{\"attributes\":{\"factors\":[\"2010\",\"2011\",\"2012\",\"2013\",\"2014\",\"2015\",\"2016\"],\"tags\":[[[\"year\",\"year\",null]]]},\"id\":\"1349\",\"type\":\"FactorRange\"},{\"attributes\":{\"axis_label\":\"housing_units\",\"bounds\":\"auto\",\"formatter\":{\"id\":\"1392\"},\"major_label_orientation\":\"horizontal\",\"ticker\":{\"id\":\"1365\"}},\"id\":\"1364\",\"type\":\"LinearAxis\"},{\"attributes\":{\"end\":384242,\"reset_end\":384242,\"reset_start\":371560,\"start\":371560,\"tags\":[[[\"housing_units\",\"housing_units\",null]]]},\"id\":\"1350\",\"type\":\"Range1d\"},{\"attributes\":{},\"id\":\"1362\",\"type\":\"CategoricalTicker\"},{\"attributes\":{\"fill_alpha\":{\"value\":0.2},\"fill_color\":{\"value\":\"#1f77b3\"},\"line_alpha\":{\"value\":0.2},\"top\":{\"field\":\"housing_units\"},\"width\":{\"value\":0.8},\"x\":{\"field\":\"year\"}},\"id\":\"1386\",\"type\":\"VBar\"},{\"attributes\":{},\"id\":\"1392\",\"type\":\"BasicTickFormatter\"},{\"attributes\":{\"source\":{\"id\":\"1381\"}},\"id\":\"1388\",\"type\":\"CDSView\"},{\"attributes\":{},\"id\":\"1365\",\"type\":\"BasicTicker\"},{\"attributes\":{\"axis\":{\"id\":\"1364\"},\"dimension\":1,\"grid_line_color\":null,\"ticker\":null},\"id\":\"1367\",\"type\":\"Grid\"},{\"attributes\":{\"data\":{\"housing_units\":[372560,374507,376454,378401,380348,382295,384242],\"year\":[\"2010\",\"2011\",\"2012\",\"2013\",\"2014\",\"2015\",\"2016\"]},\"selected\":{\"id\":\"1382\"},\"selection_policy\":{\"id\":\"1399\"}},\"id\":\"1381\",\"type\":\"ColumnDataSource\"},{\"attributes\":{\"data_source\":{\"id\":\"1381\"},\"glyph\":{\"id\":\"1384\"},\"hover_glyph\":null,\"muted_glyph\":{\"id\":\"1386\"},\"nonselection_glyph\":{\"id\":\"1385\"},\"selection_glyph\":null,\"view\":{\"id\":\"1388\"}},\"id\":\"1387\",\"type\":\"GlyphRenderer\"}],\"root_ids\":[\"1347\"]},\"title\":\"Bokeh Application\",\"version\":\"2.1.1\"}};\n  var render_items = [{\"docid\":\"1b48e82f-54c6-4fb0-a94f-c59013092b0e\",\"root_ids\":[\"1347\"],\"roots\":{\"1347\":\"27f43260-38bf-4e9b-8907-1ca5a91523f1\"}}];\n  root.Bokeh.embed.embed_items_notebook(docs_json, render_items);\n  }\nif (root.Bokeh !== undefined) {\n    embed_document(root);\n  } else {\n    var attempts = 0;\n    var timer = setInterval(function(root) {\n      if (root.Bokeh !== undefined) {\n        clearInterval(timer);\n        embed_document(root);\n      } else if (document.readyState == \"complete\") {\n        attempts++;\n        if (attempts > 100) {\n          clearInterval(timer);\n          console.log(\"Bokeh: ERROR: Unable to run BokehJS code because BokehJS library is missing\");\n        }\n      }\n    }, 10, root)\n  }\n})(window);</script>",
      "application/vnd.holoviews_exec.v0+json": "",
      "text/plain": [
       ":Bars   [year]   (housing_units)"
      ]
     },
     "metadata": {
      "application/vnd.holoviews_exec.v0+json": {
       "id": "1347"
      }
     },
     "execution_count": 42
    }
   ],
   "source": [
    "# Use the Pandas plot function to plot the average housing units per year.\n",
    "# Note: You will need to manually adjust the y limit of the chart using the min and max values from above.\n",
    "sfogroupby.hvplot.bar('year', 'housing_units', xlabel =\"year\" , ylabel=\"housing_units\" , ylim=(sfogroupby.housing_units.min()-1000, sfogroupby.housing_units.max()))\n",
    "\n",
    "#housingmean.hvplot.bar()\n",
    "\n",
    "# Optional Challenge: Use the min, max, and std to scale the y limits of the chart\n",
    "# YOUR CODE HERE!\n",
    "\n",
    "\n",
    "#plt.show()\n",
    "#plt.close(fig_housing_units)"
   ]
  },
  {
   "cell_type": "markdown",
   "metadata": {},
   "source": [
    "- - - "
   ]
  },
  {
   "cell_type": "markdown",
   "metadata": {},
   "source": [
    "## Average Prices per Square Foot\n",
    "\n",
    "In this section, you will calculate the average gross rent and average sales price for each year. Plot the results as a line chart."
   ]
  },
  {
   "cell_type": "markdown",
   "metadata": {},
   "source": [
    "### Average Gross Rent in San Francisco Per Year"
   ]
  },
  {
   "cell_type": "code",
   "execution_count": 43,
   "metadata": {},
   "outputs": [
    {
     "output_type": "execute_result",
     "data": {
      "text/plain": [
       "   year  sale_price_sqr_foot  housing_units  gross_rent\n",
       "0  2010           369.344353         372560        1239\n",
       "1  2011           341.903429         374507        1530\n",
       "2  2012           399.389968         376454        2324\n",
       "3  2013           483.600304         378401        2971\n",
       "4  2014           556.277273         380348        3528\n",
       "5  2015           632.540352         382295        3739\n",
       "6  2016           697.643709         384242        4390"
      ],
      "text/html": "<div>\n<style scoped>\n    .dataframe tbody tr th:only-of-type {\n        vertical-align: middle;\n    }\n\n    .dataframe tbody tr th {\n        vertical-align: top;\n    }\n\n    .dataframe thead th {\n        text-align: right;\n    }\n</style>\n<table border=\"1\" class=\"dataframe\">\n  <thead>\n    <tr style=\"text-align: right;\">\n      <th></th>\n      <th>year</th>\n      <th>sale_price_sqr_foot</th>\n      <th>housing_units</th>\n      <th>gross_rent</th>\n    </tr>\n  </thead>\n  <tbody>\n    <tr>\n      <th>0</th>\n      <td>2010</td>\n      <td>369.344353</td>\n      <td>372560</td>\n      <td>1239</td>\n    </tr>\n    <tr>\n      <th>1</th>\n      <td>2011</td>\n      <td>341.903429</td>\n      <td>374507</td>\n      <td>1530</td>\n    </tr>\n    <tr>\n      <th>2</th>\n      <td>2012</td>\n      <td>399.389968</td>\n      <td>376454</td>\n      <td>2324</td>\n    </tr>\n    <tr>\n      <th>3</th>\n      <td>2013</td>\n      <td>483.600304</td>\n      <td>378401</td>\n      <td>2971</td>\n    </tr>\n    <tr>\n      <th>4</th>\n      <td>2014</td>\n      <td>556.277273</td>\n      <td>380348</td>\n      <td>3528</td>\n    </tr>\n    <tr>\n      <th>5</th>\n      <td>2015</td>\n      <td>632.540352</td>\n      <td>382295</td>\n      <td>3739</td>\n    </tr>\n    <tr>\n      <th>6</th>\n      <td>2016</td>\n      <td>697.643709</td>\n      <td>384242</td>\n      <td>4390</td>\n    </tr>\n  </tbody>\n</table>\n</div>"
     },
     "metadata": {},
     "execution_count": 43
    }
   ],
   "source": [
    "# Calculate the average gross rent and average sale price per square foot\n",
    "#sfo_data.drop(columns=['neighborhood', 'housing_units'], inplace=True)\n",
    "#sfo_data.head()\n",
    "\n",
    "sfogroupby\n",
    "#sfo_data.head()"
   ]
  },
  {
   "cell_type": "code",
   "execution_count": 44,
   "metadata": {},
   "outputs": [
    {
     "output_type": "execute_result",
     "data": {
      "text/plain": [
       "<matplotlib.axes._subplots.AxesSubplot at 0x231cbb002c8>"
      ]
     },
     "metadata": {},
     "execution_count": 44
    },
    {
     "output_type": "display_data",
     "data": {
      "text/plain": "<Figure size 432x288 with 1 Axes>",
      "image/svg+xml": "<?xml version=\"1.0\" encoding=\"utf-8\" standalone=\"no\"?>\r\n<!DOCTYPE svg PUBLIC \"-//W3C//DTD SVG 1.1//EN\"\r\n  \"http://www.w3.org/Graphics/SVG/1.1/DTD/svg11.dtd\">\r\n<!-- Created with matplotlib (https://matplotlib.org/) -->\r\n<svg height=\"252.018125pt\" version=\"1.1\" viewBox=\"0 0 385.15 252.018125\" width=\"385.15pt\" xmlns=\"http://www.w3.org/2000/svg\" xmlns:xlink=\"http://www.w3.org/1999/xlink\">\r\n <defs>\r\n  <style type=\"text/css\">\r\n*{stroke-linecap:butt;stroke-linejoin:round;}\r\n  </style>\r\n </defs>\r\n <g id=\"figure_1\">\r\n  <g id=\"patch_1\">\r\n   <path d=\"M -0 252.018125 \r\nL 385.15 252.018125 \r\nL 385.15 0 \r\nL -0 0 \r\nz\r\n\" style=\"fill:none;\"/>\r\n  </g>\r\n  <g id=\"axes_1\">\r\n   <g id=\"patch_2\">\r\n    <path d=\"M 39.65 228.14 \r\nL 374.45 228.14 \r\nL 374.45 10.7 \r\nL 39.65 10.7 \r\nz\r\n\" style=\"fill:#ffffff;\"/>\r\n   </g>\r\n   <g id=\"matplotlib.axis_1\">\r\n    <g id=\"xtick_1\">\r\n     <g id=\"line2d_1\">\r\n      <defs>\r\n       <path d=\"M 0 0 \r\nL 0 3.5 \r\n\" id=\"mf0fef25c73\" style=\"stroke:#000000;stroke-width:0.8;\"/>\r\n      </defs>\r\n      <g>\r\n       <use style=\"stroke:#000000;stroke-width:0.8;\" x=\"39.65\" xlink:href=\"#mf0fef25c73\" y=\"228.14\"/>\r\n      </g>\r\n     </g>\r\n     <g id=\"text_1\">\r\n      <!-- 0 -->\r\n      <defs>\r\n       <path d=\"M 31.78125 66.40625 \r\nQ 24.171875 66.40625 20.328125 58.90625 \r\nQ 16.5 51.421875 16.5 36.375 \r\nQ 16.5 21.390625 20.328125 13.890625 \r\nQ 24.171875 6.390625 31.78125 6.390625 \r\nQ 39.453125 6.390625 43.28125 13.890625 \r\nQ 47.125 21.390625 47.125 36.375 \r\nQ 47.125 51.421875 43.28125 58.90625 \r\nQ 39.453125 66.40625 31.78125 66.40625 \r\nz\r\nM 31.78125 74.21875 \r\nQ 44.046875 74.21875 50.515625 64.515625 \r\nQ 56.984375 54.828125 56.984375 36.375 \r\nQ 56.984375 17.96875 50.515625 8.265625 \r\nQ 44.046875 -1.421875 31.78125 -1.421875 \r\nQ 19.53125 -1.421875 13.0625 8.265625 \r\nQ 6.59375 17.96875 6.59375 36.375 \r\nQ 6.59375 54.828125 13.0625 64.515625 \r\nQ 19.53125 74.21875 31.78125 74.21875 \r\nz\r\n\" id=\"DejaVuSans-48\"/>\r\n      </defs>\r\n      <g transform=\"translate(36.46875 242.738437)scale(0.1 -0.1)\">\r\n       <use xlink:href=\"#DejaVuSans-48\"/>\r\n      </g>\r\n     </g>\r\n    </g>\r\n    <g id=\"xtick_2\">\r\n     <g id=\"line2d_2\">\r\n      <g>\r\n       <use style=\"stroke:#000000;stroke-width:0.8;\" x=\"95.45\" xlink:href=\"#mf0fef25c73\" y=\"228.14\"/>\r\n      </g>\r\n     </g>\r\n     <g id=\"text_2\">\r\n      <!-- 1 -->\r\n      <defs>\r\n       <path d=\"M 12.40625 8.296875 \r\nL 28.515625 8.296875 \r\nL 28.515625 63.921875 \r\nL 10.984375 60.40625 \r\nL 10.984375 69.390625 \r\nL 28.421875 72.90625 \r\nL 38.28125 72.90625 \r\nL 38.28125 8.296875 \r\nL 54.390625 8.296875 \r\nL 54.390625 0 \r\nL 12.40625 0 \r\nz\r\n\" id=\"DejaVuSans-49\"/>\r\n      </defs>\r\n      <g transform=\"translate(92.26875 242.738437)scale(0.1 -0.1)\">\r\n       <use xlink:href=\"#DejaVuSans-49\"/>\r\n      </g>\r\n     </g>\r\n    </g>\r\n    <g id=\"xtick_3\">\r\n     <g id=\"line2d_3\">\r\n      <g>\r\n       <use style=\"stroke:#000000;stroke-width:0.8;\" x=\"151.25\" xlink:href=\"#mf0fef25c73\" y=\"228.14\"/>\r\n      </g>\r\n     </g>\r\n     <g id=\"text_3\">\r\n      <!-- 2 -->\r\n      <defs>\r\n       <path d=\"M 19.1875 8.296875 \r\nL 53.609375 8.296875 \r\nL 53.609375 0 \r\nL 7.328125 0 \r\nL 7.328125 8.296875 \r\nQ 12.9375 14.109375 22.625 23.890625 \r\nQ 32.328125 33.6875 34.8125 36.53125 \r\nQ 39.546875 41.84375 41.421875 45.53125 \r\nQ 43.3125 49.21875 43.3125 52.78125 \r\nQ 43.3125 58.59375 39.234375 62.25 \r\nQ 35.15625 65.921875 28.609375 65.921875 \r\nQ 23.96875 65.921875 18.8125 64.3125 \r\nQ 13.671875 62.703125 7.8125 59.421875 \r\nL 7.8125 69.390625 \r\nQ 13.765625 71.78125 18.9375 73 \r\nQ 24.125 74.21875 28.421875 74.21875 \r\nQ 39.75 74.21875 46.484375 68.546875 \r\nQ 53.21875 62.890625 53.21875 53.421875 \r\nQ 53.21875 48.921875 51.53125 44.890625 \r\nQ 49.859375 40.875 45.40625 35.40625 \r\nQ 44.1875 33.984375 37.640625 27.21875 \r\nQ 31.109375 20.453125 19.1875 8.296875 \r\nz\r\n\" id=\"DejaVuSans-50\"/>\r\n      </defs>\r\n      <g transform=\"translate(148.06875 242.738437)scale(0.1 -0.1)\">\r\n       <use xlink:href=\"#DejaVuSans-50\"/>\r\n      </g>\r\n     </g>\r\n    </g>\r\n    <g id=\"xtick_4\">\r\n     <g id=\"line2d_4\">\r\n      <g>\r\n       <use style=\"stroke:#000000;stroke-width:0.8;\" x=\"207.05\" xlink:href=\"#mf0fef25c73\" y=\"228.14\"/>\r\n      </g>\r\n     </g>\r\n     <g id=\"text_4\">\r\n      <!-- 3 -->\r\n      <defs>\r\n       <path d=\"M 40.578125 39.3125 \r\nQ 47.65625 37.796875 51.625 33 \r\nQ 55.609375 28.21875 55.609375 21.1875 \r\nQ 55.609375 10.40625 48.1875 4.484375 \r\nQ 40.765625 -1.421875 27.09375 -1.421875 \r\nQ 22.515625 -1.421875 17.65625 -0.515625 \r\nQ 12.796875 0.390625 7.625 2.203125 \r\nL 7.625 11.71875 \r\nQ 11.71875 9.328125 16.59375 8.109375 \r\nQ 21.484375 6.890625 26.8125 6.890625 \r\nQ 36.078125 6.890625 40.9375 10.546875 \r\nQ 45.796875 14.203125 45.796875 21.1875 \r\nQ 45.796875 27.640625 41.28125 31.265625 \r\nQ 36.765625 34.90625 28.71875 34.90625 \r\nL 20.21875 34.90625 \r\nL 20.21875 43.015625 \r\nL 29.109375 43.015625 \r\nQ 36.375 43.015625 40.234375 45.921875 \r\nQ 44.09375 48.828125 44.09375 54.296875 \r\nQ 44.09375 59.90625 40.109375 62.90625 \r\nQ 36.140625 65.921875 28.71875 65.921875 \r\nQ 24.65625 65.921875 20.015625 65.03125 \r\nQ 15.375 64.15625 9.8125 62.3125 \r\nL 9.8125 71.09375 \r\nQ 15.4375 72.65625 20.34375 73.4375 \r\nQ 25.25 74.21875 29.59375 74.21875 \r\nQ 40.828125 74.21875 47.359375 69.109375 \r\nQ 53.90625 64.015625 53.90625 55.328125 \r\nQ 53.90625 49.265625 50.4375 45.09375 \r\nQ 46.96875 40.921875 40.578125 39.3125 \r\nz\r\n\" id=\"DejaVuSans-51\"/>\r\n      </defs>\r\n      <g transform=\"translate(203.86875 242.738437)scale(0.1 -0.1)\">\r\n       <use xlink:href=\"#DejaVuSans-51\"/>\r\n      </g>\r\n     </g>\r\n    </g>\r\n    <g id=\"xtick_5\">\r\n     <g id=\"line2d_5\">\r\n      <g>\r\n       <use style=\"stroke:#000000;stroke-width:0.8;\" x=\"262.85\" xlink:href=\"#mf0fef25c73\" y=\"228.14\"/>\r\n      </g>\r\n     </g>\r\n     <g id=\"text_5\">\r\n      <!-- 4 -->\r\n      <defs>\r\n       <path d=\"M 37.796875 64.3125 \r\nL 12.890625 25.390625 \r\nL 37.796875 25.390625 \r\nz\r\nM 35.203125 72.90625 \r\nL 47.609375 72.90625 \r\nL 47.609375 25.390625 \r\nL 58.015625 25.390625 \r\nL 58.015625 17.1875 \r\nL 47.609375 17.1875 \r\nL 47.609375 0 \r\nL 37.796875 0 \r\nL 37.796875 17.1875 \r\nL 4.890625 17.1875 \r\nL 4.890625 26.703125 \r\nz\r\n\" id=\"DejaVuSans-52\"/>\r\n      </defs>\r\n      <g transform=\"translate(259.66875 242.738437)scale(0.1 -0.1)\">\r\n       <use xlink:href=\"#DejaVuSans-52\"/>\r\n      </g>\r\n     </g>\r\n    </g>\r\n    <g id=\"xtick_6\">\r\n     <g id=\"line2d_6\">\r\n      <g>\r\n       <use style=\"stroke:#000000;stroke-width:0.8;\" x=\"318.65\" xlink:href=\"#mf0fef25c73\" y=\"228.14\"/>\r\n      </g>\r\n     </g>\r\n     <g id=\"text_6\">\r\n      <!-- 5 -->\r\n      <defs>\r\n       <path d=\"M 10.796875 72.90625 \r\nL 49.515625 72.90625 \r\nL 49.515625 64.59375 \r\nL 19.828125 64.59375 \r\nL 19.828125 46.734375 \r\nQ 21.96875 47.46875 24.109375 47.828125 \r\nQ 26.265625 48.1875 28.421875 48.1875 \r\nQ 40.625 48.1875 47.75 41.5 \r\nQ 54.890625 34.8125 54.890625 23.390625 \r\nQ 54.890625 11.625 47.5625 5.09375 \r\nQ 40.234375 -1.421875 26.90625 -1.421875 \r\nQ 22.3125 -1.421875 17.546875 -0.640625 \r\nQ 12.796875 0.140625 7.71875 1.703125 \r\nL 7.71875 11.625 \r\nQ 12.109375 9.234375 16.796875 8.0625 \r\nQ 21.484375 6.890625 26.703125 6.890625 \r\nQ 35.15625 6.890625 40.078125 11.328125 \r\nQ 45.015625 15.765625 45.015625 23.390625 \r\nQ 45.015625 31 40.078125 35.4375 \r\nQ 35.15625 39.890625 26.703125 39.890625 \r\nQ 22.75 39.890625 18.8125 39.015625 \r\nQ 14.890625 38.140625 10.796875 36.28125 \r\nz\r\n\" id=\"DejaVuSans-53\"/>\r\n      </defs>\r\n      <g transform=\"translate(315.46875 242.738437)scale(0.1 -0.1)\">\r\n       <use xlink:href=\"#DejaVuSans-53\"/>\r\n      </g>\r\n     </g>\r\n    </g>\r\n    <g id=\"xtick_7\">\r\n     <g id=\"line2d_7\">\r\n      <g>\r\n       <use style=\"stroke:#000000;stroke-width:0.8;\" x=\"374.45\" xlink:href=\"#mf0fef25c73\" y=\"228.14\"/>\r\n      </g>\r\n     </g>\r\n     <g id=\"text_7\">\r\n      <!-- 6 -->\r\n      <defs>\r\n       <path d=\"M 33.015625 40.375 \r\nQ 26.375 40.375 22.484375 35.828125 \r\nQ 18.609375 31.296875 18.609375 23.390625 \r\nQ 18.609375 15.53125 22.484375 10.953125 \r\nQ 26.375 6.390625 33.015625 6.390625 \r\nQ 39.65625 6.390625 43.53125 10.953125 \r\nQ 47.40625 15.53125 47.40625 23.390625 \r\nQ 47.40625 31.296875 43.53125 35.828125 \r\nQ 39.65625 40.375 33.015625 40.375 \r\nz\r\nM 52.59375 71.296875 \r\nL 52.59375 62.3125 \r\nQ 48.875 64.0625 45.09375 64.984375 \r\nQ 41.3125 65.921875 37.59375 65.921875 \r\nQ 27.828125 65.921875 22.671875 59.328125 \r\nQ 17.53125 52.734375 16.796875 39.40625 \r\nQ 19.671875 43.65625 24.015625 45.921875 \r\nQ 28.375 48.1875 33.59375 48.1875 \r\nQ 44.578125 48.1875 50.953125 41.515625 \r\nQ 57.328125 34.859375 57.328125 23.390625 \r\nQ 57.328125 12.15625 50.6875 5.359375 \r\nQ 44.046875 -1.421875 33.015625 -1.421875 \r\nQ 20.359375 -1.421875 13.671875 8.265625 \r\nQ 6.984375 17.96875 6.984375 36.375 \r\nQ 6.984375 53.65625 15.1875 63.9375 \r\nQ 23.390625 74.21875 37.203125 74.21875 \r\nQ 40.921875 74.21875 44.703125 73.484375 \r\nQ 48.484375 72.75 52.59375 71.296875 \r\nz\r\n\" id=\"DejaVuSans-54\"/>\r\n      </defs>\r\n      <g transform=\"translate(371.26875 242.738437)scale(0.1 -0.1)\">\r\n       <use xlink:href=\"#DejaVuSans-54\"/>\r\n      </g>\r\n     </g>\r\n    </g>\r\n   </g>\r\n   <g id=\"matplotlib.axis_2\">\r\n    <g id=\"ytick_1\">\r\n     <g id=\"line2d_8\">\r\n      <defs>\r\n       <path d=\"M 0 0 \r\nL -3.5 0 \r\n\" id=\"m1ef4f60cda\" style=\"stroke:#000000;stroke-width:0.8;\"/>\r\n      </defs>\r\n      <g>\r\n       <use style=\"stroke:#000000;stroke-width:0.8;\" x=\"39.65\" xlink:href=\"#m1ef4f60cda\" y=\"201.882964\"/>\r\n      </g>\r\n     </g>\r\n     <g id=\"text_8\">\r\n      <!-- 1500 -->\r\n      <g transform=\"translate(7.2 205.682183)scale(0.1 -0.1)\">\r\n       <use xlink:href=\"#DejaVuSans-49\"/>\r\n       <use x=\"63.623047\" xlink:href=\"#DejaVuSans-53\"/>\r\n       <use x=\"127.246094\" xlink:href=\"#DejaVuSans-48\"/>\r\n       <use x=\"190.869141\" xlink:href=\"#DejaVuSans-48\"/>\r\n      </g>\r\n     </g>\r\n    </g>\r\n    <g id=\"ytick_2\">\r\n     <g id=\"line2d_9\">\r\n      <g>\r\n       <use style=\"stroke:#000000;stroke-width:0.8;\" x=\"39.65\" xlink:href=\"#m1ef4f60cda\" y=\"170.516298\"/>\r\n      </g>\r\n     </g>\r\n     <g id=\"text_9\">\r\n      <!-- 2000 -->\r\n      <g transform=\"translate(7.2 174.315517)scale(0.1 -0.1)\">\r\n       <use xlink:href=\"#DejaVuSans-50\"/>\r\n       <use x=\"63.623047\" xlink:href=\"#DejaVuSans-48\"/>\r\n       <use x=\"127.246094\" xlink:href=\"#DejaVuSans-48\"/>\r\n       <use x=\"190.869141\" xlink:href=\"#DejaVuSans-48\"/>\r\n      </g>\r\n     </g>\r\n    </g>\r\n    <g id=\"ytick_3\">\r\n     <g id=\"line2d_10\">\r\n      <g>\r\n       <use style=\"stroke:#000000;stroke-width:0.8;\" x=\"39.65\" xlink:href=\"#m1ef4f60cda\" y=\"139.149633\"/>\r\n      </g>\r\n     </g>\r\n     <g id=\"text_10\">\r\n      <!-- 2500 -->\r\n      <g transform=\"translate(7.2 142.948851)scale(0.1 -0.1)\">\r\n       <use xlink:href=\"#DejaVuSans-50\"/>\r\n       <use x=\"63.623047\" xlink:href=\"#DejaVuSans-53\"/>\r\n       <use x=\"127.246094\" xlink:href=\"#DejaVuSans-48\"/>\r\n       <use x=\"190.869141\" xlink:href=\"#DejaVuSans-48\"/>\r\n      </g>\r\n     </g>\r\n    </g>\r\n    <g id=\"ytick_4\">\r\n     <g id=\"line2d_11\">\r\n      <g>\r\n       <use style=\"stroke:#000000;stroke-width:0.8;\" x=\"39.65\" xlink:href=\"#m1ef4f60cda\" y=\"107.782967\"/>\r\n      </g>\r\n     </g>\r\n     <g id=\"text_11\">\r\n      <!-- 3000 -->\r\n      <g transform=\"translate(7.2 111.582186)scale(0.1 -0.1)\">\r\n       <use xlink:href=\"#DejaVuSans-51\"/>\r\n       <use x=\"63.623047\" xlink:href=\"#DejaVuSans-48\"/>\r\n       <use x=\"127.246094\" xlink:href=\"#DejaVuSans-48\"/>\r\n       <use x=\"190.869141\" xlink:href=\"#DejaVuSans-48\"/>\r\n      </g>\r\n     </g>\r\n    </g>\r\n    <g id=\"ytick_5\">\r\n     <g id=\"line2d_12\">\r\n      <g>\r\n       <use style=\"stroke:#000000;stroke-width:0.8;\" x=\"39.65\" xlink:href=\"#m1ef4f60cda\" y=\"76.416301\"/>\r\n      </g>\r\n     </g>\r\n     <g id=\"text_12\">\r\n      <!-- 3500 -->\r\n      <g transform=\"translate(7.2 80.21552)scale(0.1 -0.1)\">\r\n       <use xlink:href=\"#DejaVuSans-51\"/>\r\n       <use x=\"63.623047\" xlink:href=\"#DejaVuSans-53\"/>\r\n       <use x=\"127.246094\" xlink:href=\"#DejaVuSans-48\"/>\r\n       <use x=\"190.869141\" xlink:href=\"#DejaVuSans-48\"/>\r\n      </g>\r\n     </g>\r\n    </g>\r\n    <g id=\"ytick_6\">\r\n     <g id=\"line2d_13\">\r\n      <g>\r\n       <use style=\"stroke:#000000;stroke-width:0.8;\" x=\"39.65\" xlink:href=\"#m1ef4f60cda\" y=\"45.049636\"/>\r\n      </g>\r\n     </g>\r\n     <g id=\"text_13\">\r\n      <!-- 4000 -->\r\n      <g transform=\"translate(7.2 48.848854)scale(0.1 -0.1)\">\r\n       <use xlink:href=\"#DejaVuSans-52\"/>\r\n       <use x=\"63.623047\" xlink:href=\"#DejaVuSans-48\"/>\r\n       <use x=\"127.246094\" xlink:href=\"#DejaVuSans-48\"/>\r\n       <use x=\"190.869141\" xlink:href=\"#DejaVuSans-48\"/>\r\n      </g>\r\n     </g>\r\n    </g>\r\n    <g id=\"ytick_7\">\r\n     <g id=\"line2d_14\">\r\n      <g>\r\n       <use style=\"stroke:#000000;stroke-width:0.8;\" x=\"39.65\" xlink:href=\"#m1ef4f60cda\" y=\"13.68297\"/>\r\n      </g>\r\n     </g>\r\n     <g id=\"text_14\">\r\n      <!-- 4500 -->\r\n      <g transform=\"translate(7.2 17.482189)scale(0.1 -0.1)\">\r\n       <use xlink:href=\"#DejaVuSans-52\"/>\r\n       <use x=\"63.623047\" xlink:href=\"#DejaVuSans-53\"/>\r\n       <use x=\"127.246094\" xlink:href=\"#DejaVuSans-48\"/>\r\n       <use x=\"190.869141\" xlink:href=\"#DejaVuSans-48\"/>\r\n      </g>\r\n     </g>\r\n    </g>\r\n   </g>\r\n   <g id=\"line2d_15\">\r\n    <path clip-path=\"url(#p235a67981c)\" d=\"M 39.65 218.256364 \r\nL 95.45 200.000964 \r\nL 151.25 150.190699 \r\nL 207.05 109.602234 \r\nL 262.85 74.659768 \r\nL 318.65 61.423035 \r\nL 374.45 20.583636 \r\n\" style=\"fill:none;stroke:#1f77b4;stroke-linecap:square;stroke-width:1.5;\"/>\r\n   </g>\r\n   <g id=\"patch_3\">\r\n    <path d=\"M 39.65 228.14 \r\nL 39.65 10.7 \r\n\" style=\"fill:none;stroke:#000000;stroke-linecap:square;stroke-linejoin:miter;stroke-width:0.8;\"/>\r\n   </g>\r\n   <g id=\"patch_4\">\r\n    <path d=\"M 374.45 228.14 \r\nL 374.45 10.7 \r\n\" style=\"fill:none;stroke:#000000;stroke-linecap:square;stroke-linejoin:miter;stroke-width:0.8;\"/>\r\n   </g>\r\n   <g id=\"patch_5\">\r\n    <path d=\"M 39.65 228.14 \r\nL 374.45 228.14 \r\n\" style=\"fill:none;stroke:#000000;stroke-linecap:square;stroke-linejoin:miter;stroke-width:0.8;\"/>\r\n   </g>\r\n   <g id=\"patch_6\">\r\n    <path d=\"M 39.65 10.7 \r\nL 374.45 10.7 \r\n\" style=\"fill:none;stroke:#000000;stroke-linecap:square;stroke-linejoin:miter;stroke-width:0.8;\"/>\r\n   </g>\r\n  </g>\r\n </g>\r\n <defs>\r\n  <clipPath id=\"p235a67981c\">\r\n   <rect height=\"217.44\" width=\"334.8\" x=\"39.65\" y=\"10.7\"/>\r\n  </clipPath>\r\n </defs>\r\n</svg>\r\n",
      "image/png": "[encoded data removed]"
     },
     "metadata": {
      "needs_background": "light"
     }
    }
   ],
   "source": [
    "# Plot the Average Gross Rent per Year as a Line Chart \n",
    "sfogroupby.gross_rent.plot()"
   ]
  },
  {
   "cell_type": "markdown",
   "metadata": {},
   "source": [
    "### Average Sales Price per Year"
   ]
  },
  {
   "cell_type": "code",
   "execution_count": 45,
   "metadata": {},
   "outputs": [
    {
     "output_type": "execute_result",
     "data": {
      "text/plain": [
       "<matplotlib.axes._subplots.AxesSubplot at 0x231cbba5b08>"
      ]
     },
     "metadata": {},
     "execution_count": 45
    },
    {
     "output_type": "display_data",
     "data": {
      "text/plain": "<Figure size 432x288 with 1 Axes>",
      "image/svg+xml": "<?xml version=\"1.0\" encoding=\"utf-8\" standalone=\"no\"?>\r\n<!DOCTYPE svg PUBLIC \"-//W3C//DTD SVG 1.1//EN\"\r\n  \"http://www.w3.org/Graphics/SVG/1.1/DTD/svg11.dtd\">\r\n<!-- Created with matplotlib (https://matplotlib.org/) -->\r\n<svg height=\"252.018125pt\" version=\"1.1\" viewBox=\"0 0 378.7875 252.018125\" width=\"378.7875pt\" xmlns=\"http://www.w3.org/2000/svg\" xmlns:xlink=\"http://www.w3.org/1999/xlink\">\r\n <defs>\r\n  <style type=\"text/css\">\r\n*{stroke-linecap:butt;stroke-linejoin:round;}\r\n  </style>\r\n </defs>\r\n <g id=\"figure_1\">\r\n  <g id=\"patch_1\">\r\n   <path d=\"M 0 252.018125 \r\nL 378.7875 252.018125 \r\nL 378.7875 0 \r\nL 0 0 \r\nz\r\n\" style=\"fill:none;\"/>\r\n  </g>\r\n  <g id=\"axes_1\">\r\n   <g id=\"patch_2\">\r\n    <path d=\"M 33.2875 228.14 \r\nL 368.0875 228.14 \r\nL 368.0875 10.7 \r\nL 33.2875 10.7 \r\nz\r\n\" style=\"fill:#ffffff;\"/>\r\n   </g>\r\n   <g id=\"matplotlib.axis_1\">\r\n    <g id=\"xtick_1\">\r\n     <g id=\"line2d_1\">\r\n      <defs>\r\n       <path d=\"M 0 0 \r\nL 0 3.5 \r\n\" id=\"m15f13fa112\" style=\"stroke:#000000;stroke-width:0.8;\"/>\r\n      </defs>\r\n      <g>\r\n       <use style=\"stroke:#000000;stroke-width:0.8;\" x=\"33.2875\" xlink:href=\"#m15f13fa112\" y=\"228.14\"/>\r\n      </g>\r\n     </g>\r\n     <g id=\"text_1\">\r\n      <!-- 0 -->\r\n      <defs>\r\n       <path d=\"M 31.78125 66.40625 \r\nQ 24.171875 66.40625 20.328125 58.90625 \r\nQ 16.5 51.421875 16.5 36.375 \r\nQ 16.5 21.390625 20.328125 13.890625 \r\nQ 24.171875 6.390625 31.78125 6.390625 \r\nQ 39.453125 6.390625 43.28125 13.890625 \r\nQ 47.125 21.390625 47.125 36.375 \r\nQ 47.125 51.421875 43.28125 58.90625 \r\nQ 39.453125 66.40625 31.78125 66.40625 \r\nz\r\nM 31.78125 74.21875 \r\nQ 44.046875 74.21875 50.515625 64.515625 \r\nQ 56.984375 54.828125 56.984375 36.375 \r\nQ 56.984375 17.96875 50.515625 8.265625 \r\nQ 44.046875 -1.421875 31.78125 -1.421875 \r\nQ 19.53125 -1.421875 13.0625 8.265625 \r\nQ 6.59375 17.96875 6.59375 36.375 \r\nQ 6.59375 54.828125 13.0625 64.515625 \r\nQ 19.53125 74.21875 31.78125 74.21875 \r\nz\r\n\" id=\"DejaVuSans-48\"/>\r\n      </defs>\r\n      <g transform=\"translate(30.10625 242.738437)scale(0.1 -0.1)\">\r\n       <use xlink:href=\"#DejaVuSans-48\"/>\r\n      </g>\r\n     </g>\r\n    </g>\r\n    <g id=\"xtick_2\">\r\n     <g id=\"line2d_2\">\r\n      <g>\r\n       <use style=\"stroke:#000000;stroke-width:0.8;\" x=\"89.0875\" xlink:href=\"#m15f13fa112\" y=\"228.14\"/>\r\n      </g>\r\n     </g>\r\n     <g id=\"text_2\">\r\n      <!-- 1 -->\r\n      <defs>\r\n       <path d=\"M 12.40625 8.296875 \r\nL 28.515625 8.296875 \r\nL 28.515625 63.921875 \r\nL 10.984375 60.40625 \r\nL 10.984375 69.390625 \r\nL 28.421875 72.90625 \r\nL 38.28125 72.90625 \r\nL 38.28125 8.296875 \r\nL 54.390625 8.296875 \r\nL 54.390625 0 \r\nL 12.40625 0 \r\nz\r\n\" id=\"DejaVuSans-49\"/>\r\n      </defs>\r\n      <g transform=\"translate(85.90625 242.738437)scale(0.1 -0.1)\">\r\n       <use xlink:href=\"#DejaVuSans-49\"/>\r\n      </g>\r\n     </g>\r\n    </g>\r\n    <g id=\"xtick_3\">\r\n     <g id=\"line2d_3\">\r\n      <g>\r\n       <use style=\"stroke:#000000;stroke-width:0.8;\" x=\"144.8875\" xlink:href=\"#m15f13fa112\" y=\"228.14\"/>\r\n      </g>\r\n     </g>\r\n     <g id=\"text_3\">\r\n      <!-- 2 -->\r\n      <defs>\r\n       <path d=\"M 19.1875 8.296875 \r\nL 53.609375 8.296875 \r\nL 53.609375 0 \r\nL 7.328125 0 \r\nL 7.328125 8.296875 \r\nQ 12.9375 14.109375 22.625 23.890625 \r\nQ 32.328125 33.6875 34.8125 36.53125 \r\nQ 39.546875 41.84375 41.421875 45.53125 \r\nQ 43.3125 49.21875 43.3125 52.78125 \r\nQ 43.3125 58.59375 39.234375 62.25 \r\nQ 35.15625 65.921875 28.609375 65.921875 \r\nQ 23.96875 65.921875 18.8125 64.3125 \r\nQ 13.671875 62.703125 7.8125 59.421875 \r\nL 7.8125 69.390625 \r\nQ 13.765625 71.78125 18.9375 73 \r\nQ 24.125 74.21875 28.421875 74.21875 \r\nQ 39.75 74.21875 46.484375 68.546875 \r\nQ 53.21875 62.890625 53.21875 53.421875 \r\nQ 53.21875 48.921875 51.53125 44.890625 \r\nQ 49.859375 40.875 45.40625 35.40625 \r\nQ 44.1875 33.984375 37.640625 27.21875 \r\nQ 31.109375 20.453125 19.1875 8.296875 \r\nz\r\n\" id=\"DejaVuSans-50\"/>\r\n      </defs>\r\n      <g transform=\"translate(141.70625 242.738437)scale(0.1 -0.1)\">\r\n       <use xlink:href=\"#DejaVuSans-50\"/>\r\n      </g>\r\n     </g>\r\n    </g>\r\n    <g id=\"xtick_4\">\r\n     <g id=\"line2d_4\">\r\n      <g>\r\n       <use style=\"stroke:#000000;stroke-width:0.8;\" x=\"200.6875\" xlink:href=\"#m15f13fa112\" y=\"228.14\"/>\r\n      </g>\r\n     </g>\r\n     <g id=\"text_4\">\r\n      <!-- 3 -->\r\n      <defs>\r\n       <path d=\"M 40.578125 39.3125 \r\nQ 47.65625 37.796875 51.625 33 \r\nQ 55.609375 28.21875 55.609375 21.1875 \r\nQ 55.609375 10.40625 48.1875 4.484375 \r\nQ 40.765625 -1.421875 27.09375 -1.421875 \r\nQ 22.515625 -1.421875 17.65625 -0.515625 \r\nQ 12.796875 0.390625 7.625 2.203125 \r\nL 7.625 11.71875 \r\nQ 11.71875 9.328125 16.59375 8.109375 \r\nQ 21.484375 6.890625 26.8125 6.890625 \r\nQ 36.078125 6.890625 40.9375 10.546875 \r\nQ 45.796875 14.203125 45.796875 21.1875 \r\nQ 45.796875 27.640625 41.28125 31.265625 \r\nQ 36.765625 34.90625 28.71875 34.90625 \r\nL 20.21875 34.90625 \r\nL 20.21875 43.015625 \r\nL 29.109375 43.015625 \r\nQ 36.375 43.015625 40.234375 45.921875 \r\nQ 44.09375 48.828125 44.09375 54.296875 \r\nQ 44.09375 59.90625 40.109375 62.90625 \r\nQ 36.140625 65.921875 28.71875 65.921875 \r\nQ 24.65625 65.921875 20.015625 65.03125 \r\nQ 15.375 64.15625 9.8125 62.3125 \r\nL 9.8125 71.09375 \r\nQ 15.4375 72.65625 20.34375 73.4375 \r\nQ 25.25 74.21875 29.59375 74.21875 \r\nQ 40.828125 74.21875 47.359375 69.109375 \r\nQ 53.90625 64.015625 53.90625 55.328125 \r\nQ 53.90625 49.265625 50.4375 45.09375 \r\nQ 46.96875 40.921875 40.578125 39.3125 \r\nz\r\n\" id=\"DejaVuSans-51\"/>\r\n      </defs>\r\n      <g transform=\"translate(197.50625 242.738437)scale(0.1 -0.1)\">\r\n       <use xlink:href=\"#DejaVuSans-51\"/>\r\n      </g>\r\n     </g>\r\n    </g>\r\n    <g id=\"xtick_5\">\r\n     <g id=\"line2d_5\">\r\n      <g>\r\n       <use style=\"stroke:#000000;stroke-width:0.8;\" x=\"256.4875\" xlink:href=\"#m15f13fa112\" y=\"228.14\"/>\r\n      </g>\r\n     </g>\r\n     <g id=\"text_5\">\r\n      <!-- 4 -->\r\n      <defs>\r\n       <path d=\"M 37.796875 64.3125 \r\nL 12.890625 25.390625 \r\nL 37.796875 25.390625 \r\nz\r\nM 35.203125 72.90625 \r\nL 47.609375 72.90625 \r\nL 47.609375 25.390625 \r\nL 58.015625 25.390625 \r\nL 58.015625 17.1875 \r\nL 47.609375 17.1875 \r\nL 47.609375 0 \r\nL 37.796875 0 \r\nL 37.796875 17.1875 \r\nL 4.890625 17.1875 \r\nL 4.890625 26.703125 \r\nz\r\n\" id=\"DejaVuSans-52\"/>\r\n      </defs>\r\n      <g transform=\"translate(253.30625 242.738437)scale(0.1 -0.1)\">\r\n       <use xlink:href=\"#DejaVuSans-52\"/>\r\n      </g>\r\n     </g>\r\n    </g>\r\n    <g id=\"xtick_6\">\r\n     <g id=\"line2d_6\">\r\n      <g>\r\n       <use style=\"stroke:#000000;stroke-width:0.8;\" x=\"312.2875\" xlink:href=\"#m15f13fa112\" y=\"228.14\"/>\r\n      </g>\r\n     </g>\r\n     <g id=\"text_6\">\r\n      <!-- 5 -->\r\n      <defs>\r\n       <path d=\"M 10.796875 72.90625 \r\nL 49.515625 72.90625 \r\nL 49.515625 64.59375 \r\nL 19.828125 64.59375 \r\nL 19.828125 46.734375 \r\nQ 21.96875 47.46875 24.109375 47.828125 \r\nQ 26.265625 48.1875 28.421875 48.1875 \r\nQ 40.625 48.1875 47.75 41.5 \r\nQ 54.890625 34.8125 54.890625 23.390625 \r\nQ 54.890625 11.625 47.5625 5.09375 \r\nQ 40.234375 -1.421875 26.90625 -1.421875 \r\nQ 22.3125 -1.421875 17.546875 -0.640625 \r\nQ 12.796875 0.140625 7.71875 1.703125 \r\nL 7.71875 11.625 \r\nQ 12.109375 9.234375 16.796875 8.0625 \r\nQ 21.484375 6.890625 26.703125 6.890625 \r\nQ 35.15625 6.890625 40.078125 11.328125 \r\nQ 45.015625 15.765625 45.015625 23.390625 \r\nQ 45.015625 31 40.078125 35.4375 \r\nQ 35.15625 39.890625 26.703125 39.890625 \r\nQ 22.75 39.890625 18.8125 39.015625 \r\nQ 14.890625 38.140625 10.796875 36.28125 \r\nz\r\n\" id=\"DejaVuSans-53\"/>\r\n      </defs>\r\n      <g transform=\"translate(309.10625 242.738437)scale(0.1 -0.1)\">\r\n       <use xlink:href=\"#DejaVuSans-53\"/>\r\n      </g>\r\n     </g>\r\n    </g>\r\n    <g id=\"xtick_7\">\r\n     <g id=\"line2d_7\">\r\n      <g>\r\n       <use style=\"stroke:#000000;stroke-width:0.8;\" x=\"368.0875\" xlink:href=\"#m15f13fa112\" y=\"228.14\"/>\r\n      </g>\r\n     </g>\r\n     <g id=\"text_7\">\r\n      <!-- 6 -->\r\n      <defs>\r\n       <path d=\"M 33.015625 40.375 \r\nQ 26.375 40.375 22.484375 35.828125 \r\nQ 18.609375 31.296875 18.609375 23.390625 \r\nQ 18.609375 15.53125 22.484375 10.953125 \r\nQ 26.375 6.390625 33.015625 6.390625 \r\nQ 39.65625 6.390625 43.53125 10.953125 \r\nQ 47.40625 15.53125 47.40625 23.390625 \r\nQ 47.40625 31.296875 43.53125 35.828125 \r\nQ 39.65625 40.375 33.015625 40.375 \r\nz\r\nM 52.59375 71.296875 \r\nL 52.59375 62.3125 \r\nQ 48.875 64.0625 45.09375 64.984375 \r\nQ 41.3125 65.921875 37.59375 65.921875 \r\nQ 27.828125 65.921875 22.671875 59.328125 \r\nQ 17.53125 52.734375 16.796875 39.40625 \r\nQ 19.671875 43.65625 24.015625 45.921875 \r\nQ 28.375 48.1875 33.59375 48.1875 \r\nQ 44.578125 48.1875 50.953125 41.515625 \r\nQ 57.328125 34.859375 57.328125 23.390625 \r\nQ 57.328125 12.15625 50.6875 5.359375 \r\nQ 44.046875 -1.421875 33.015625 -1.421875 \r\nQ 20.359375 -1.421875 13.671875 8.265625 \r\nQ 6.984375 17.96875 6.984375 36.375 \r\nQ 6.984375 53.65625 15.1875 63.9375 \r\nQ 23.390625 74.21875 37.203125 74.21875 \r\nQ 40.921875 74.21875 44.703125 73.484375 \r\nQ 48.484375 72.75 52.59375 71.296875 \r\nz\r\n\" id=\"DejaVuSans-54\"/>\r\n      </defs>\r\n      <g transform=\"translate(364.90625 242.738437)scale(0.1 -0.1)\">\r\n       <use xlink:href=\"#DejaVuSans-54\"/>\r\n      </g>\r\n     </g>\r\n    </g>\r\n   </g>\r\n   <g id=\"matplotlib.axis_2\">\r\n    <g id=\"ytick_1\">\r\n     <g id=\"line2d_8\">\r\n      <defs>\r\n       <path d=\"M 0 0 \r\nL -3.5 0 \r\n\" id=\"m28828f70a6\" style=\"stroke:#000000;stroke-width:0.8;\"/>\r\n      </defs>\r\n      <g>\r\n       <use style=\"stroke:#000000;stroke-width:0.8;\" x=\"33.2875\" xlink:href=\"#m28828f70a6\" y=\"213.757376\"/>\r\n      </g>\r\n     </g>\r\n     <g id=\"text_8\">\r\n      <!-- 350 -->\r\n      <g transform=\"translate(7.2 217.556594)scale(0.1 -0.1)\">\r\n       <use xlink:href=\"#DejaVuSans-51\"/>\r\n       <use x=\"63.623047\" xlink:href=\"#DejaVuSans-53\"/>\r\n       <use x=\"127.246094\" xlink:href=\"#DejaVuSans-48\"/>\r\n      </g>\r\n     </g>\r\n    </g>\r\n    <g id=\"ytick_2\">\r\n     <g id=\"line2d_9\">\r\n      <g>\r\n       <use style=\"stroke:#000000;stroke-width:0.8;\" x=\"33.2875\" xlink:href=\"#m28828f70a6\" y=\"185.974083\"/>\r\n      </g>\r\n     </g>\r\n     <g id=\"text_9\">\r\n      <!-- 400 -->\r\n      <g transform=\"translate(7.2 189.773302)scale(0.1 -0.1)\">\r\n       <use xlink:href=\"#DejaVuSans-52\"/>\r\n       <use x=\"63.623047\" xlink:href=\"#DejaVuSans-48\"/>\r\n       <use x=\"127.246094\" xlink:href=\"#DejaVuSans-48\"/>\r\n      </g>\r\n     </g>\r\n    </g>\r\n    <g id=\"ytick_3\">\r\n     <g id=\"line2d_10\">\r\n      <g>\r\n       <use style=\"stroke:#000000;stroke-width:0.8;\" x=\"33.2875\" xlink:href=\"#m28828f70a6\" y=\"158.19079\"/>\r\n      </g>\r\n     </g>\r\n     <g id=\"text_10\">\r\n      <!-- 450 -->\r\n      <g transform=\"translate(7.2 161.990009)scale(0.1 -0.1)\">\r\n       <use xlink:href=\"#DejaVuSans-52\"/>\r\n       <use x=\"63.623047\" xlink:href=\"#DejaVuSans-53\"/>\r\n       <use x=\"127.246094\" xlink:href=\"#DejaVuSans-48\"/>\r\n      </g>\r\n     </g>\r\n    </g>\r\n    <g id=\"ytick_4\">\r\n     <g id=\"line2d_11\">\r\n      <g>\r\n       <use style=\"stroke:#000000;stroke-width:0.8;\" x=\"33.2875\" xlink:href=\"#m28828f70a6\" y=\"130.407497\"/>\r\n      </g>\r\n     </g>\r\n     <g id=\"text_11\">\r\n      <!-- 500 -->\r\n      <g transform=\"translate(7.2 134.206716)scale(0.1 -0.1)\">\r\n       <use xlink:href=\"#DejaVuSans-53\"/>\r\n       <use x=\"63.623047\" xlink:href=\"#DejaVuSans-48\"/>\r\n       <use x=\"127.246094\" xlink:href=\"#DejaVuSans-48\"/>\r\n      </g>\r\n     </g>\r\n    </g>\r\n    <g id=\"ytick_5\">\r\n     <g id=\"line2d_12\">\r\n      <g>\r\n       <use style=\"stroke:#000000;stroke-width:0.8;\" x=\"33.2875\" xlink:href=\"#m28828f70a6\" y=\"102.624204\"/>\r\n      </g>\r\n     </g>\r\n     <g id=\"text_12\">\r\n      <!-- 550 -->\r\n      <g transform=\"translate(7.2 106.423423)scale(0.1 -0.1)\">\r\n       <use xlink:href=\"#DejaVuSans-53\"/>\r\n       <use x=\"63.623047\" xlink:href=\"#DejaVuSans-53\"/>\r\n       <use x=\"127.246094\" xlink:href=\"#DejaVuSans-48\"/>\r\n      </g>\r\n     </g>\r\n    </g>\r\n    <g id=\"ytick_6\">\r\n     <g id=\"line2d_13\">\r\n      <g>\r\n       <use style=\"stroke:#000000;stroke-width:0.8;\" x=\"33.2875\" xlink:href=\"#m28828f70a6\" y=\"74.840912\"/>\r\n      </g>\r\n     </g>\r\n     <g id=\"text_13\">\r\n      <!-- 600 -->\r\n      <g transform=\"translate(7.2 78.64013)scale(0.1 -0.1)\">\r\n       <use xlink:href=\"#DejaVuSans-54\"/>\r\n       <use x=\"63.623047\" xlink:href=\"#DejaVuSans-48\"/>\r\n       <use x=\"127.246094\" xlink:href=\"#DejaVuSans-48\"/>\r\n      </g>\r\n     </g>\r\n    </g>\r\n    <g id=\"ytick_7\">\r\n     <g id=\"line2d_14\">\r\n      <g>\r\n       <use style=\"stroke:#000000;stroke-width:0.8;\" x=\"33.2875\" xlink:href=\"#m28828f70a6\" y=\"47.057619\"/>\r\n      </g>\r\n     </g>\r\n     <g id=\"text_14\">\r\n      <!-- 650 -->\r\n      <g transform=\"translate(7.2 50.856838)scale(0.1 -0.1)\">\r\n       <use xlink:href=\"#DejaVuSans-54\"/>\r\n       <use x=\"63.623047\" xlink:href=\"#DejaVuSans-53\"/>\r\n       <use x=\"127.246094\" xlink:href=\"#DejaVuSans-48\"/>\r\n      </g>\r\n     </g>\r\n    </g>\r\n    <g id=\"ytick_8\">\r\n     <g id=\"line2d_15\">\r\n      <g>\r\n       <use style=\"stroke:#000000;stroke-width:0.8;\" x=\"33.2875\" xlink:href=\"#m28828f70a6\" y=\"19.274326\"/>\r\n      </g>\r\n     </g>\r\n     <g id=\"text_15\">\r\n      <!-- 700 -->\r\n      <defs>\r\n       <path d=\"M 8.203125 72.90625 \r\nL 55.078125 72.90625 \r\nL 55.078125 68.703125 \r\nL 28.609375 0 \r\nL 18.3125 0 \r\nL 43.21875 64.59375 \r\nL 8.203125 64.59375 \r\nz\r\n\" id=\"DejaVuSans-55\"/>\r\n      </defs>\r\n      <g transform=\"translate(7.2 23.073545)scale(0.1 -0.1)\">\r\n       <use xlink:href=\"#DejaVuSans-55\"/>\r\n       <use x=\"63.623047\" xlink:href=\"#DejaVuSans-48\"/>\r\n       <use x=\"127.246094\" xlink:href=\"#DejaVuSans-48\"/>\r\n      </g>\r\n     </g>\r\n    </g>\r\n   </g>\r\n   <g id=\"line2d_16\">\r\n    <path clip-path=\"url(#p83c9b94874)\" d=\"M 33.2875 203.008379 \r\nL 89.0875 218.256364 \r\nL 144.8875 186.313057 \r\nL 200.6875 139.520248 \r\nL 256.4875 99.136138 \r\nL 312.2875 56.759349 \r\nL 368.0875 20.583636 \r\n\" style=\"fill:none;stroke:#1f77b4;stroke-linecap:square;stroke-width:1.5;\"/>\r\n   </g>\r\n   <g id=\"patch_3\">\r\n    <path d=\"M 33.2875 228.14 \r\nL 33.2875 10.7 \r\n\" style=\"fill:none;stroke:#000000;stroke-linecap:square;stroke-linejoin:miter;stroke-width:0.8;\"/>\r\n   </g>\r\n   <g id=\"patch_4\">\r\n    <path d=\"M 368.0875 228.14 \r\nL 368.0875 10.7 \r\n\" style=\"fill:none;stroke:#000000;stroke-linecap:square;stroke-linejoin:miter;stroke-width:0.8;\"/>\r\n   </g>\r\n   <g id=\"patch_5\">\r\n    <path d=\"M 33.2875 228.14 \r\nL 368.0875 228.14 \r\n\" style=\"fill:none;stroke:#000000;stroke-linecap:square;stroke-linejoin:miter;stroke-width:0.8;\"/>\r\n   </g>\r\n   <g id=\"patch_6\">\r\n    <path d=\"M 33.2875 10.7 \r\nL 368.0875 10.7 \r\n\" style=\"fill:none;stroke:#000000;stroke-linecap:square;stroke-linejoin:miter;stroke-width:0.8;\"/>\r\n   </g>\r\n  </g>\r\n </g>\r\n <defs>\r\n  <clipPath id=\"p83c9b94874\">\r\n   <rect height=\"217.44\" width=\"334.8\" x=\"33.2875\" y=\"10.7\"/>\r\n  </clipPath>\r\n </defs>\r\n</svg>\r\n",
      "image/png": "[encoded data removed]"
     },
     "metadata": {
      "needs_background": "light"
     }
    }
   ],
   "source": [
    "# Plot the Average Sales Price per Year as a line chart\n",
    "sfogroupby.sale_price_sqr_foot.plot()"
   ]
  },
  {
   "cell_type": "markdown",
   "metadata": {},
   "source": [
    "- - - "
   ]
  },
  {
   "cell_type": "markdown",
   "metadata": {},
   "source": [
    "## Average Prices by Neighborhood\n",
    "\n",
    "In this section, you will use hvplot to create an interactive visulization of the Average Prices with a dropdown selector for the neighborhood.\n",
    "\n",
    "Hint: It will be easier to create a new DataFrame from grouping the data and calculating the mean prices for each year and neighborhood"
   ]
  },
  {
   "cell_type": "code",
   "execution_count": 46,
   "metadata": {},
   "outputs": [
    {
     "output_type": "execute_result",
     "data": {
      "text/plain": [
       "     year                   neighborhood  sale_price_sqr_foot  housing_units  \\\n",
       "0    2010                   Alamo Square           291.182945         372560   \n",
       "1    2010                     Anza Vista           267.932583         372560   \n",
       "2    2010                        Bayview           170.098665         372560   \n",
       "3    2010               Buena Vista Park           347.394919         372560   \n",
       "4    2010               Central Richmond           319.027623         372560   \n",
       "5    2010                 Central Sunset           418.172493         372560   \n",
       "6    2010                 Corona Heights           369.359338         372560   \n",
       "7    2010                     Cow Hollow           569.379968         372560   \n",
       "8    2010                  Croker Amazon           165.645730         372560   \n",
       "9    2010                Diamond Heights           456.930822         372560   \n",
       "10   2010                      Downtown            241.804552         372560   \n",
       "11   2010  Eureka Valley/Dolores Heights           403.118313         372560   \n",
       "12   2010                      Excelsior           364.928336         372560   \n",
       "13   2010       Financial District North           401.749967         372560   \n",
       "14   2010       Financial District South           162.821210         372560   \n",
       "15   2010                  Forest Knolls           209.049327         372560   \n",
       "16   2010                      Glen Park           715.586438         372560   \n",
       "17   2010            Golden Gate Heights           551.801119         372560   \n",
       "18   2010                 Haight Ashbury           254.473779         372560   \n",
       "19   2010                   Hayes Valley           272.284980         372560   \n",
       "20   2010                  Hunters Point           170.624920         372560   \n",
       "21   2010                     Ingleside            275.056686         372560   \n",
       "22   2010                  Inner Mission           238.350020         372560   \n",
       "23   2010                 Inner Parkside           199.702004         372560   \n",
       "24   2010                 Inner Richmond           285.822358         372560   \n",
       "25   2010                   Inner Sunset           275.769730         372560   \n",
       "26   2010     Jordan Park/Laurel Heights           419.887812         372560   \n",
       "27   2010            Lake --The Presidio           320.796910         372560   \n",
       "28   2010                  Lone Mountain           398.458876         372560   \n",
       "29   2010          Lower Pacific Heights           374.057636         372560   \n",
       "..    ...                            ...                  ...            ...   \n",
       "367  2016                  Inner Mission           647.770447         384242   \n",
       "368  2016                 Inner Parkside           518.112650         384242   \n",
       "369  2016                 Inner Richmond           403.311132         384242   \n",
       "370  2016                   Inner Sunset           445.923828         384242   \n",
       "371  2016     Jordan Park/Laurel Heights           704.566419         384242   \n",
       "372  2016          Lower Pacific Heights           636.430770         384242   \n",
       "373  2016                         Marina           431.944602         384242   \n",
       "374  2016                 Merced Heights          1416.666667         384242   \n",
       "375  2016                    Mission Bay           924.569116         384242   \n",
       "376  2016                Mission Terrace           879.017013         384242   \n",
       "377  2016                       Nob Hill           777.008315         384242   \n",
       "378  2016                     Noe Valley           799.495651         384242   \n",
       "379  2016                    North Beach           407.553322         384242   \n",
       "380  2016                  Outer Mission            40.772625         384242   \n",
       "381  2016                 Outer Parkside           732.720684         384242   \n",
       "382  2016                Outer Richmond           1196.645437         384242   \n",
       "383  2016                   Outer Sunset           510.576907         384242   \n",
       "384  2016                Pacific Heights           996.389364         384242   \n",
       "385  2016                     Park North           211.301370         384242   \n",
       "386  2016      Parnassus/Ashbury Heights          1207.997485         384242   \n",
       "387  2016                   Potrero Hill           707.651609         384242   \n",
       "388  2016               Presidio Heights          1465.968586         384242   \n",
       "389  2016                   Russian Hill          1024.339877         384242   \n",
       "390  2016                South of Market           531.136374         384242   \n",
       "391  2016                      Sunnyside           751.173709         384242   \n",
       "392  2016                 Telegraph Hill           903.049771         384242   \n",
       "393  2016                     Twin Peaks           970.085470         384242   \n",
       "394  2016         Van Ness/ Civic Center           552.602567         384242   \n",
       "395  2016              Visitacion Valley           328.319007         384242   \n",
       "396  2016                  Westwood Park           631.195426         384242   \n",
       "\n",
       "     gross_rent  \n",
       "0          1239  \n",
       "1          1239  \n",
       "2          1239  \n",
       "3          1239  \n",
       "4          1239  \n",
       "5          1239  \n",
       "6          1239  \n",
       "7          1239  \n",
       "8          1239  \n",
       "9          1239  \n",
       "10         1239  \n",
       "11         1239  \n",
       "12         1239  \n",
       "13         1239  \n",
       "14         1239  \n",
       "15         1239  \n",
       "16         1239  \n",
       "17         1239  \n",
       "18         1239  \n",
       "19         1239  \n",
       "20         1239  \n",
       "21         1239  \n",
       "22         1239  \n",
       "23         1239  \n",
       "24         1239  \n",
       "25         1239  \n",
       "26         1239  \n",
       "27         1239  \n",
       "28         1239  \n",
       "29         1239  \n",
       "..          ...  \n",
       "367        4390  \n",
       "368        4390  \n",
       "369        4390  \n",
       "370        4390  \n",
       "371        4390  \n",
       "372        4390  \n",
       "373        4390  \n",
       "374        4390  \n",
       "375        4390  \n",
       "376        4390  \n",
       "377        4390  \n",
       "378        4390  \n",
       "379        4390  \n",
       "380        4390  \n",
       "381        4390  \n",
       "382        4390  \n",
       "383        4390  \n",
       "384        4390  \n",
       "385        4390  \n",
       "386        4390  \n",
       "387        4390  \n",
       "388        4390  \n",
       "389        4390  \n",
       "390        4390  \n",
       "391        4390  \n",
       "392        4390  \n",
       "393        4390  \n",
       "394        4390  \n",
       "395        4390  \n",
       "396        4390  \n",
       "\n",
       "[397 rows x 5 columns]"
      ],
      "text/html": "<div>\n<style scoped>\n    .dataframe tbody tr th:only-of-type {\n        vertical-align: middle;\n    }\n\n    .dataframe tbody tr th {\n        vertical-align: top;\n    }\n\n    .dataframe thead th {\n        text-align: right;\n    }\n</style>\n<table border=\"1\" class=\"dataframe\">\n  <thead>\n    <tr style=\"text-align: right;\">\n      <th></th>\n      <th>year</th>\n      <th>neighborhood</th>\n      <th>sale_price_sqr_foot</th>\n      <th>housing_units</th>\n      <th>gross_rent</th>\n    </tr>\n  </thead>\n  <tbody>\n    <tr>\n      <th>0</th>\n      <td>2010</td>\n      <td>Alamo Square</td>\n      <td>291.182945</td>\n      <td>372560</td>\n      <td>1239</td>\n    </tr>\n    <tr>\n      <th>1</th>\n      <td>2010</td>\n      <td>Anza Vista</td>\n      <td>267.932583</td>\n      <td>372560</td>\n      <td>1239</td>\n    </tr>\n    <tr>\n      <th>2</th>\n      <td>2010</td>\n      <td>Bayview</td>\n      <td>170.098665</td>\n      <td>372560</td>\n      <td>1239</td>\n    </tr>\n    <tr>\n      <th>3</th>\n      <td>2010</td>\n      <td>Buena Vista Park</td>\n      <td>347.394919</td>\n      <td>372560</td>\n      <td>1239</td>\n    </tr>\n    <tr>\n      <th>4</th>\n      <td>2010</td>\n      <td>Central Richmond</td>\n      <td>319.027623</td>\n      <td>372560</td>\n      <td>1239</td>\n    </tr>\n    <tr>\n      <th>5</th>\n      <td>2010</td>\n      <td>Central Sunset</td>\n      <td>418.172493</td>\n      <td>372560</td>\n      <td>1239</td>\n    </tr>\n    <tr>\n      <th>6</th>\n      <td>2010</td>\n      <td>Corona Heights</td>\n      <td>369.359338</td>\n      <td>372560</td>\n      <td>1239</td>\n    </tr>\n    <tr>\n      <th>7</th>\n      <td>2010</td>\n      <td>Cow Hollow</td>\n      <td>569.379968</td>\n      <td>372560</td>\n      <td>1239</td>\n    </tr>\n    <tr>\n      <th>8</th>\n      <td>2010</td>\n      <td>Croker Amazon</td>\n      <td>165.645730</td>\n      <td>372560</td>\n      <td>1239</td>\n    </tr>\n    <tr>\n      <th>9</th>\n      <td>2010</td>\n      <td>Diamond Heights</td>\n      <td>456.930822</td>\n      <td>372560</td>\n      <td>1239</td>\n    </tr>\n    <tr>\n      <th>10</th>\n      <td>2010</td>\n      <td>Downtown</td>\n      <td>241.804552</td>\n      <td>372560</td>\n      <td>1239</td>\n    </tr>\n    <tr>\n      <th>11</th>\n      <td>2010</td>\n      <td>Eureka Valley/Dolores Heights</td>\n      <td>403.118313</td>\n      <td>372560</td>\n      <td>1239</td>\n    </tr>\n    <tr>\n      <th>12</th>\n      <td>2010</td>\n      <td>Excelsior</td>\n      <td>364.928336</td>\n      <td>372560</td>\n      <td>1239</td>\n    </tr>\n    <tr>\n      <th>13</th>\n      <td>2010</td>\n      <td>Financial District North</td>\n      <td>401.749967</td>\n      <td>372560</td>\n      <td>1239</td>\n    </tr>\n    <tr>\n      <th>14</th>\n      <td>2010</td>\n      <td>Financial District South</td>\n      <td>162.821210</td>\n      <td>372560</td>\n      <td>1239</td>\n    </tr>\n    <tr>\n      <th>15</th>\n      <td>2010</td>\n      <td>Forest Knolls</td>\n      <td>209.049327</td>\n      <td>372560</td>\n      <td>1239</td>\n    </tr>\n    <tr>\n      <th>16</th>\n      <td>2010</td>\n      <td>Glen Park</td>\n      <td>715.586438</td>\n      <td>372560</td>\n      <td>1239</td>\n    </tr>\n    <tr>\n      <th>17</th>\n      <td>2010</td>\n      <td>Golden Gate Heights</td>\n      <td>551.801119</td>\n      <td>372560</td>\n      <td>1239</td>\n    </tr>\n    <tr>\n      <th>18</th>\n      <td>2010</td>\n      <td>Haight Ashbury</td>\n      <td>254.473779</td>\n      <td>372560</td>\n      <td>1239</td>\n    </tr>\n    <tr>\n      <th>19</th>\n      <td>2010</td>\n      <td>Hayes Valley</td>\n      <td>272.284980</td>\n      <td>372560</td>\n      <td>1239</td>\n    </tr>\n    <tr>\n      <th>20</th>\n      <td>2010</td>\n      <td>Hunters Point</td>\n      <td>170.624920</td>\n      <td>372560</td>\n      <td>1239</td>\n    </tr>\n    <tr>\n      <th>21</th>\n      <td>2010</td>\n      <td>Ingleside</td>\n      <td>275.056686</td>\n      <td>372560</td>\n      <td>1239</td>\n    </tr>\n    <tr>\n      <th>22</th>\n      <td>2010</td>\n      <td>Inner Mission</td>\n      <td>238.350020</td>\n      <td>372560</td>\n      <td>1239</td>\n    </tr>\n    <tr>\n      <th>23</th>\n      <td>2010</td>\n      <td>Inner Parkside</td>\n      <td>199.702004</td>\n      <td>372560</td>\n      <td>1239</td>\n    </tr>\n    <tr>\n      <th>24</th>\n      <td>2010</td>\n      <td>Inner Richmond</td>\n      <td>285.822358</td>\n      <td>372560</td>\n      <td>1239</td>\n    </tr>\n    <tr>\n      <th>25</th>\n      <td>2010</td>\n      <td>Inner Sunset</td>\n      <td>275.769730</td>\n      <td>372560</td>\n      <td>1239</td>\n    </tr>\n    <tr>\n      <th>26</th>\n      <td>2010</td>\n      <td>Jordan Park/Laurel Heights</td>\n      <td>419.887812</td>\n      <td>372560</td>\n      <td>1239</td>\n    </tr>\n    <tr>\n      <th>27</th>\n      <td>2010</td>\n      <td>Lake --The Presidio</td>\n      <td>320.796910</td>\n      <td>372560</td>\n      <td>1239</td>\n    </tr>\n    <tr>\n      <th>28</th>\n      <td>2010</td>\n      <td>Lone Mountain</td>\n      <td>398.458876</td>\n      <td>372560</td>\n      <td>1239</td>\n    </tr>\n    <tr>\n      <th>29</th>\n      <td>2010</td>\n      <td>Lower Pacific Heights</td>\n      <td>374.057636</td>\n      <td>372560</td>\n      <td>1239</td>\n    </tr>\n    <tr>\n      <th>...</th>\n      <td>...</td>\n      <td>...</td>\n      <td>...</td>\n      <td>...</td>\n      <td>...</td>\n    </tr>\n    <tr>\n      <th>367</th>\n      <td>2016</td>\n      <td>Inner Mission</td>\n      <td>647.770447</td>\n      <td>384242</td>\n      <td>4390</td>\n    </tr>\n    <tr>\n      <th>368</th>\n      <td>2016</td>\n      <td>Inner Parkside</td>\n      <td>518.112650</td>\n      <td>384242</td>\n      <td>4390</td>\n    </tr>\n    <tr>\n      <th>369</th>\n      <td>2016</td>\n      <td>Inner Richmond</td>\n      <td>403.311132</td>\n      <td>384242</td>\n      <td>4390</td>\n    </tr>\n    <tr>\n      <th>370</th>\n      <td>2016</td>\n      <td>Inner Sunset</td>\n      <td>445.923828</td>\n      <td>384242</td>\n      <td>4390</td>\n    </tr>\n    <tr>\n      <th>371</th>\n      <td>2016</td>\n      <td>Jordan Park/Laurel Heights</td>\n      <td>704.566419</td>\n      <td>384242</td>\n      <td>4390</td>\n    </tr>\n    <tr>\n      <th>372</th>\n      <td>2016</td>\n      <td>Lower Pacific Heights</td>\n      <td>636.430770</td>\n      <td>384242</td>\n      <td>4390</td>\n    </tr>\n    <tr>\n      <th>373</th>\n      <td>2016</td>\n      <td>Marina</td>\n      <td>431.944602</td>\n      <td>384242</td>\n      <td>4390</td>\n    </tr>\n    <tr>\n      <th>374</th>\n      <td>2016</td>\n      <td>Merced Heights</td>\n      <td>1416.666667</td>\n      <td>384242</td>\n      <td>4390</td>\n    </tr>\n    <tr>\n      <th>375</th>\n      <td>2016</td>\n      <td>Mission Bay</td>\n      <td>924.569116</td>\n      <td>384242</td>\n      <td>4390</td>\n    </tr>\n    <tr>\n      <th>376</th>\n      <td>2016</td>\n      <td>Mission Terrace</td>\n      <td>879.017013</td>\n      <td>384242</td>\n      <td>4390</td>\n    </tr>\n    <tr>\n      <th>377</th>\n      <td>2016</td>\n      <td>Nob Hill</td>\n      <td>777.008315</td>\n      <td>384242</td>\n      <td>4390</td>\n    </tr>\n    <tr>\n      <th>378</th>\n      <td>2016</td>\n      <td>Noe Valley</td>\n      <td>799.495651</td>\n      <td>384242</td>\n      <td>4390</td>\n    </tr>\n    <tr>\n      <th>379</th>\n      <td>2016</td>\n      <td>North Beach</td>\n      <td>407.553322</td>\n      <td>384242</td>\n      <td>4390</td>\n    </tr>\n    <tr>\n      <th>380</th>\n      <td>2016</td>\n      <td>Outer Mission</td>\n      <td>40.772625</td>\n      <td>384242</td>\n      <td>4390</td>\n    </tr>\n    <tr>\n      <th>381</th>\n      <td>2016</td>\n      <td>Outer Parkside</td>\n      <td>732.720684</td>\n      <td>384242</td>\n      <td>4390</td>\n    </tr>\n    <tr>\n      <th>382</th>\n      <td>2016</td>\n      <td>Outer Richmond</td>\n      <td>1196.645437</td>\n      <td>384242</td>\n      <td>4390</td>\n    </tr>\n    <tr>\n      <th>383</th>\n      <td>2016</td>\n      <td>Outer Sunset</td>\n      <td>510.576907</td>\n      <td>384242</td>\n      <td>4390</td>\n    </tr>\n    <tr>\n      <th>384</th>\n      <td>2016</td>\n      <td>Pacific Heights</td>\n      <td>996.389364</td>\n      <td>384242</td>\n      <td>4390</td>\n    </tr>\n    <tr>\n      <th>385</th>\n      <td>2016</td>\n      <td>Park North</td>\n      <td>211.301370</td>\n      <td>384242</td>\n      <td>4390</td>\n    </tr>\n    <tr>\n      <th>386</th>\n      <td>2016</td>\n      <td>Parnassus/Ashbury Heights</td>\n      <td>1207.997485</td>\n      <td>384242</td>\n      <td>4390</td>\n    </tr>\n    <tr>\n      <th>387</th>\n      <td>2016</td>\n      <td>Potrero Hill</td>\n      <td>707.651609</td>\n      <td>384242</td>\n      <td>4390</td>\n    </tr>\n    <tr>\n      <th>388</th>\n      <td>2016</td>\n      <td>Presidio Heights</td>\n      <td>1465.968586</td>\n      <td>384242</td>\n      <td>4390</td>\n    </tr>\n    <tr>\n      <th>389</th>\n      <td>2016</td>\n      <td>Russian Hill</td>\n      <td>1024.339877</td>\n      <td>384242</td>\n      <td>4390</td>\n    </tr>\n    <tr>\n      <th>390</th>\n      <td>2016</td>\n      <td>South of Market</td>\n      <td>531.136374</td>\n      <td>384242</td>\n      <td>4390</td>\n    </tr>\n    <tr>\n      <th>391</th>\n      <td>2016</td>\n      <td>Sunnyside</td>\n      <td>751.173709</td>\n      <td>384242</td>\n      <td>4390</td>\n    </tr>\n    <tr>\n      <th>392</th>\n      <td>2016</td>\n      <td>Telegraph Hill</td>\n      <td>903.049771</td>\n      <td>384242</td>\n      <td>4390</td>\n    </tr>\n    <tr>\n      <th>393</th>\n      <td>2016</td>\n      <td>Twin Peaks</td>\n      <td>970.085470</td>\n      <td>384242</td>\n      <td>4390</td>\n    </tr>\n    <tr>\n      <th>394</th>\n      <td>2016</td>\n      <td>Van Ness/ Civic Center</td>\n      <td>552.602567</td>\n      <td>384242</td>\n      <td>4390</td>\n    </tr>\n    <tr>\n      <th>395</th>\n      <td>2016</td>\n      <td>Visitacion Valley</td>\n      <td>328.319007</td>\n      <td>384242</td>\n      <td>4390</td>\n    </tr>\n    <tr>\n      <th>396</th>\n      <td>2016</td>\n      <td>Westwood Park</td>\n      <td>631.195426</td>\n      <td>384242</td>\n      <td>4390</td>\n    </tr>\n  </tbody>\n</table>\n<p>397 rows × 5 columns</p>\n</div>"
     },
     "metadata": {},
     "execution_count": 46
    }
   ],
   "source": [
    "# Group by year and neighborhood and then create a new dataframe of the mean values\n",
    "newdf=sfo_data.groupby(['year', 'neighborhood']).mean().reset_index()\n",
    "newdf"
   ]
  },
  {
   "cell_type": "code",
   "execution_count": 47,
   "metadata": {},
   "outputs": [
    {
     "output_type": "execute_result",
     "data": {
      "text/html": "<div id='1451'>\n\n\n\n\n\n  <div class=\"bk-root\" id=\"94867939-894e-4702-8542-f9fa8525b716\" data-root-id=\"1451\"></div>\n</div>\n<script type=\"application/javascript\">(function(root) {\n  function embed_document(root) {\n  var docs_json = {\"e5aa6eec-86d9-46e5-b93b-535a1831732b\":{\"roots\":{\"references\":[{\"attributes\":{},\"id\":\"1473\",\"type\":\"SaveTool\"},{\"attributes\":{\"end\":644.0175329447045,\"reset_end\":644.0175329447045,\"reset_start\":141.1976609302527,\"start\":141.1976609302527,\"tags\":[[[\"sale_price_sqr_foot\",\"sale_price_sqr_foot\",null]]]},\"id\":\"1454\",\"type\":\"Range1d\"},{\"attributes\":{},\"id\":\"1475\",\"type\":\"WheelZoomTool\"},{\"attributes\":{\"axis_label\":\"year\",\"bounds\":\"auto\",\"formatter\":{\"id\":\"1495\"},\"major_label_orientation\":\"horizontal\",\"ticker\":{\"id\":\"1466\"}},\"id\":\"1465\",\"type\":\"LinearAxis\"},{\"attributes\":{\"line_color\":\"#1f77b3\",\"line_width\":2,\"x\":{\"field\":\"year\"},\"y\":{\"field\":\"sale_price_sqr_foot\"}},\"id\":\"1489\",\"type\":\"Line\"},{\"attributes\":{},\"id\":\"1477\",\"type\":\"ResetTool\"},{\"attributes\":{},\"id\":\"1466\",\"type\":\"BasicTicker\"},{\"attributes\":{\"line_alpha\":0.2,\"line_color\":\"#1f77b3\",\"line_width\":2,\"x\":{\"field\":\"year\"},\"y\":{\"field\":\"sale_price_sqr_foot\"}},\"id\":\"1491\",\"type\":\"Line\"},{\"attributes\":{\"margin\":[5,5,5,5],\"name\":\"HSpacer02193\",\"sizing_mode\":\"stretch_width\"},\"id\":\"1518\",\"type\":\"Spacer\"},{\"attributes\":{},\"id\":\"1487\",\"type\":\"Selection\"},{\"attributes\":{\"end\":2016.0,\"reset_end\":2016.0,\"reset_start\":2010.0,\"start\":2010.0,\"tags\":[[[\"year\",\"year\",null]]]},\"id\":\"1453\",\"type\":\"Range1d\"},{\"attributes\":{\"axis\":{\"id\":\"1465\"},\"grid_line_color\":null,\"ticker\":null},\"id\":\"1468\",\"type\":\"Grid\"},{\"attributes\":{\"margin\":[5,5,5,5],\"name\":\"VSpacer02189\",\"sizing_mode\":\"stretch_height\"},\"id\":\"1520\",\"type\":\"Spacer\"},{\"attributes\":{},\"id\":\"1495\",\"type\":\"BasicTickFormatter\"},{\"attributes\":{\"children\":[{\"id\":\"1522\"}],\"css_classes\":[\"panel-widget-box\"],\"margin\":[5,5,5,5],\"name\":\"WidgetBox02184\"},\"id\":\"1521\",\"type\":\"Column\"},{\"attributes\":{},\"id\":\"1508\",\"type\":\"UnionRenderers\"},{\"attributes\":{\"margin\":[5,5,5,5],\"name\":\"VSpacer02190\",\"sizing_mode\":\"stretch_height\"},\"id\":\"1523\",\"type\":\"Spacer\"},{\"attributes\":{\"children\":[{\"id\":\"1452\"},{\"id\":\"1456\"},{\"id\":\"1518\"},{\"id\":\"1519\"}],\"margin\":[0,0,0,0],\"name\":\"Row02183\"},\"id\":\"1451\",\"type\":\"Row\"},{\"attributes\":{\"callback\":null,\"renderers\":[{\"id\":\"1492\"}],\"tags\":[\"hv_created\"],\"tooltips\":[[\"year\",\"@{year}\"],[\"sale_price_sqr_foot\",\"@{sale_price_sqr_foot}\"]]},\"id\":\"1455\",\"type\":\"HoverTool\"},{\"attributes\":{\"overlay\":{\"id\":\"1478\"}},\"id\":\"1476\",\"type\":\"BoxZoomTool\"},{\"attributes\":{},\"id\":\"1461\",\"type\":\"LinearScale\"},{\"attributes\":{\"margin\":[5,5,5,5],\"name\":\"HSpacer02192\",\"sizing_mode\":\"stretch_width\"},\"id\":\"1452\",\"type\":\"Spacer\"},{\"attributes\":{\"axis_label\":\"sale_price_sqr_foot\",\"bounds\":\"auto\",\"formatter\":{\"id\":\"1497\"},\"major_label_orientation\":\"horizontal\",\"ticker\":{\"id\":\"1470\"}},\"id\":\"1469\",\"type\":\"LinearAxis\"},{\"attributes\":{},\"id\":\"1474\",\"type\":\"PanTool\"},{\"attributes\":{\"bottom_units\":\"screen\",\"fill_alpha\":0.5,\"fill_color\":\"lightgrey\",\"left_units\":\"screen\",\"level\":\"overlay\",\"line_alpha\":1.0,\"line_color\":\"black\",\"line_dash\":[4,4],\"line_width\":2,\"right_units\":\"screen\",\"top_units\":\"screen\"},\"id\":\"1478\",\"type\":\"BoxAnnotation\"},{\"attributes\":{\"active_drag\":\"auto\",\"active_inspect\":\"auto\",\"active_multi\":null,\"active_scroll\":\"auto\",\"active_tap\":\"auto\",\"tools\":[{\"id\":\"1455\"},{\"id\":\"1473\"},{\"id\":\"1474\"},{\"id\":\"1475\"},{\"id\":\"1476\"},{\"id\":\"1477\"}]},\"id\":\"1479\",\"type\":\"Toolbar\"},{\"attributes\":{},\"id\":\"1463\",\"type\":\"LinearScale\"},{\"attributes\":{\"margin\":[20,20,20,20],\"min_width\":250,\"options\":[\"Alamo Square\",\"Anza Vista\",\"Bayview\",\"Buena Vista Park\",\"Central Richmond\",\"Central Sunset\",\"Corona Heights\",\"Cow Hollow\",\"Croker Amazon\",\"Diamond Heights\",\"Downtown \",\"Eureka Valley/Dolores Heights\",\"Excelsior\",\"Financial District North\",\"Financial District South\",\"Forest Knolls\",\"Glen Park\",\"Golden Gate Heights\",\"Haight Ashbury\",\"Hayes Valley\",\"Hunters Point\",\"Ingleside \",\"Inner Mission\",\"Inner Parkside\",\"Inner Richmond\",\"Inner Sunset\",\"Jordan Park/Laurel Heights\",\"Lake --The Presidio\",\"Lone Mountain\",\"Lower Pacific Heights\",\"Marina\",\"Miraloma Park\",\"Mission Bay\",\"Mission Dolores\",\"Mission Terrace\",\"Nob Hill\",\"Noe Valley\",\"Oceanview\",\"Outer Parkside\",\"Outer Richmond \",\"Outer Sunset\",\"Pacific Heights\",\"Park North\",\"Parkside\",\"Parnassus/Ashbury Heights\",\"Portola\",\"Potrero Hill\",\"Presidio Heights\",\"Russian Hill\",\"South Beach\",\"South of Market\",\"Sunnyside\",\"Telegraph Hill\",\"Twin Peaks\",\"Union Square District\",\"Van Ness/ Civic Center\",\"West Portal\",\"Western Addition\",\"Yerba Buena\",\"Bernal Heights \",\"Clarendon Heights\",\"Duboce Triangle\",\"Ingleside Heights\",\"North Beach\",\"North Waterfront\",\"Outer Mission\",\"Westwood Highlands\",\"Merced Heights\",\"Midtown Terrace\",\"Visitacion Valley\",\"Silver Terrace\",\"Westwood Park\",\"Bayview Heights\"],\"title\":\"neighborhood\",\"value\":\"Alamo Square\",\"width\":250},\"id\":\"1522\",\"type\":\"Select\"},{\"attributes\":{\"align\":null,\"below\":[{\"id\":\"1465\"}],\"center\":[{\"id\":\"1468\"},{\"id\":\"1472\"}],\"left\":[{\"id\":\"1469\"}],\"margin\":null,\"min_border_bottom\":10,\"min_border_left\":10,\"min_border_right\":10,\"min_border_top\":10,\"plot_height\":300,\"plot_width\":700,\"renderers\":[{\"id\":\"1492\"}],\"sizing_mode\":\"fixed\",\"title\":{\"id\":\"1457\"},\"toolbar\":{\"id\":\"1479\"},\"x_range\":{\"id\":\"1453\"},\"x_scale\":{\"id\":\"1461\"},\"y_range\":{\"id\":\"1454\"},\"y_scale\":{\"id\":\"1463\"}},\"id\":\"1456\",\"subtype\":\"Figure\",\"type\":\"Plot\"},{\"attributes\":{\"source\":{\"id\":\"1486\"}},\"id\":\"1493\",\"type\":\"CDSView\"},{\"attributes\":{},\"id\":\"1497\",\"type\":\"BasicTickFormatter\"},{\"attributes\":{\"axis\":{\"id\":\"1469\"},\"dimension\":1,\"grid_line_color\":null,\"ticker\":null},\"id\":\"1472\",\"type\":\"Grid\"},{\"attributes\":{\"line_alpha\":0.1,\"line_color\":\"#1f77b3\",\"line_width\":2,\"x\":{\"field\":\"year\"},\"y\":{\"field\":\"sale_price_sqr_foot\"}},\"id\":\"1490\",\"type\":\"Line\"},{\"attributes\":{\"text\":\"neighborhood: Alamo Square\",\"text_color\":{\"value\":\"black\"},\"text_font_size\":{\"value\":\"12pt\"}},\"id\":\"1457\",\"type\":\"Title\"},{\"attributes\":{\"data_source\":{\"id\":\"1486\"},\"glyph\":{\"id\":\"1489\"},\"hover_glyph\":null,\"muted_glyph\":{\"id\":\"1491\"},\"nonselection_glyph\":{\"id\":\"1490\"},\"selection_glyph\":null,\"view\":{\"id\":\"1493\"}},\"id\":\"1492\",\"type\":\"GlyphRenderer\"},{\"attributes\":{\"data\":{\"sale_price_sqr_foot\":{\"__ndarray__\":\"Dkc7WO0yckCafszcbwhxQIGRs5ot42ZAJzog0LQ8eEAWMinKGEd+QI0V5FDt0IJAVCHcmLVPdUA=\",\"dtype\":\"float64\",\"order\":\"little\",\"shape\":[7]},\"year\":[2010,2011,2012,2013,2014,2015,2016]},\"selected\":{\"id\":\"1487\"},\"selection_policy\":{\"id\":\"1508\"}},\"id\":\"1486\",\"type\":\"ColumnDataSource\"},{\"attributes\":{\"children\":[{\"id\":\"1520\"},{\"id\":\"1521\"},{\"id\":\"1523\"}],\"margin\":[0,0,0,0],\"name\":\"Column02191\"},\"id\":\"1519\",\"type\":\"Column\"},{\"attributes\":{},\"id\":\"1470\",\"type\":\"BasicTicker\"},{\"attributes\":{\"client_comm_id\":\"9d6fe824c3964fcbb2227c609ff22649\",\"comm_id\":\"f1e92a65da724919a858beff8ecfd2d9\",\"plot_id\":\"1451\"},\"id\":\"1548\",\"type\":\"panel.models.comm_manager.CommManager\"}],\"root_ids\":[\"1451\",\"1548\"]},\"title\":\"Bokeh Application\",\"version\":\"2.1.1\"}};\n  var render_items = [{\"docid\":\"e5aa6eec-86d9-46e5-b93b-535a1831732b\",\"root_ids\":[\"1451\"],\"roots\":{\"1451\":\"94867939-894e-4702-8542-f9fa8525b716\"}}];\n  root.Bokeh.embed.embed_items_notebook(docs_json, render_items);\n  }\nif (root.Bokeh !== undefined) {\n    embed_document(root);\n  } else {\n    var attempts = 0;\n    var timer = setInterval(function(root) {\n      if (root.Bokeh !== undefined) {\n        clearInterval(timer);\n        embed_document(root);\n      } else if (document.readyState == \"complete\") {\n        attempts++;\n        if (attempts > 100) {\n          clearInterval(timer);\n          console.log(\"Bokeh: ERROR: Unable to run BokehJS code because BokehJS library is missing\");\n        }\n      }\n    }, 10, root)\n  }\n})(window);</script>",
      "application/vnd.holoviews_exec.v0+json": "",
      "text/plain": [
       ":DynamicMap   [neighborhood]\n",
       "   :Curve   [year]   (sale_price_sqr_foot)"
      ]
     },
     "metadata": {
      "application/vnd.holoviews_exec.v0+json": {
       "id": "1451"
      }
     },
     "execution_count": 47
    }
   ],
   "source": [
    "# Use hvplot to create an interactive line chart of the average price per sq ft.\n",
    "# The plot should have a dropdown selector for the neighborhood\n",
    "newdf.hvplot.line('year', 'sale_price_sqr_foot',  xlabel =\"year\", ylabel=\"sale_price_sqr_foot\", groupby='neighborhood')"
   ]
  },
  {
   "cell_type": "markdown",
   "metadata": {},
   "source": [
    "- - - "
   ]
  },
  {
   "cell_type": "markdown",
   "metadata": {},
   "source": [
    "## The Top 10 Most Expensive Neighborhoods\n",
    "\n",
    "In this section, you will need to calculate the mean sale price for each neighborhood and then sort the values to obtain the top 10 most expensive neighborhoods on average. Plot the results as a bar chart."
   ]
  },
  {
   "cell_type": "code",
   "execution_count": 48,
   "metadata": {},
   "outputs": [],
   "source": [
    "# Getting the data from the top 10 expensive neighborhoods\n",
    "top10=newdf.groupby('neighborhood').mean().sort_values('sale_price_sqr_foot',ascending=False).head(10)"
   ]
  },
  {
   "cell_type": "code",
   "execution_count": 49,
   "metadata": {},
   "outputs": [
    {
     "output_type": "execute_result",
     "data": {
      "text/html": "<div id='1589'>\n\n\n\n\n\n  <div class=\"bk-root\" id=\"5a302f96-b0c8-4dfe-9ad4-2cc52a5c8261\" data-root-id=\"1589\"></div>\n</div>\n<script type=\"application/javascript\">(function(root) {\n  function embed_document(root) {\n  var docs_json = {\"e50fe0c1-00e0-4542-8582-819bc374e6cb\":{\"roots\":{\"references\":[{\"attributes\":{\"overlay\":{\"id\":\"1615\"}},\"id\":\"1613\",\"type\":\"BoxZoomTool\"},{\"attributes\":{},\"id\":\"1611\",\"type\":\"PanTool\"},{\"attributes\":{\"text\":\"sale_price_sqr_foot\",\"text_color\":{\"value\":\"black\"},\"text_font_size\":{\"value\":\"12pt\"}},\"id\":\"1595\",\"type\":\"Title\"},{\"attributes\":{\"bottom_units\":\"screen\",\"fill_alpha\":0.5,\"fill_color\":\"lightgrey\",\"left_units\":\"screen\",\"level\":\"overlay\",\"line_alpha\":1.0,\"line_color\":\"black\",\"line_dash\":[4,4],\"line_width\":2,\"right_units\":\"screen\",\"top_units\":\"screen\"},\"id\":\"1615\",\"type\":\"BoxAnnotation\"},{\"attributes\":{\"source\":{\"id\":\"1623\"}},\"id\":\"1630\",\"type\":\"CDSView\"},{\"attributes\":{\"children\":[{\"id\":\"1590\"},{\"id\":\"1594\"},{\"id\":\"1651\"}],\"margin\":[0,0,0,0],\"name\":\"Row02489\",\"tags\":[\"embedded\"]},\"id\":\"1589\",\"type\":\"Row\"},{\"attributes\":{},\"id\":\"1634\",\"type\":\"BasicTickFormatter\"},{\"attributes\":{\"margin\":[5,5,5,5],\"name\":\"HSpacer02494\",\"sizing_mode\":\"stretch_width\"},\"id\":\"1651\",\"type\":\"Spacer\"},{\"attributes\":{},\"id\":\"1607\",\"type\":\"BasicTicker\"},{\"attributes\":{},\"id\":\"1604\",\"type\":\"CategoricalTicker\"},{\"attributes\":{},\"id\":\"1624\",\"type\":\"Selection\"},{\"attributes\":{\"axis\":{\"id\":\"1606\"},\"dimension\":1,\"grid_line_color\":null,\"ticker\":null},\"id\":\"1609\",\"type\":\"Grid\"},{\"attributes\":{},\"id\":\"1614\",\"type\":\"ResetTool\"},{\"attributes\":{\"factors\":[\"Union Square District\",\"Merced Heights\",\"Miraloma Park\",\"Pacific Heights\",\"Westwood Park\",\"Telegraph Hill\",\"Presidio Heights\",\"Cow Hollow\",\"Potrero Hill\",\"South Beach\"],\"tags\":[[[\"neighborhood\",\"neighborhood\",null]]]},\"id\":\"1591\",\"type\":\"FactorRange\"},{\"attributes\":{\"end\":929.3801355198136,\"reset_end\":929.3801355198136,\"reset_start\":0.0,\"tags\":[[[\"sale_price_sqr_foot\",\"sale_price_sqr_foot\",null]]]},\"id\":\"1592\",\"type\":\"Range1d\"},{\"attributes\":{},\"id\":\"1599\",\"type\":\"CategoricalScale\"},{\"attributes\":{},\"id\":\"1601\",\"type\":\"LinearScale\"},{\"attributes\":{\"axis\":{\"id\":\"1603\"},\"grid_line_color\":null,\"ticker\":null},\"id\":\"1605\",\"type\":\"Grid\"},{\"attributes\":{},\"id\":\"1610\",\"type\":\"SaveTool\"},{\"attributes\":{\"fill_alpha\":{\"value\":0.1},\"fill_color\":{\"value\":\"#1f77b3\"},\"line_alpha\":{\"value\":0.1},\"top\":{\"field\":\"sale_price_sqr_foot\"},\"width\":{\"value\":0.8},\"x\":{\"field\":\"neighborhood\"}},\"id\":\"1627\",\"type\":\"VBar\"},{\"attributes\":{\"data\":{\"neighborhood\":[\"Union Square District\",\"Merced Heights\",\"Miraloma Park\",\"Pacific Heights\",\"Westwood Park\",\"Telegraph Hill\",\"Presidio Heights\",\"Cow Hollow\",\"Potrero Hill\",\"South Beach\"],\"sale_price_sqr_foot\":{\"__ndarray__\":\"JRAUMfI/jEB9IrkvwqaIQFx/3pp8XohAFpsVUHKMhUBs0ERas3iFQL0KhXgNJIVAy835O80ahUANV25bts+EQJrMCuEbsIRAya3y7v5QhEA=\",\"dtype\":\"float64\",\"order\":\"little\",\"shape\":[10]}},\"selected\":{\"id\":\"1624\"},\"selection_policy\":{\"id\":\"1641\"}},\"id\":\"1623\",\"type\":\"ColumnDataSource\"},{\"attributes\":{},\"id\":\"1641\",\"type\":\"UnionRenderers\"},{\"attributes\":{\"callback\":null,\"renderers\":[{\"id\":\"1629\"}],\"tags\":[\"hv_created\"],\"tooltips\":[[\"neighborhood\",\"@{neighborhood}\"],[\"sale_price_sqr_foot\",\"@{sale_price_sqr_foot}\"]]},\"id\":\"1593\",\"type\":\"HoverTool\"},{\"attributes\":{\"fill_alpha\":{\"value\":0.2},\"fill_color\":{\"value\":\"#1f77b3\"},\"line_alpha\":{\"value\":0.2},\"top\":{\"field\":\"sale_price_sqr_foot\"},\"width\":{\"value\":0.8},\"x\":{\"field\":\"neighborhood\"}},\"id\":\"1628\",\"type\":\"VBar\"},{\"attributes\":{\"margin\":[5,5,5,5],\"name\":\"HSpacer02493\",\"sizing_mode\":\"stretch_width\"},\"id\":\"1590\",\"type\":\"Spacer\"},{\"attributes\":{\"axis_label\":\"neighborhood\",\"bounds\":\"auto\",\"formatter\":{\"id\":\"1631\"},\"major_label_orientation\":\"horizontal\",\"ticker\":{\"id\":\"1604\"}},\"id\":\"1603\",\"type\":\"CategoricalAxis\"},{\"attributes\":{\"data_source\":{\"id\":\"1623\"},\"glyph\":{\"id\":\"1626\"},\"hover_glyph\":null,\"muted_glyph\":{\"id\":\"1628\"},\"nonselection_glyph\":{\"id\":\"1627\"},\"selection_glyph\":null,\"view\":{\"id\":\"1630\"}},\"id\":\"1629\",\"type\":\"GlyphRenderer\"},{\"attributes\":{},\"id\":\"1612\",\"type\":\"WheelZoomTool\"},{\"attributes\":{},\"id\":\"1631\",\"type\":\"CategoricalTickFormatter\"},{\"attributes\":{\"fill_color\":{\"value\":\"#1f77b3\"},\"top\":{\"field\":\"sale_price_sqr_foot\"},\"width\":{\"value\":0.8},\"x\":{\"field\":\"neighborhood\"}},\"id\":\"1626\",\"type\":\"VBar\"},{\"attributes\":{\"active_drag\":\"auto\",\"active_inspect\":\"auto\",\"active_multi\":null,\"active_scroll\":\"auto\",\"active_tap\":\"auto\",\"tools\":[{\"id\":\"1593\"},{\"id\":\"1610\"},{\"id\":\"1611\"},{\"id\":\"1612\"},{\"id\":\"1613\"},{\"id\":\"1614\"}]},\"id\":\"1616\",\"type\":\"Toolbar\"},{\"attributes\":{\"axis_label\":\"\",\"bounds\":\"auto\",\"formatter\":{\"id\":\"1634\"},\"major_label_orientation\":\"horizontal\",\"ticker\":{\"id\":\"1607\"}},\"id\":\"1606\",\"type\":\"LinearAxis\"},{\"attributes\":{\"align\":null,\"below\":[{\"id\":\"1603\"}],\"center\":[{\"id\":\"1605\"},{\"id\":\"1609\"}],\"left\":[{\"id\":\"1606\"}],\"margin\":null,\"min_border_bottom\":10,\"min_border_left\":10,\"min_border_right\":10,\"min_border_top\":10,\"plot_height\":300,\"plot_width\":700,\"renderers\":[{\"id\":\"1629\"}],\"sizing_mode\":\"fixed\",\"title\":{\"id\":\"1595\"},\"toolbar\":{\"id\":\"1616\"},\"x_range\":{\"id\":\"1591\"},\"x_scale\":{\"id\":\"1599\"},\"y_range\":{\"id\":\"1592\"},\"y_scale\":{\"id\":\"1601\"}},\"id\":\"1594\",\"subtype\":\"Figure\",\"type\":\"Plot\"}],\"root_ids\":[\"1589\"]},\"title\":\"Bokeh Application\",\"version\":\"2.1.1\"}};\n  var render_items = [{\"docid\":\"e50fe0c1-00e0-4542-8582-819bc374e6cb\",\"root_ids\":[\"1589\"],\"roots\":{\"1589\":\"5a302f96-b0c8-4dfe-9ad4-2cc52a5c8261\"}}];\n  root.Bokeh.embed.embed_items_notebook(docs_json, render_items);\n  }\nif (root.Bokeh !== undefined) {\n    embed_document(root);\n  } else {\n    var attempts = 0;\n    var timer = setInterval(function(root) {\n      if (root.Bokeh !== undefined) {\n        clearInterval(timer);\n        embed_document(root);\n      } else if (document.readyState == \"complete\") {\n        attempts++;\n        if (attempts > 100) {\n          clearInterval(timer);\n          console.log(\"Bokeh: ERROR: Unable to run BokehJS code because BokehJS library is missing\");\n        }\n      }\n    }, 10, root)\n  }\n})(window);</script>",
      "application/vnd.holoviews_exec.v0+json": "",
      "text/plain": [
       ":Bars   [neighborhood]   (sale_price_sqr_foot)"
      ]
     },
     "metadata": {
      "application/vnd.holoviews_exec.v0+json": {
       "id": "1589"
      }
     },
     "execution_count": 49
    }
   ],
   "source": [
    "# Plotting the data from the top 10 expensive neighborhoods\n",
    "top10.sale_price_sqr_foot.hvplot.bar()"
   ]
  },
  {
   "cell_type": "markdown",
   "metadata": {},
   "source": [
    "- - - "
   ]
  },
  {
   "cell_type": "markdown",
   "metadata": {},
   "source": [
    "## Parallel Coordinates and Parallel Categories Analysis\n",
    "\n",
    "In this section, you will use plotly express to create parallel coordinates and parallel categories visualizations so that investors can interactively filter and explore various factors related to the sales price of the neighborhoods. \n",
    "\n",
    "Using the DataFrame of Average values per neighborhood (calculated above), create the following visualizations:\n",
    "1. Create a Parallel Coordinates Plot\n",
    "2. Create a Parallel Categories Plot"
   ]
  },
  {
   "cell_type": "code",
   "execution_count": 50,
   "metadata": {},
   "outputs": [
    {
     "output_type": "display_data",
     "data": {
      "application/vnd.plotly.v1+json": {
       "config": {
        "plotlyServerURL": "https://plot.ly"
       },
       "data": [
        {
         "dimensions": [
          {
           "label": "sale_price_sqr_foot",
           "values": [
            291.18294547229095,
            267.9325826799483,
            170.09866536400102,
            347.3949194037114,
            319.0276225530687,
            418.1724927089675,
            369.35933800413665,
            569.3799679261333,
            165.6457300650791,
            456.9308221979013,
            241.80455206485138,
            403.1183126490986,
            364.92833570851764,
            401.7499665916537,
            162.82121004772353,
            209.0493266346945,
            715.5864380979738,
            551.8011188234774,
            254.47377914469143,
            272.28497956385485,
            170.62491987132685,
            275.05668560990915,
            238.35002040677708,
            199.70200378219917,
            285.82235848868265,
            275.76972957461044,
            419.88781187646566,
            320.79691049204627,
            398.4588759923028,
            374.05763601016855,
            387.392839476922,
            680.6087291389301,
            489.80537777998506,
            257.98799863500693,
            262.87602564056425,
            307.67747674427835,
            381.13844514705266,
            282.11967050133603,
            432.19529211245555,
            338.12619999607017,
            368.31155203937294,
            496.51601414694983,
            326.01715041025074,
            274.16674158669116,
            434.25500394602585,
            302.15611319728896,
            491.45000385678617,
            549.4179312485746,
            362.34822391312133,
            1037.0997886617895,
            401.2959764896399,
            542.5316819894505,
            524.7935090952678,
            331.55599614560697,
            569.1934475267735,
            108.0129268765048,
            392.30076417058257,
            215.56913431487555,
            333.12677384193887,
            272.5273101795261,
            172.54056243085552,
            471.9217320911283,
            171.7723466866044,
            261.6638003416518,
            391.42644972996203,
            520.7181675305429,
            222.567848047696,
            390.5956530284181,
            145.85338027594094,
            382.3522610640586,
            234.28162351035442,
            295.77937822922695,
            413.16280403427527,
            281.312904357283,
            354.66555789282774,
            457.41388429762526,
            348.92970004124925,
            392.35345097326814,
            280.73063309393075,
            356.7090091359044,
            198.01587292452027,
            283.17495073168755,
            360.03727240448274,
            302.60448945564127,
            610.7666631577348,
            330.10889435237306,
            313.33845823084727,
            303.5441997161898,
            390.81846895621413,
            414.67606477603755,
            506.95217450146765,
            293.4042461148187,
            340.6425969783877,
            373.97868706755236,
            290.9210327099608,
            346.96116001560216,
            142.14256751724554,
            241.94565649181578,
            271.09013956932756,
            297.2455578459466,
            509.0214800287398,
            289.60560009472283,
            217.55878684527906,
            466.6178976523653,
            208.1679967483858,
            503.13850456030497,
            493.814917282618,
            448.3201042149405,
            388.6443367815385,
            337.91413464365013,
            437.16429949197664,
            483.4057725178001,
            284.56696642681646,
            302.12325280969134,
            384.23680203579306,
            227.41898086494461,
            320.0743330547439,
            438.86054508174806,
            183.09931693145703,
            344.4909139677922,
            165.79806239165433,
            368.26656078838516,
            338.60116351046344,
            279.0301399218751,
            334.4878725198492,
            356.7948135908725,
            644.8183066758803,
            415.0903401095623,
            366.9954275112727,
            269.109528813633,
            452.66002242984047,
            524.8134180834782,
            371.0302152741686,
            286.3519820673892,
            613.8430658201435,
            434.63234651328025,
            418.83037933269526,
            306.3779578647354,
            336.8259501844992,
            373.4668636470579,
            325.82892041816064,
            383.15039609809617,
            380.5214843069476,
            545.9801982412763,
            396.171112391617,
            445.21509554245245,
            421.1412447061912,
            397.9391288956355,
            756.1923725098497,
            689.5233123659036,
            320.9599230279341,
            307.78311439850694,
            428.0219127043747,
            517.1734931165627,
            390.3838567783597,
            442.24265696115737,
            221.881138746669,
            312.83398436239065,
            338.63301173022234,
            413.05871935195154,
            586.2182148097696,
            288.0785187599688,
            378.2738784387478,
            515.9210732061051,
            351.0432256921308,
            466.6478402167172,
            426.60859207171325,
            414.16272789686775,
            463.8098989043553,
            465.80212163177373,
            304.89964760284107,
            445.1967876448791,
            345.95804038831767,
            325.79541506433713,
            274.33846004864847,
            491.8140030500954,
            387.79414379681333,
            453.34049829869934,
            259.54716259308043,
            630.8973025513741,
            455.2180887853926,
            343.0542609770136,
            330.7364310191893,
            453.7716045219721,
            707.4028088888208,
            223.11583290346024,
            533.6884470076521,
            361.45469198221224,
            608.694967227678,
            289.749665708438,
            274.4579436322337,
            458.7213317825408,
            956.1841219171133,
            478.4956365730093,
            491.5892613631572,
            377.51801557551835,
            302.96737702840636,
            435.5456667813491,
            584.0737147409254,
            568.6511487607912,
            376.08359802951554,
            548.0466890413603,
            655.1980415945777,
            703.0815676877947,
            null,
            427.16626614177557,
            591.4020223180053,
            466.02648785310464,
            615.0639297056517,
            393.71733534550384,
            483.16880334240136,
            372.24198616911974,
            332.40781536886453,
            322.0822144332409,
            503.89926133005366,
            512.6307219919141,
            364.62465302417013,
            425.64225533080946,
            235.99759251727426,
            598.704795328917,
            512.8402484358223,
            506.22752218971993,
            420.822184596571,
            505.83481143735054,
            653.3116166908643,
            414.43569251368126,
            1290.472106646641,
            285.0095060630079,
            293.2983722057751,
            588.0747967826295,
            217.0890689540353,
            747.3335378171588,
            753.0114133184368,
            484.44355217067766,
            620.4414065565543,
            254.95866163273848,
            544.5469286452765,
            423.95272693478194,
            456.2419957897522,
            888.1821435177138,
            691.8654114838455,
            428.7265326799175,
            630.3115352378672,
            728.9797158498743,
            358.30523872237734,
            409.9438351783924,
            694.4181461347432,
            553.5627522522698,
            567.3400104586143,
            496.55100121228986,
            428.9237926791115,
            647.6496334575522,
            464.1758436880091,
            597.200528047448,
            430.9396363161629,
            470.85352986706454,
            426.7863811847511,
            432.9627229749631,
            317.2219194303952,
            716.3765095625198,
            642.838478220973,
            528.7265413888829,
            1267.7662026328826,
            220.11108719171108,
            642.2195925518147,
            300.1873092016618,
            478.44335175268515,
            654.801499892284,
            379.92536172660726,
            650.963515967709,
            401.9350222176535,
            490.36358286726374,
            824.6586936349588,
            371.9242451684328,
            446.23924529045684,
            773.4061347806703,
            538.204698577284,
            1045.2015459222662,
            603.4509968798565,
            714.2220737504065,
            170.2925485152069,
            524.6293121403909,
            1119.8388773148026,
            493.45560489574007,
            708.1930316849231,
            562.9112337982453,
            558.2711194060469,
            475.39318681250677,
            282.02546830016496,
            687.7829633004552,
            429.4883174233179,
            742.9797231632554,
            479.9237488133093,
            602.1158769435002,
            465.68627450980387,
            590.7928388746802,
            458.0042993401075,
            551.6956218496264,
            473.1638149617127,
            453.3793770708969,
            1100.7911936704506,
            598.6205414959003,
            301.61864706270705,
            485.8868855757771,
            631.6456863280099,
            790.1803690820187,
            414.35585647200105,
            694.358566653677,
            453.4330812935196,
            612.1061563311456,
            772.7128362001238,
            574.2740565313097,
            536.5571018753241,
            null,
            192.16524813774402,
            435.9007753824155,
            762.5272331154684,
            493.61555763336935,
            639.1464438694404,
            576.4579094375945,
            426.6849522707296,
            918.2882682038704,
            800.0388650775142,
            1132.8373605554546,
            571.7557085689908,
            583.8486362312665,
            529.847319131393,
            544.6002639104154,
            448.86919667679206,
            890.9095931764135,
            265.92982650327014,
            564.6874764662283,
            652.2879690318528,
            438.4677874196749,
            357.8946922463997,
            910.1876901656897,
            616.5723883169862,
            null,
            605.3433249358948,
            821.3009904764873,
            null,
            793.2619915605263,
            717.0825412171872,
            439.7498835483721,
            996.9902204858653,
            417.33537892280015,
            2258.702831998355,
            677.8382318281795,
            302.2218727063018,
            481.46924427394237,
            963.5226061641273,
            340.98183523166995,
            88.40151094606408,
            986.8421052631579,
            851.4014053492668,
            661.0644257703083,
            581.3708750724594,
            1059.0656015492618,
            566.7011760342162,
            718.7768297452345,
            1026.7911075237503,
            534.2262501283425,
            null,
            945.5665024630542,
            531.8350322320708,
            175.06606919629078,
            571.5799833446893,
            647.7704471840341,
            518.1126504655916,
            403.31113221139015,
            445.9238282688497,
            704.5664189758045,
            636.4307703489127,
            431.94460202359033,
            1416.666666666667,
            924.5691159025888,
            879.0170132325142,
            777.0083145338547,
            799.4956512788842,
            407.5533215595707,
            40.7726253518439,
            732.7206841423807,
            1196.645436923929,
            510.5769072143791,
            996.3893635634033,
            211.30136986006568,
            1207.997484708169,
            707.6516094320912,
            1465.9685863874345,
            1024.3398771365157,
            531.1363737279744,
            751.1737089201877,
            903.0497705987848,
            970.08547008547,
            552.6025671312701,
            328.31900668576884,
            631.1954258724091
           ]
          },
          {
           "label": "housing_units",
           "values": [
            372560,
            372560,
            372560,
            372560,
            372560,
            372560,
            372560,
            372560,
            372560,
            372560,
            372560,
            372560,
            372560,
            372560,
            372560,
            372560,
            372560,
            372560,
            372560,
            372560,
            372560,
            372560,
            372560,
            372560,
            372560,
            372560,
            372560,
            372560,
            372560,
            372560,
            372560,
            372560,
            372560,
            372560,
            372560,
            372560,
            372560,
            372560,
            372560,
            372560,
            372560,
            372560,
            372560,
            372560,
            372560,
            372560,
            372560,
            372560,
            372560,
            372560,
            372560,
            372560,
            372560,
            372560,
            372560,
            372560,
            372560,
            372560,
            372560,
            374507,
            374507,
            374507,
            374507,
            374507,
            374507,
            374507,
            374507,
            374507,
            374507,
            374507,
            374507,
            374507,
            374507,
            374507,
            374507,
            374507,
            374507,
            374507,
            374507,
            374507,
            374507,
            374507,
            374507,
            374507,
            374507,
            374507,
            374507,
            374507,
            374507,
            374507,
            374507,
            374507,
            374507,
            374507,
            374507,
            374507,
            374507,
            374507,
            374507,
            374507,
            374507,
            374507,
            374507,
            374507,
            374507,
            374507,
            374507,
            374507,
            374507,
            374507,
            374507,
            374507,
            374507,
            374507,
            374507,
            374507,
            374507,
            374507,
            376454,
            376454,
            376454,
            376454,
            376454,
            376454,
            376454,
            376454,
            376454,
            376454,
            376454,
            376454,
            376454,
            376454,
            376454,
            376454,
            376454,
            376454,
            376454,
            376454,
            376454,
            376454,
            376454,
            376454,
            376454,
            376454,
            376454,
            376454,
            376454,
            376454,
            376454,
            376454,
            376454,
            376454,
            376454,
            376454,
            376454,
            376454,
            376454,
            376454,
            376454,
            376454,
            376454,
            376454,
            376454,
            376454,
            376454,
            376454,
            376454,
            376454,
            376454,
            376454,
            376454,
            376454,
            376454,
            376454,
            376454,
            376454,
            378401,
            378401,
            378401,
            378401,
            378401,
            378401,
            378401,
            378401,
            378401,
            378401,
            378401,
            378401,
            378401,
            378401,
            378401,
            378401,
            378401,
            378401,
            378401,
            378401,
            378401,
            378401,
            378401,
            378401,
            378401,
            378401,
            378401,
            378401,
            378401,
            378401,
            378401,
            378401,
            378401,
            378401,
            378401,
            378401,
            378401,
            378401,
            378401,
            378401,
            378401,
            378401,
            378401,
            378401,
            378401,
            378401,
            378401,
            378401,
            378401,
            378401,
            378401,
            378401,
            378401,
            378401,
            378401,
            378401,
            378401,
            380348,
            380348,
            380348,
            380348,
            380348,
            380348,
            380348,
            380348,
            380348,
            380348,
            380348,
            380348,
            380348,
            380348,
            380348,
            380348,
            380348,
            380348,
            380348,
            380348,
            380348,
            380348,
            380348,
            380348,
            380348,
            380348,
            380348,
            380348,
            380348,
            380348,
            380348,
            380348,
            380348,
            380348,
            380348,
            380348,
            380348,
            380348,
            380348,
            380348,
            380348,
            380348,
            380348,
            380348,
            380348,
            380348,
            380348,
            380348,
            380348,
            380348,
            380348,
            380348,
            380348,
            380348,
            380348,
            380348,
            380348,
            380348,
            380348,
            380348,
            382295,
            382295,
            382295,
            382295,
            382295,
            382295,
            382295,
            382295,
            382295,
            382295,
            382295,
            382295,
            382295,
            382295,
            382295,
            382295,
            382295,
            382295,
            382295,
            382295,
            382295,
            382295,
            382295,
            382295,
            382295,
            382295,
            382295,
            382295,
            382295,
            382295,
            382295,
            382295,
            382295,
            382295,
            382295,
            382295,
            382295,
            382295,
            382295,
            382295,
            382295,
            382295,
            382295,
            382295,
            382295,
            382295,
            382295,
            382295,
            382295,
            382295,
            382295,
            382295,
            382295,
            382295,
            382295,
            382295,
            382295,
            382295,
            384242,
            384242,
            384242,
            384242,
            384242,
            384242,
            384242,
            384242,
            384242,
            384242,
            384242,
            384242,
            384242,
            384242,
            384242,
            384242,
            384242,
            384242,
            384242,
            384242,
            384242,
            384242,
            384242,
            384242,
            384242,
            384242,
            384242,
            384242,
            384242,
            384242,
            384242,
            384242,
            384242,
            384242,
            384242,
            384242,
            384242,
            384242,
            384242,
            384242,
            384242,
            384242,
            384242,
            384242,
            384242,
            384242
           ]
          },
          {
           "label": "gross_rent",
           "values": [
            1239,
            1239,
            1239,
            1239,
            1239,
            1239,
            1239,
            1239,
            1239,
            1239,
            1239,
            1239,
            1239,
            1239,
            1239,
            1239,
            1239,
            1239,
            1239,
            1239,
            1239,
            1239,
            1239,
            1239,
            1239,
            1239,
            1239,
            1239,
            1239,
            1239,
            1239,
            1239,
            1239,
            1239,
            1239,
            1239,
            1239,
            1239,
            1239,
            1239,
            1239,
            1239,
            1239,
            1239,
            1239,
            1239,
            1239,
            1239,
            1239,
            1239,
            1239,
            1239,
            1239,
            1239,
            1239,
            1239,
            1239,
            1239,
            1239,
            1530,
            1530,
            1530,
            1530,
            1530,
            1530,
            1530,
            1530,
            1530,
            1530,
            1530,
            1530,
            1530,
            1530,
            1530,
            1530,
            1530,
            1530,
            1530,
            1530,
            1530,
            1530,
            1530,
            1530,
            1530,
            1530,
            1530,
            1530,
            1530,
            1530,
            1530,
            1530,
            1530,
            1530,
            1530,
            1530,
            1530,
            1530,
            1530,
            1530,
            1530,
            1530,
            1530,
            1530,
            1530,
            1530,
            1530,
            1530,
            1530,
            1530,
            1530,
            1530,
            1530,
            1530,
            1530,
            1530,
            1530,
            1530,
            1530,
            2324,
            2324,
            2324,
            2324,
            2324,
            2324,
            2324,
            2324,
            2324,
            2324,
            2324,
            2324,
            2324,
            2324,
            2324,
            2324,
            2324,
            2324,
            2324,
            2324,
            2324,
            2324,
            2324,
            2324,
            2324,
            2324,
            2324,
            2324,
            2324,
            2324,
            2324,
            2324,
            2324,
            2324,
            2324,
            2324,
            2324,
            2324,
            2324,
            2324,
            2324,
            2324,
            2324,
            2324,
            2324,
            2324,
            2324,
            2324,
            2324,
            2324,
            2324,
            2324,
            2324,
            2324,
            2324,
            2324,
            2324,
            2324,
            2971,
            2971,
            2971,
            2971,
            2971,
            2971,
            2971,
            2971,
            2971,
            2971,
            2971,
            2971,
            2971,
            2971,
            2971,
            2971,
            2971,
            2971,
            2971,
            2971,
            2971,
            2971,
            2971,
            2971,
            2971,
            2971,
            2971,
            2971,
            2971,
            2971,
            2971,
            2971,
            2971,
            2971,
            2971,
            2971,
            2971,
            2971,
            2971,
            2971,
            2971,
            2971,
            2971,
            2971,
            2971,
            2971,
            2971,
            2971,
            2971,
            2971,
            2971,
            2971,
            2971,
            2971,
            2971,
            2971,
            2971,
            3528,
            3528,
            3528,
            3528,
            3528,
            3528,
            3528,
            3528,
            3528,
            3528,
            3528,
            3528,
            3528,
            3528,
            3528,
            3528,
            3528,
            3528,
            3528,
            3528,
            3528,
            3528,
            3528,
            3528,
            3528,
            3528,
            3528,
            3528,
            3528,
            3528,
            3528,
            3528,
            3528,
            3528,
            3528,
            3528,
            3528,
            3528,
            3528,
            3528,
            3528,
            3528,
            3528,
            3528,
            3528,
            3528,
            3528,
            3528,
            3528,
            3528,
            3528,
            3528,
            3528,
            3528,
            3528,
            3528,
            3528,
            3528,
            3528,
            3528,
            3739,
            3739,
            3739,
            3739,
            3739,
            3739,
            3739,
            3739,
            3739,
            3739,
            3739,
            3739,
            3739,
            3739,
            3739,
            3739,
            3739,
            3739,
            3739,
            3739,
            3739,
            3739,
            3739,
            3739,
            3739,
            3739,
            3739,
            3739,
            3739,
            3739,
            3739,
            3739,
            3739,
            3739,
            3739,
            3739,
            3739,
            3739,
            3739,
            3739,
            3739,
            3739,
            3739,
            3739,
            3739,
            3739,
            3739,
            3739,
            3739,
            3739,
            3739,
            3739,
            3739,
            3739,
            3739,
            3739,
            3739,
            3739,
            4390,
            4390,
            4390,
            4390,
            4390,
            4390,
            4390,
            4390,
            4390,
            4390,
            4390,
            4390,
            4390,
            4390,
            4390,
            4390,
            4390,
            4390,
            4390,
            4390,
            4390,
            4390,
            4390,
            4390,
            4390,
            4390,
            4390,
            4390,
            4390,
            4390,
            4390,
            4390,
            4390,
            4390,
            4390,
            4390,
            4390,
            4390,
            4390,
            4390,
            4390,
            4390,
            4390,
            4390,
            4390,
            4390
           ]
          },
          {
           "label": "year",
           "values": [
            null,
            null,
            null,
            null,
            null,
            null,
            null,
            null,
            null,
            null,
            null,
            null,
            null,
            null,
            null,
            null,
            null,
            null,
            null,
            null,
            null,
            null,
            null,
            null,
            null,
            null,
            null,
            null,
            null,
            null,
            null,
            null,
            null,
            null,
            null,
            null,
            null,
            null,
            null,
            null,
            null,
            null,
            null,
            null,
            null,
            null,
            null,
            null,
            null,
            null,
            null,
            null,
            null,
            null,
            null,
            null,
            null,
            null,
            null,
            null,
            null,
            null,
            null,
            null,
            null,
            null,
            null,
            null,
            null,
            null,
            null,
            null,
            null,
            null,
            null,
            null,
            null,
            null,
            null,
            null,
            null,
            null,
            null,
            null,
            null,
            null,
            null,
            null,
            null,
            null,
            null,
            null,
            null,
            null,
            null,
            null,
            null,
            null,
            null,
            null,
            null,
            null,
            null,
            null,
            null,
            null,
            null,
            null,
            null,
            null,
            null,
            null,
            null,
            null,
            null,
            null,
            null,
            null,
            null,
            null,
            null,
            null,
            null,
            null,
            null,
            null,
            null,
            null,
            null,
            null,
            null,
            null,
            null,
            null,
            null,
            null,
            null,
            null,
            null,
            null,
            null,
            null,
            null,
            null,
            null,
            null,
            null,
            null,
            null,
            null,
            null,
            null,
            null,
            null,
            null,
            null,
            null,
            null,
            null,
            null,
            null,
            null,
            null,
            null,
            null,
            null,
            null,
            null,
            null,
            null,
            null,
            null,
            null,
            null,
            null,
            null,
            null,
            null,
            null,
            null,
            null,
            null,
            null,
            null,
            null,
            null,
            null,
            null,
            null,
            null,
            null,
            null,
            null,
            null,
            null,
            null,
            null,
            null,
            null,
            null,
            null,
            null,
            null,
            null,
            null,
            null,
            null,
            null,
            null,
            null,
            null,
            null,
            null,
            null,
            null,
            null,
            null,
            null,
            null,
            null,
            null,
            null,
            null,
            null,
            null,
            null,
            null,
            null,
            null,
            null,
            null,
            null,
            null,
            null,
            null,
            null,
            null,
            null,
            null,
            null,
            null,
            null,
            null,
            null,
            null,
            null,
            null,
            null,
            null,
            null,
            null,
            null,
            null,
            null,
            null,
            null,
            null,
            null,
            null,
            null,
            null,
            null,
            null,
            null,
            null,
            null,
            null,
            null,
            null,
            null,
            null,
            null,
            null,
            null,
            null,
            null,
            null,
            null,
            null,
            null,
            null,
            null,
            null,
            null,
            null,
            null,
            null,
            null,
            null,
            null,
            null,
            null,
            null,
            null,
            null,
            null,
            null,
            null,
            null,
            null,
            null,
            null,
            null,
            null,
            null,
            null,
            null,
            null,
            null,
            null,
            null,
            null,
            null,
            null,
            null,
            null,
            null,
            null,
            null,
            null,
            null,
            null,
            null,
            null,
            null,
            null,
            null,
            null,
            null,
            null,
            null,
            null,
            null,
            null,
            null,
            null,
            null,
            null,
            null,
            null,
            null,
            null,
            null,
            null,
            null,
            null,
            null,
            null,
            null,
            null,
            null,
            null,
            null,
            null,
            null,
            null,
            null,
            null,
            null,
            null,
            null,
            null,
            null,
            null,
            null,
            null,
            null,
            null,
            null,
            null,
            null,
            null,
            null,
            null,
            null,
            null,
            null,
            null,
            null,
            null,
            null,
            null,
            null,
            null,
            null,
            null,
            null,
            null,
            null,
            null,
            null,
            null,
            null,
            null,
            null,
            null,
            null
           ]
          }
         ],
         "domain": {
          "x": [
           0,
           1
          ],
          "y": [
           0,
           1
          ]
         },
         "line": {
          "color": [
           null,
           null,
           null,
           null,
           null,
           null,
           null,
           null,
           null,
           null,
           null,
           null,
           null,
           null,
           null,
           null,
           null,
           null,
           null,
           null,
           null,
           null,
           null,
           null,
           null,
           null,
           null,
           null,
           null,
           null,
           null,
           null,
           null,
           null,
           null,
           null,
           null,
           null,
           null,
           null,
           null,
           null,
           null,
           null,
           null,
           null,
           null,
           null,
           null,
           null,
           null,
           null,
           null,
           null,
           null,
           null,
           null,
           null,
           null,
           null,
           null,
           null,
           null,
           null,
           null,
           null,
           null,
           null,
           null,
           null,
           null,
           null,
           null,
           null,
           null,
           null,
           null,
           null,
           null,
           null,
           null,
           null,
           null,
           null,
           null,
           null,
           null,
           null,
           null,
           null,
           null,
           null,
           null,
           null,
           null,
           null,
           null,
           null,
           null,
           null,
           null,
           null,
           null,
           null,
           null,
           null,
           null,
           null,
           null,
           null,
           null,
           null,
           null,
           null,
           null,
           null,
           null,
           null,
           null,
           null,
           null,
           null,
           null,
           null,
           null,
           null,
           null,
           null,
           null,
           null,
           null,
           null,
           null,
           null,
           null,
           null,
           null,
           null,
           null,
           null,
           null,
           null,
           null,
           null,
           null,
           null,
           null,
           null,
           null,
           null,
           null,
           null,
           null,
           null,
           null,
           null,
           null,
           null,
           null,
           null,
           null,
           null,
           null,
           null,
           null,
           null,
           null,
           null,
           null,
           null,
           null,
           null,
           null,
           null,
           null,
           null,
           null,
           null,
           null,
           null,
           null,
           null,
           null,
           null,
           null,
           null,
           null,
           null,
           null,
           null,
           null,
           null,
           null,
           null,
           null,
           null,
           null,
           null,
           null,
           null,
           null,
           null,
           null,
           null,
           null,
           null,
           null,
           null,
           null,
           null,
           null,
           null,
           null,
           null,
           null,
           null,
           null,
           null,
           null,
           null,
           null,
           null,
           null,
           null,
           null,
           null,
           null,
           null,
           null,
           null,
           null,
           null,
           null,
           null,
           null,
           null,
           null,
           null,
           null,
           null,
           null,
           null,
           null,
           null,
           null,
           null,
           null,
           null,
           null,
           null,
           null,
           null,
           null,
           null,
           null,
           null,
           null,
           null,
           null,
           null,
           null,
           null,
           null,
           null,
           null,
           null,
           null,
           null,
           null,
           null,
           null,
           null,
           null,
           null,
           null,
           null,
           null,
           null,
           null,
           null,
           null,
           null,
           null,
           null,
           null,
           null,
           null,
           null,
           null,
           null,
           null,
           null,
           null,
           null,
           null,
           null,
           null,
           null,
           null,
           null,
           null,
           null,
           null,
           null,
           null,
           null,
           null,
           null,
           null,
           null,
           null,
           null,
           null,
           null,
           null,
           null,
           null,
           null,
           null,
           null,
           null,
           null,
           null,
           null,
           null,
           null,
           null,
           null,
           null,
           null,
           null,
           null,
           null,
           null,
           null,
           null,
           null,
           null,
           null,
           null,
           null,
           null,
           null,
           null,
           null,
           null,
           null,
           null,
           null,
           null,
           null,
           null,
           null,
           null,
           null,
           null,
           null,
           null,
           null,
           null,
           null,
           null,
           null,
           null,
           null,
           null,
           null,
           null,
           null,
           null,
           null,
           null,
           null,
           null,
           null,
           null,
           null,
           null,
           null,
           null,
           null,
           null,
           null,
           null,
           null,
           null,
           null,
           null,
           null,
           null,
           null,
           null,
           null,
           null,
           null,
           null,
           null
          ],
          "coloraxis": "coloraxis"
         },
         "name": "",
         "type": "parcoords"
        }
       ],
       "layout": {
        "coloraxis": {
         "colorbar": {
          "title": {
           "text": "year"
          }
         },
         "colorscale": [
          [
           0,
           "#0d0887"
          ],
          [
           0.1111111111111111,
           "#46039f"
          ],
          [
           0.2222222222222222,
           "#7201a8"
          ],
          [
           0.3333333333333333,
           "#9c179e"
          ],
          [
           0.4444444444444444,
           "#bd3786"
          ],
          [
           0.5555555555555556,
           "#d8576b"
          ],
          [
           0.6666666666666666,
           "#ed7953"
          ],
          [
           0.7777777777777778,
           "#fb9f3a"
          ],
          [
           0.8888888888888888,
           "#fdca26"
          ],
          [
           1,
           "#f0f921"
          ]
         ]
        },
        "legend": {
         "tracegroupgap": 0
        },
        "margin": {
         "t": 60
        },
        "template": {
         "data": {
          "bar": [
           {
            "error_x": {
             "color": "#2a3f5f"
            },
            "error_y": {
             "color": "#2a3f5f"
            },
            "marker": {
             "line": {
              "color": "#E5ECF6",
              "width": 0.5
             }
            },
            "type": "bar"
           }
          ],
          "barpolar": [
           {
            "marker": {
             "line": {
              "color": "#E5ECF6",
              "width": 0.5
             }
            },
            "type": "barpolar"
           }
          ],
          "carpet": [
           {
            "aaxis": {
             "endlinecolor": "#2a3f5f",
             "gridcolor": "white",
             "linecolor": "white",
             "minorgridcolor": "white",
             "startlinecolor": "#2a3f5f"
            },
            "baxis": {
             "endlinecolor": "#2a3f5f",
             "gridcolor": "white",
             "linecolor": "white",
             "minorgridcolor": "white",
             "startlinecolor": "#2a3f5f"
            },
            "type": "carpet"
           }
          ],
          "choropleth": [
           {
            "colorbar": {
             "outlinewidth": 0,
             "ticks": ""
            },
            "type": "choropleth"
           }
          ],
          "contour": [
           {
            "colorbar": {
             "outlinewidth": 0,
             "ticks": ""
            },
            "colorscale": [
             [
              0,
              "#0d0887"
             ],
             [
              0.1111111111111111,
              "#46039f"
             ],
             [
              0.2222222222222222,
              "#7201a8"
             ],
             [
              0.3333333333333333,
              "#9c179e"
             ],
             [
              0.4444444444444444,
              "#bd3786"
             ],
             [
              0.5555555555555556,
              "#d8576b"
             ],
             [
              0.6666666666666666,
              "#ed7953"
             ],
             [
              0.7777777777777778,
              "#fb9f3a"
             ],
             [
              0.8888888888888888,
              "#fdca26"
             ],
             [
              1,
              "#f0f921"
             ]
            ],
            "type": "contour"
           }
          ],
          "contourcarpet": [
           {
            "colorbar": {
             "outlinewidth": 0,
             "ticks": ""
            },
            "type": "contourcarpet"
           }
          ],
          "heatmap": [
           {
            "colorbar": {
             "outlinewidth": 0,
             "ticks": ""
            },
            "colorscale": [
             [
              0,
              "#0d0887"
             ],
             [
              0.1111111111111111,
              "#46039f"
             ],
             [
              0.2222222222222222,
              "#7201a8"
             ],
             [
              0.3333333333333333,
              "#9c179e"
             ],
             [
              0.4444444444444444,
              "#bd3786"
             ],
             [
              0.5555555555555556,
              "#d8576b"
             ],
             [
              0.6666666666666666,
              "#ed7953"
             ],
             [
              0.7777777777777778,
              "#fb9f3a"
             ],
             [
              0.8888888888888888,
              "#fdca26"
             ],
             [
              1,
              "#f0f921"
             ]
            ],
            "type": "heatmap"
           }
          ],
          "heatmapgl": [
           {
            "colorbar": {
             "outlinewidth": 0,
             "ticks": ""
            },
            "colorscale": [
             [
              0,
              "#0d0887"
             ],
             [
              0.1111111111111111,
              "#46039f"
             ],
             [
              0.2222222222222222,
              "#7201a8"
             ],
             [
              0.3333333333333333,
              "#9c179e"
             ],
             [
              0.4444444444444444,
              "#bd3786"
             ],
             [
              0.5555555555555556,
              "#d8576b"
             ],
             [
              0.6666666666666666,
              "#ed7953"
             ],
             [
              0.7777777777777778,
              "#fb9f3a"
             ],
             [
              0.8888888888888888,
              "#fdca26"
             ],
             [
              1,
              "#f0f921"
             ]
            ],
            "type": "heatmapgl"
           }
          ],
          "histogram": [
           {
            "marker": {
             "colorbar": {
              "outlinewidth": 0,
              "ticks": ""
             }
            },
            "type": "histogram"
           }
          ],
          "histogram2d": [
           {
            "colorbar": {
             "outlinewidth": 0,
             "ticks": ""
            },
            "colorscale": [
             [
              0,
              "#0d0887"
             ],
             [
              0.1111111111111111,
              "#46039f"
             ],
             [
              0.2222222222222222,
              "#7201a8"
             ],
             [
              0.3333333333333333,
              "#9c179e"
             ],
             [
              0.4444444444444444,
              "#bd3786"
             ],
             [
              0.5555555555555556,
              "#d8576b"
             ],
             [
              0.6666666666666666,
              "#ed7953"
             ],
             [
              0.7777777777777778,
              "#fb9f3a"
             ],
             [
              0.8888888888888888,
              "#fdca26"
             ],
             [
              1,
              "#f0f921"
             ]
            ],
            "type": "histogram2d"
           }
          ],
          "histogram2dcontour": [
           {
            "colorbar": {
             "outlinewidth": 0,
             "ticks": ""
            },
            "colorscale": [
             [
              0,
              "#0d0887"
             ],
             [
              0.1111111111111111,
              "#46039f"
             ],
             [
              0.2222222222222222,
              "#7201a8"
             ],
             [
              0.3333333333333333,
              "#9c179e"
             ],
             [
              0.4444444444444444,
              "#bd3786"
             ],
             [
              0.5555555555555556,
              "#d8576b"
             ],
             [
              0.6666666666666666,
              "#ed7953"
             ],
             [
              0.7777777777777778,
              "#fb9f3a"
             ],
             [
              0.8888888888888888,
              "#fdca26"
             ],
             [
              1,
              "#f0f921"
             ]
            ],
            "type": "histogram2dcontour"
           }
          ],
          "mesh3d": [
           {
            "colorbar": {
             "outlinewidth": 0,
             "ticks": ""
            },
            "type": "mesh3d"
           }
          ],
          "parcoords": [
           {
            "line": {
             "colorbar": {
              "outlinewidth": 0,
              "ticks": ""
             }
            },
            "type": "parcoords"
           }
          ],
          "pie": [
           {
            "automargin": true,
            "type": "pie"
           }
          ],
          "scatter": [
           {
            "marker": {
             "colorbar": {
              "outlinewidth": 0,
              "ticks": ""
             }
            },
            "type": "scatter"
           }
          ],
          "scatter3d": [
           {
            "line": {
             "colorbar": {
              "outlinewidth": 0,
              "ticks": ""
             }
            },
            "marker": {
             "colorbar": {
              "outlinewidth": 0,
              "ticks": ""
             }
            },
            "type": "scatter3d"
           }
          ],
          "scattercarpet": [
           {
            "marker": {
             "colorbar": {
              "outlinewidth": 0,
              "ticks": ""
             }
            },
            "type": "scattercarpet"
           }
          ],
          "scattergeo": [
           {
            "marker": {
             "colorbar": {
              "outlinewidth": 0,
              "ticks": ""
             }
            },
            "type": "scattergeo"
           }
          ],
          "scattergl": [
           {
            "marker": {
             "colorbar": {
              "outlinewidth": 0,
              "ticks": ""
             }
            },
            "type": "scattergl"
           }
          ],
          "scattermapbox": [
           {
            "marker": {
             "colorbar": {
              "outlinewidth": 0,
              "ticks": ""
             }
            },
            "type": "scattermapbox"
           }
          ],
          "scatterpolar": [
           {
            "marker": {
             "colorbar": {
              "outlinewidth": 0,
              "ticks": ""
             }
            },
            "type": "scatterpolar"
           }
          ],
          "scatterpolargl": [
           {
            "marker": {
             "colorbar": {
              "outlinewidth": 0,
              "ticks": ""
             }
            },
            "type": "scatterpolargl"
           }
          ],
          "scatterternary": [
           {
            "marker": {
             "colorbar": {
              "outlinewidth": 0,
              "ticks": ""
             }
            },
            "type": "scatterternary"
           }
          ],
          "surface": [
           {
            "colorbar": {
             "outlinewidth": 0,
             "ticks": ""
            },
            "colorscale": [
             [
              0,
              "#0d0887"
             ],
             [
              0.1111111111111111,
              "#46039f"
             ],
             [
              0.2222222222222222,
              "#7201a8"
             ],
             [
              0.3333333333333333,
              "#9c179e"
             ],
             [
              0.4444444444444444,
              "#bd3786"
             ],
             [
              0.5555555555555556,
              "#d8576b"
             ],
             [
              0.6666666666666666,
              "#ed7953"
             ],
             [
              0.7777777777777778,
              "#fb9f3a"
             ],
             [
              0.8888888888888888,
              "#fdca26"
             ],
             [
              1,
              "#f0f921"
             ]
            ],
            "type": "surface"
           }
          ],
          "table": [
           {
            "cells": {
             "fill": {
              "color": "#EBF0F8"
             },
             "line": {
              "color": "white"
             }
            },
            "header": {
             "fill": {
              "color": "#C8D4E3"
             },
             "line": {
              "color": "white"
             }
            },
            "type": "table"
           }
          ]
         },
         "layout": {
          "annotationdefaults": {
           "arrowcolor": "#2a3f5f",
           "arrowhead": 0,
           "arrowwidth": 1
          },
          "coloraxis": {
           "colorbar": {
            "outlinewidth": 0,
            "ticks": ""
           }
          },
          "colorscale": {
           "diverging": [
            [
             0,
             "#8e0152"
            ],
            [
             0.1,
             "#c51b7d"
            ],
            [
             0.2,
             "#de77ae"
            ],
            [
             0.3,
             "#f1b6da"
            ],
            [
             0.4,
             "#fde0ef"
            ],
            [
             0.5,
             "#f7f7f7"
            ],
            [
             0.6,
             "#e6f5d0"
            ],
            [
             0.7,
             "#b8e186"
            ],
            [
             0.8,
             "#7fbc41"
            ],
            [
             0.9,
             "#4d9221"
            ],
            [
             1,
             "#276419"
            ]
           ],
           "sequential": [
            [
             0,
             "#0d0887"
            ],
            [
             0.1111111111111111,
             "#46039f"
            ],
            [
             0.2222222222222222,
             "#7201a8"
            ],
            [
             0.3333333333333333,
             "#9c179e"
            ],
            [
             0.4444444444444444,
             "#bd3786"
            ],
            [
             0.5555555555555556,
             "#d8576b"
            ],
            [
             0.6666666666666666,
             "#ed7953"
            ],
            [
             0.7777777777777778,
             "#fb9f3a"
            ],
            [
             0.8888888888888888,
             "#fdca26"
            ],
            [
             1,
             "#f0f921"
            ]
           ],
           "sequentialminus": [
            [
             0,
             "#0d0887"
            ],
            [
             0.1111111111111111,
             "#46039f"
            ],
            [
             0.2222222222222222,
             "#7201a8"
            ],
            [
             0.3333333333333333,
             "#9c179e"
            ],
            [
             0.4444444444444444,
             "#bd3786"
            ],
            [
             0.5555555555555556,
             "#d8576b"
            ],
            [
             0.6666666666666666,
             "#ed7953"
            ],
            [
             0.7777777777777778,
             "#fb9f3a"
            ],
            [
             0.8888888888888888,
             "#fdca26"
            ],
            [
             1,
             "#f0f921"
            ]
           ]
          },
          "colorway": [
           "#636efa",
           "#EF553B",
           "#00cc96",
           "#ab63fa",
           "#FFA15A",
           "#19d3f3",
           "#FF6692",
           "#B6E880",
           "#FF97FF",
           "#FECB52"
          ],
          "font": {
           "color": "#2a3f5f"
          },
          "geo": {
           "bgcolor": "white",
           "lakecolor": "white",
           "landcolor": "#E5ECF6",
           "showlakes": true,
           "showland": true,
           "subunitcolor": "white"
          },
          "hoverlabel": {
           "align": "left"
          },
          "hovermode": "closest",
          "mapbox": {
           "style": "light"
          },
          "paper_bgcolor": "white",
          "plot_bgcolor": "#E5ECF6",
          "polar": {
           "angularaxis": {
            "gridcolor": "white",
            "linecolor": "white",
            "ticks": ""
           },
           "bgcolor": "#E5ECF6",
           "radialaxis": {
            "gridcolor": "white",
            "linecolor": "white",
            "ticks": ""
           }
          },
          "scene": {
           "xaxis": {
            "backgroundcolor": "#E5ECF6",
            "gridcolor": "white",
            "gridwidth": 2,
            "linecolor": "white",
            "showbackground": true,
            "ticks": "",
            "zerolinecolor": "white"
           },
           "yaxis": {
            "backgroundcolor": "#E5ECF6",
            "gridcolor": "white",
            "gridwidth": 2,
            "linecolor": "white",
            "showbackground": true,
            "ticks": "",
            "zerolinecolor": "white"
           },
           "zaxis": {
            "backgroundcolor": "#E5ECF6",
            "gridcolor": "white",
            "gridwidth": 2,
            "linecolor": "white",
            "showbackground": true,
            "ticks": "",
            "zerolinecolor": "white"
           }
          },
          "shapedefaults": {
           "line": {
            "color": "#2a3f5f"
           }
          },
          "ternary": {
           "aaxis": {
            "gridcolor": "white",
            "linecolor": "white",
            "ticks": ""
           },
           "baxis": {
            "gridcolor": "white",
            "linecolor": "white",
            "ticks": ""
           },
           "bgcolor": "#E5ECF6",
           "caxis": {
            "gridcolor": "white",
            "linecolor": "white",
            "ticks": ""
           }
          },
          "title": {
           "x": 0.05
          },
          "xaxis": {
           "automargin": true,
           "gridcolor": "white",
           "linecolor": "white",
           "ticks": "",
           "title": {
            "standoff": 15
           },
           "zerolinecolor": "white",
           "zerolinewidth": 2
          },
          "yaxis": {
           "automargin": true,
           "gridcolor": "white",
           "linecolor": "white",
           "ticks": "",
           "title": {
            "standoff": 15
           },
           "zerolinecolor": "white",
           "zerolinewidth": 2
          }
         }
        }
       }
      }
     },
     "metadata": {}
    }
   ],
   "source": [
    "# Parallel Coordinates Plot\n",
    "px.parallel_coordinates(sfo_data, color=sfo_data.index)"
   ]
  },
  {
   "cell_type": "code",
   "execution_count": 51,
   "metadata": {},
   "outputs": [
    {
     "output_type": "display_data",
     "data": {
      "application/vnd.plotly.v1+json": {
       "config": {
        "plotlyServerURL": "https://plot.ly"
       },
       "data": [
        {
         "dimensions": [
          {
           "label": "housing_units",
           "values": [
            372560,
            372560,
            372560,
            372560,
            372560,
            372560,
            372560,
            372560,
            372560,
            372560,
            372560,
            372560,
            372560,
            372560,
            372560,
            372560,
            372560,
            372560,
            372560,
            372560,
            372560,
            372560,
            372560,
            372560,
            372560,
            372560,
            372560,
            372560,
            372560,
            372560,
            372560,
            372560,
            372560,
            372560,
            372560,
            372560,
            372560,
            372560,
            372560,
            372560,
            372560,
            372560,
            372560,
            372560,
            372560,
            372560,
            372560,
            372560,
            372560,
            372560,
            372560,
            372560,
            372560,
            372560,
            372560,
            372560,
            372560,
            372560,
            372560,
            374507,
            374507,
            374507,
            374507,
            374507,
            374507,
            374507,
            374507,
            374507,
            374507,
            374507,
            374507,
            374507,
            374507,
            374507,
            374507,
            374507,
            374507,
            374507,
            374507,
            374507,
            374507,
            374507,
            374507,
            374507,
            374507,
            374507,
            374507,
            374507,
            374507,
            374507,
            374507,
            374507,
            374507,
            374507,
            374507,
            374507,
            374507,
            374507,
            374507,
            374507,
            374507,
            374507,
            374507,
            374507,
            374507,
            374507,
            374507,
            374507,
            374507,
            374507,
            374507,
            374507,
            374507,
            374507,
            374507,
            374507,
            374507,
            374507,
            376454,
            376454,
            376454,
            376454,
            376454,
            376454,
            376454,
            376454,
            376454,
            376454,
            376454,
            376454,
            376454,
            376454,
            376454,
            376454,
            376454,
            376454,
            376454,
            376454,
            376454,
            376454,
            376454,
            376454,
            376454,
            376454,
            376454,
            376454,
            376454,
            376454,
            376454,
            376454,
            376454,
            376454,
            376454,
            376454,
            376454,
            376454,
            376454,
            376454,
            376454,
            376454,
            376454,
            376454,
            376454,
            376454,
            376454,
            376454,
            376454,
            376454,
            376454,
            376454,
            376454,
            376454,
            376454,
            376454,
            376454,
            376454,
            378401,
            378401,
            378401,
            378401,
            378401,
            378401,
            378401,
            378401,
            378401,
            378401,
            378401,
            378401,
            378401,
            378401,
            378401,
            378401,
            378401,
            378401,
            378401,
            378401,
            378401,
            378401,
            378401,
            378401,
            378401,
            378401,
            378401,
            378401,
            378401,
            378401,
            378401,
            378401,
            378401,
            378401,
            378401,
            378401,
            378401,
            378401,
            378401,
            378401,
            378401,
            378401,
            378401,
            378401,
            378401,
            378401,
            378401,
            378401,
            378401,
            378401,
            378401,
            378401,
            378401,
            378401,
            378401,
            378401,
            378401,
            380348,
            380348,
            380348,
            380348,
            380348,
            380348,
            380348,
            380348,
            380348,
            380348,
            380348,
            380348,
            380348,
            380348,
            380348,
            380348,
            380348,
            380348,
            380348,
            380348,
            380348,
            380348,
            380348,
            380348,
            380348,
            380348,
            380348,
            380348,
            380348,
            380348,
            380348,
            380348,
            380348,
            380348,
            380348,
            380348,
            380348,
            380348,
            380348,
            380348,
            380348,
            380348,
            380348,
            380348,
            380348,
            380348,
            380348,
            380348,
            380348,
            380348,
            380348,
            380348,
            380348,
            380348,
            380348,
            380348,
            380348,
            380348,
            380348,
            380348,
            382295,
            382295,
            382295,
            382295,
            382295,
            382295,
            382295,
            382295,
            382295,
            382295,
            382295,
            382295,
            382295,
            382295,
            382295,
            382295,
            382295,
            382295,
            382295,
            382295,
            382295,
            382295,
            382295,
            382295,
            382295,
            382295,
            382295,
            382295,
            382295,
            382295,
            382295,
            382295,
            382295,
            382295,
            382295,
            382295,
            382295,
            382295,
            382295,
            382295,
            382295,
            382295,
            382295,
            382295,
            382295,
            382295,
            382295,
            382295,
            382295,
            382295,
            382295,
            382295,
            382295,
            382295,
            382295,
            382295,
            382295,
            382295,
            384242,
            384242,
            384242,
            384242,
            384242,
            384242,
            384242,
            384242,
            384242,
            384242,
            384242,
            384242,
            384242,
            384242,
            384242,
            384242,
            384242,
            384242,
            384242,
            384242,
            384242,
            384242,
            384242,
            384242,
            384242,
            384242,
            384242,
            384242,
            384242,
            384242,
            384242,
            384242,
            384242,
            384242,
            384242,
            384242,
            384242,
            384242,
            384242,
            384242,
            384242,
            384242,
            384242,
            384242,
            384242,
            384242
           ]
          },
          {
           "label": "gross_rent",
           "values": [
            1239,
            1239,
            1239,
            1239,
            1239,
            1239,
            1239,
            1239,
            1239,
            1239,
            1239,
            1239,
            1239,
            1239,
            1239,
            1239,
            1239,
            1239,
            1239,
            1239,
            1239,
            1239,
            1239,
            1239,
            1239,
            1239,
            1239,
            1239,
            1239,
            1239,
            1239,
            1239,
            1239,
            1239,
            1239,
            1239,
            1239,
            1239,
            1239,
            1239,
            1239,
            1239,
            1239,
            1239,
            1239,
            1239,
            1239,
            1239,
            1239,
            1239,
            1239,
            1239,
            1239,
            1239,
            1239,
            1239,
            1239,
            1239,
            1239,
            1530,
            1530,
            1530,
            1530,
            1530,
            1530,
            1530,
            1530,
            1530,
            1530,
            1530,
            1530,
            1530,
            1530,
            1530,
            1530,
            1530,
            1530,
            1530,
            1530,
            1530,
            1530,
            1530,
            1530,
            1530,
            1530,
            1530,
            1530,
            1530,
            1530,
            1530,
            1530,
            1530,
            1530,
            1530,
            1530,
            1530,
            1530,
            1530,
            1530,
            1530,
            1530,
            1530,
            1530,
            1530,
            1530,
            1530,
            1530,
            1530,
            1530,
            1530,
            1530,
            1530,
            1530,
            1530,
            1530,
            1530,
            1530,
            1530,
            2324,
            2324,
            2324,
            2324,
            2324,
            2324,
            2324,
            2324,
            2324,
            2324,
            2324,
            2324,
            2324,
            2324,
            2324,
            2324,
            2324,
            2324,
            2324,
            2324,
            2324,
            2324,
            2324,
            2324,
            2324,
            2324,
            2324,
            2324,
            2324,
            2324,
            2324,
            2324,
            2324,
            2324,
            2324,
            2324,
            2324,
            2324,
            2324,
            2324,
            2324,
            2324,
            2324,
            2324,
            2324,
            2324,
            2324,
            2324,
            2324,
            2324,
            2324,
            2324,
            2324,
            2324,
            2324,
            2324,
            2324,
            2324,
            2971,
            2971,
            2971,
            2971,
            2971,
            2971,
            2971,
            2971,
            2971,
            2971,
            2971,
            2971,
            2971,
            2971,
            2971,
            2971,
            2971,
            2971,
            2971,
            2971,
            2971,
            2971,
            2971,
            2971,
            2971,
            2971,
            2971,
            2971,
            2971,
            2971,
            2971,
            2971,
            2971,
            2971,
            2971,
            2971,
            2971,
            2971,
            2971,
            2971,
            2971,
            2971,
            2971,
            2971,
            2971,
            2971,
            2971,
            2971,
            2971,
            2971,
            2971,
            2971,
            2971,
            2971,
            2971,
            2971,
            2971,
            3528,
            3528,
            3528,
            3528,
            3528,
            3528,
            3528,
            3528,
            3528,
            3528,
            3528,
            3528,
            3528,
            3528,
            3528,
            3528,
            3528,
            3528,
            3528,
            3528,
            3528,
            3528,
            3528,
            3528,
            3528,
            3528,
            3528,
            3528,
            3528,
            3528,
            3528,
            3528,
            3528,
            3528,
            3528,
            3528,
            3528,
            3528,
            3528,
            3528,
            3528,
            3528,
            3528,
            3528,
            3528,
            3528,
            3528,
            3528,
            3528,
            3528,
            3528,
            3528,
            3528,
            3528,
            3528,
            3528,
            3528,
            3528,
            3528,
            3528,
            3739,
            3739,
            3739,
            3739,
            3739,
            3739,
            3739,
            3739,
            3739,
            3739,
            3739,
            3739,
            3739,
            3739,
            3739,
            3739,
            3739,
            3739,
            3739,
            3739,
            3739,
            3739,
            3739,
            3739,
            3739,
            3739,
            3739,
            3739,
            3739,
            3739,
            3739,
            3739,
            3739,
            3739,
            3739,
            3739,
            3739,
            3739,
            3739,
            3739,
            3739,
            3739,
            3739,
            3739,
            3739,
            3739,
            3739,
            3739,
            3739,
            3739,
            3739,
            3739,
            3739,
            3739,
            3739,
            3739,
            3739,
            3739,
            4390,
            4390,
            4390,
            4390,
            4390,
            4390,
            4390,
            4390,
            4390,
            4390,
            4390,
            4390,
            4390,
            4390,
            4390,
            4390,
            4390,
            4390,
            4390,
            4390,
            4390,
            4390,
            4390,
            4390,
            4390,
            4390,
            4390,
            4390,
            4390,
            4390,
            4390,
            4390,
            4390,
            4390,
            4390,
            4390,
            4390,
            4390,
            4390,
            4390,
            4390,
            4390,
            4390,
            4390,
            4390,
            4390
           ]
          },
          {
           "label": "year",
           "values": [
            null,
            null,
            null,
            null,
            null,
            null,
            null,
            null,
            null,
            null,
            null,
            null,
            null,
            null,
            null,
            null,
            null,
            null,
            null,
            null,
            null,
            null,
            null,
            null,
            null,
            null,
            null,
            null,
            null,
            null,
            null,
            null,
            null,
            null,
            null,
            null,
            null,
            null,
            null,
            null,
            null,
            null,
            null,
            null,
            null,
            null,
            null,
            null,
            null,
            null,
            null,
            null,
            null,
            null,
            null,
            null,
            null,
            null,
            null,
            null,
            null,
            null,
            null,
            null,
            null,
            null,
            null,
            null,
            null,
            null,
            null,
            null,
            null,
            null,
            null,
            null,
            null,
            null,
            null,
            null,
            null,
            null,
            null,
            null,
            null,
            null,
            null,
            null,
            null,
            null,
            null,
            null,
            null,
            null,
            null,
            null,
            null,
            null,
            null,
            null,
            null,
            null,
            null,
            null,
            null,
            null,
            null,
            null,
            null,
            null,
            null,
            null,
            null,
            null,
            null,
            null,
            null,
            null,
            null,
            null,
            null,
            null,
            null,
            null,
            null,
            null,
            null,
            null,
            null,
            null,
            null,
            null,
            null,
            null,
            null,
            null,
            null,
            null,
            null,
            null,
            null,
            null,
            null,
            null,
            null,
            null,
            null,
            null,
            null,
            null,
            null,
            null,
            null,
            null,
            null,
            null,
            null,
            null,
            null,
            null,
            null,
            null,
            null,
            null,
            null,
            null,
            null,
            null,
            null,
            null,
            null,
            null,
            null,
            null,
            null,
            null,
            null,
            null,
            null,
            null,
            null,
            null,
            null,
            null,
            null,
            null,
            null,
            null,
            null,
            null,
            null,
            null,
            null,
            null,
            null,
            null,
            null,
            null,
            null,
            null,
            null,
            null,
            null,
            null,
            null,
            null,
            null,
            null,
            null,
            null,
            null,
            null,
            null,
            null,
            null,
            null,
            null,
            null,
            null,
            null,
            null,
            null,
            null,
            null,
            null,
            null,
            null,
            null,
            null,
            null,
            null,
            null,
            null,
            null,
            null,
            null,
            null,
            null,
            null,
            null,
            null,
            null,
            null,
            null,
            null,
            null,
            null,
            null,
            null,
            null,
            null,
            null,
            null,
            null,
            null,
            null,
            null,
            null,
            null,
            null,
            null,
            null,
            null,
            null,
            null,
            null,
            null,
            null,
            null,
            null,
            null,
            null,
            null,
            null,
            null,
            null,
            null,
            null,
            null,
            null,
            null,
            null,
            null,
            null,
            null,
            null,
            null,
            null,
            null,
            null,
            null,
            null,
            null,
            null,
            null,
            null,
            null,
            null,
            null,
            null,
            null,
            null,
            null,
            null,
            null,
            null,
            null,
            null,
            null,
            null,
            null,
            null,
            null,
            null,
            null,
            null,
            null,
            null,
            null,
            null,
            null,
            null,
            null,
            null,
            null,
            null,
            null,
            null,
            null,
            null,
            null,
            null,
            null,
            null,
            null,
            null,
            null,
            null,
            null,
            null,
            null,
            null,
            null,
            null,
            null,
            null,
            null,
            null,
            null,
            null,
            null,
            null,
            null,
            null,
            null,
            null,
            null,
            null,
            null,
            null,
            null,
            null,
            null,
            null,
            null,
            null,
            null,
            null,
            null,
            null,
            null,
            null,
            null,
            null,
            null,
            null,
            null,
            null,
            null,
            null,
            null,
            null,
            null,
            null,
            null,
            null,
            null,
            null,
            null,
            null,
            null,
            null,
            null,
            null,
            null,
            null,
            null
           ]
          }
         ],
         "domain": {
          "x": [
           0,
           1
          ],
          "y": [
           0,
           1
          ]
         },
         "line": {
          "color": [
           null,
           null,
           null,
           null,
           null,
           null,
           null,
           null,
           null,
           null,
           null,
           null,
           null,
           null,
           null,
           null,
           null,
           null,
           null,
           null,
           null,
           null,
           null,
           null,
           null,
           null,
           null,
           null,
           null,
           null,
           null,
           null,
           null,
           null,
           null,
           null,
           null,
           null,
           null,
           null,
           null,
           null,
           null,
           null,
           null,
           null,
           null,
           null,
           null,
           null,
           null,
           null,
           null,
           null,
           null,
           null,
           null,
           null,
           null,
           null,
           null,
           null,
           null,
           null,
           null,
           null,
           null,
           null,
           null,
           null,
           null,
           null,
           null,
           null,
           null,
           null,
           null,
           null,
           null,
           null,
           null,
           null,
           null,
           null,
           null,
           null,
           null,
           null,
           null,
           null,
           null,
           null,
           null,
           null,
           null,
           null,
           null,
           null,
           null,
           null,
           null,
           null,
           null,
           null,
           null,
           null,
           null,
           null,
           null,
           null,
           null,
           null,
           null,
           null,
           null,
           null,
           null,
           null,
           null,
           null,
           null,
           null,
           null,
           null,
           null,
           null,
           null,
           null,
           null,
           null,
           null,
           null,
           null,
           null,
           null,
           null,
           null,
           null,
           null,
           null,
           null,
           null,
           null,
           null,
           null,
           null,
           null,
           null,
           null,
           null,
           null,
           null,
           null,
           null,
           null,
           null,
           null,
           null,
           null,
           null,
           null,
           null,
           null,
           null,
           null,
           null,
           null,
           null,
           null,
           null,
           null,
           null,
           null,
           null,
           null,
           null,
           null,
           null,
           null,
           null,
           null,
           null,
           null,
           null,
           null,
           null,
           null,
           null,
           null,
           null,
           null,
           null,
           null,
           null,
           null,
           null,
           null,
           null,
           null,
           null,
           null,
           null,
           null,
           null,
           null,
           null,
           null,
           null,
           null,
           null,
           null,
           null,
           null,
           null,
           null,
           null,
           null,
           null,
           null,
           null,
           null,
           null,
           null,
           null,
           null,
           null,
           null,
           null,
           null,
           null,
           null,
           null,
           null,
           null,
           null,
           null,
           null,
           null,
           null,
           null,
           null,
           null,
           null,
           null,
           null,
           null,
           null,
           null,
           null,
           null,
           null,
           null,
           null,
           null,
           null,
           null,
           null,
           null,
           null,
           null,
           null,
           null,
           null,
           null,
           null,
           null,
           null,
           null,
           null,
           null,
           null,
           null,
           null,
           null,
           null,
           null,
           null,
           null,
           null,
           null,
           null,
           null,
           null,
           null,
           null,
           null,
           null,
           null,
           null,
           null,
           null,
           null,
           null,
           null,
           null,
           null,
           null,
           null,
           null,
           null,
           null,
           null,
           null,
           null,
           null,
           null,
           null,
           null,
           null,
           null,
           null,
           null,
           null,
           null,
           null,
           null,
           null,
           null,
           null,
           null,
           null,
           null,
           null,
           null,
           null,
           null,
           null,
           null,
           null,
           null,
           null,
           null,
           null,
           null,
           null,
           null,
           null,
           null,
           null,
           null,
           null,
           null,
           null,
           null,
           null,
           null,
           null,
           null,
           null,
           null,
           null,
           null,
           null,
           null,
           null,
           null,
           null,
           null,
           null,
           null,
           null,
           null,
           null,
           null,
           null,
           null,
           null,
           null,
           null,
           null,
           null,
           null,
           null,
           null,
           null,
           null,
           null,
           null,
           null,
           null,
           null,
           null,
           null,
           null,
           null,
           null,
           null,
           null,
           null,
           null,
           null,
           null,
           null,
           null,
           null,
           null,
           null
          ],
          "coloraxis": "coloraxis"
         },
         "name": "",
         "type": "parcats"
        }
       ],
       "layout": {
        "coloraxis": {
         "colorbar": {
          "title": {
           "text": "year"
          }
         },
         "colorscale": [
          [
           0,
           "#0d0887"
          ],
          [
           0.1111111111111111,
           "#46039f"
          ],
          [
           0.2222222222222222,
           "#7201a8"
          ],
          [
           0.3333333333333333,
           "#9c179e"
          ],
          [
           0.4444444444444444,
           "#bd3786"
          ],
          [
           0.5555555555555556,
           "#d8576b"
          ],
          [
           0.6666666666666666,
           "#ed7953"
          ],
          [
           0.7777777777777778,
           "#fb9f3a"
          ],
          [
           0.8888888888888888,
           "#fdca26"
          ],
          [
           1,
           "#f0f921"
          ]
         ]
        },
        "legend": {
         "tracegroupgap": 0
        },
        "margin": {
         "t": 60
        },
        "template": {
         "data": {
          "bar": [
           {
            "error_x": {
             "color": "#2a3f5f"
            },
            "error_y": {
             "color": "#2a3f5f"
            },
            "marker": {
             "line": {
              "color": "#E5ECF6",
              "width": 0.5
             }
            },
            "type": "bar"
           }
          ],
          "barpolar": [
           {
            "marker": {
             "line": {
              "color": "#E5ECF6",
              "width": 0.5
             }
            },
            "type": "barpolar"
           }
          ],
          "carpet": [
           {
            "aaxis": {
             "endlinecolor": "#2a3f5f",
             "gridcolor": "white",
             "linecolor": "white",
             "minorgridcolor": "white",
             "startlinecolor": "#2a3f5f"
            },
            "baxis": {
             "endlinecolor": "#2a3f5f",
             "gridcolor": "white",
             "linecolor": "white",
             "minorgridcolor": "white",
             "startlinecolor": "#2a3f5f"
            },
            "type": "carpet"
           }
          ],
          "choropleth": [
           {
            "colorbar": {
             "outlinewidth": 0,
             "ticks": ""
            },
            "type": "choropleth"
           }
          ],
          "contour": [
           {
            "colorbar": {
             "outlinewidth": 0,
             "ticks": ""
            },
            "colorscale": [
             [
              0,
              "#0d0887"
             ],
             [
              0.1111111111111111,
              "#46039f"
             ],
             [
              0.2222222222222222,
              "#7201a8"
             ],
             [
              0.3333333333333333,
              "#9c179e"
             ],
             [
              0.4444444444444444,
              "#bd3786"
             ],
             [
              0.5555555555555556,
              "#d8576b"
             ],
             [
              0.6666666666666666,
              "#ed7953"
             ],
             [
              0.7777777777777778,
              "#fb9f3a"
             ],
             [
              0.8888888888888888,
              "#fdca26"
             ],
             [
              1,
              "#f0f921"
             ]
            ],
            "type": "contour"
           }
          ],
          "contourcarpet": [
           {
            "colorbar": {
             "outlinewidth": 0,
             "ticks": ""
            },
            "type": "contourcarpet"
           }
          ],
          "heatmap": [
           {
            "colorbar": {
             "outlinewidth": 0,
             "ticks": ""
            },
            "colorscale": [
             [
              0,
              "#0d0887"
             ],
             [
              0.1111111111111111,
              "#46039f"
             ],
             [
              0.2222222222222222,
              "#7201a8"
             ],
             [
              0.3333333333333333,
              "#9c179e"
             ],
             [
              0.4444444444444444,
              "#bd3786"
             ],
             [
              0.5555555555555556,
              "#d8576b"
             ],
             [
              0.6666666666666666,
              "#ed7953"
             ],
             [
              0.7777777777777778,
              "#fb9f3a"
             ],
             [
              0.8888888888888888,
              "#fdca26"
             ],
             [
              1,
              "#f0f921"
             ]
            ],
            "type": "heatmap"
           }
          ],
          "heatmapgl": [
           {
            "colorbar": {
             "outlinewidth": 0,
             "ticks": ""
            },
            "colorscale": [
             [
              0,
              "#0d0887"
             ],
             [
              0.1111111111111111,
              "#46039f"
             ],
             [
              0.2222222222222222,
              "#7201a8"
             ],
             [
              0.3333333333333333,
              "#9c179e"
             ],
             [
              0.4444444444444444,
              "#bd3786"
             ],
             [
              0.5555555555555556,
              "#d8576b"
             ],
             [
              0.6666666666666666,
              "#ed7953"
             ],
             [
              0.7777777777777778,
              "#fb9f3a"
             ],
             [
              0.8888888888888888,
              "#fdca26"
             ],
             [
              1,
              "#f0f921"
             ]
            ],
            "type": "heatmapgl"
           }
          ],
          "histogram": [
           {
            "marker": {
             "colorbar": {
              "outlinewidth": 0,
              "ticks": ""
             }
            },
            "type": "histogram"
           }
          ],
          "histogram2d": [
           {
            "colorbar": {
             "outlinewidth": 0,
             "ticks": ""
            },
            "colorscale": [
             [
              0,
              "#0d0887"
             ],
             [
              0.1111111111111111,
              "#46039f"
             ],
             [
              0.2222222222222222,
              "#7201a8"
             ],
             [
              0.3333333333333333,
              "#9c179e"
             ],
             [
              0.4444444444444444,
              "#bd3786"
             ],
             [
              0.5555555555555556,
              "#d8576b"
             ],
             [
              0.6666666666666666,
              "#ed7953"
             ],
             [
              0.7777777777777778,
              "#fb9f3a"
             ],
             [
              0.8888888888888888,
              "#fdca26"
             ],
             [
              1,
              "#f0f921"
             ]
            ],
            "type": "histogram2d"
           }
          ],
          "histogram2dcontour": [
           {
            "colorbar": {
             "outlinewidth": 0,
             "ticks": ""
            },
            "colorscale": [
             [
              0,
              "#0d0887"
             ],
             [
              0.1111111111111111,
              "#46039f"
             ],
             [
              0.2222222222222222,
              "#7201a8"
             ],
             [
              0.3333333333333333,
              "#9c179e"
             ],
             [
              0.4444444444444444,
              "#bd3786"
             ],
             [
              0.5555555555555556,
              "#d8576b"
             ],
             [
              0.6666666666666666,
              "#ed7953"
             ],
             [
              0.7777777777777778,
              "#fb9f3a"
             ],
             [
              0.8888888888888888,
              "#fdca26"
             ],
             [
              1,
              "#f0f921"
             ]
            ],
            "type": "histogram2dcontour"
           }
          ],
          "mesh3d": [
           {
            "colorbar": {
             "outlinewidth": 0,
             "ticks": ""
            },
            "type": "mesh3d"
           }
          ],
          "parcoords": [
           {
            "line": {
             "colorbar": {
              "outlinewidth": 0,
              "ticks": ""
             }
            },
            "type": "parcoords"
           }
          ],
          "pie": [
           {
            "automargin": true,
            "type": "pie"
           }
          ],
          "scatter": [
           {
            "marker": {
             "colorbar": {
              "outlinewidth": 0,
              "ticks": ""
             }
            },
            "type": "scatter"
           }
          ],
          "scatter3d": [
           {
            "line": {
             "colorbar": {
              "outlinewidth": 0,
              "ticks": ""
             }
            },
            "marker": {
             "colorbar": {
              "outlinewidth": 0,
              "ticks": ""
             }
            },
            "type": "scatter3d"
           }
          ],
          "scattercarpet": [
           {
            "marker": {
             "colorbar": {
              "outlinewidth": 0,
              "ticks": ""
             }
            },
            "type": "scattercarpet"
           }
          ],
          "scattergeo": [
           {
            "marker": {
             "colorbar": {
              "outlinewidth": 0,
              "ticks": ""
             }
            },
            "type": "scattergeo"
           }
          ],
          "scattergl": [
           {
            "marker": {
             "colorbar": {
              "outlinewidth": 0,
              "ticks": ""
             }
            },
            "type": "scattergl"
           }
          ],
          "scattermapbox": [
           {
            "marker": {
             "colorbar": {
              "outlinewidth": 0,
              "ticks": ""
             }
            },
            "type": "scattermapbox"
           }
          ],
          "scatterpolar": [
           {
            "marker": {
             "colorbar": {
              "outlinewidth": 0,
              "ticks": ""
             }
            },
            "type": "scatterpolar"
           }
          ],
          "scatterpolargl": [
           {
            "marker": {
             "colorbar": {
              "outlinewidth": 0,
              "ticks": ""
             }
            },
            "type": "scatterpolargl"
           }
          ],
          "scatterternary": [
           {
            "marker": {
             "colorbar": {
              "outlinewidth": 0,
              "ticks": ""
             }
            },
            "type": "scatterternary"
           }
          ],
          "surface": [
           {
            "colorbar": {
             "outlinewidth": 0,
             "ticks": ""
            },
            "colorscale": [
             [
              0,
              "#0d0887"
             ],
             [
              0.1111111111111111,
              "#46039f"
             ],
             [
              0.2222222222222222,
              "#7201a8"
             ],
             [
              0.3333333333333333,
              "#9c179e"
             ],
             [
              0.4444444444444444,
              "#bd3786"
             ],
             [
              0.5555555555555556,
              "#d8576b"
             ],
             [
              0.6666666666666666,
              "#ed7953"
             ],
             [
              0.7777777777777778,
              "#fb9f3a"
             ],
             [
              0.8888888888888888,
              "#fdca26"
             ],
             [
              1,
              "#f0f921"
             ]
            ],
            "type": "surface"
           }
          ],
          "table": [
           {
            "cells": {
             "fill": {
              "color": "#EBF0F8"
             },
             "line": {
              "color": "white"
             }
            },
            "header": {
             "fill": {
              "color": "#C8D4E3"
             },
             "line": {
              "color": "white"
             }
            },
            "type": "table"
           }
          ]
         },
         "layout": {
          "annotationdefaults": {
           "arrowcolor": "#2a3f5f",
           "arrowhead": 0,
           "arrowwidth": 1
          },
          "coloraxis": {
           "colorbar": {
            "outlinewidth": 0,
            "ticks": ""
           }
          },
          "colorscale": {
           "diverging": [
            [
             0,
             "#8e0152"
            ],
            [
             0.1,
             "#c51b7d"
            ],
            [
             0.2,
             "#de77ae"
            ],
            [
             0.3,
             "#f1b6da"
            ],
            [
             0.4,
             "#fde0ef"
            ],
            [
             0.5,
             "#f7f7f7"
            ],
            [
             0.6,
             "#e6f5d0"
            ],
            [
             0.7,
             "#b8e186"
            ],
            [
             0.8,
             "#7fbc41"
            ],
            [
             0.9,
             "#4d9221"
            ],
            [
             1,
             "#276419"
            ]
           ],
           "sequential": [
            [
             0,
             "#0d0887"
            ],
            [
             0.1111111111111111,
             "#46039f"
            ],
            [
             0.2222222222222222,
             "#7201a8"
            ],
            [
             0.3333333333333333,
             "#9c179e"
            ],
            [
             0.4444444444444444,
             "#bd3786"
            ],
            [
             0.5555555555555556,
             "#d8576b"
            ],
            [
             0.6666666666666666,
             "#ed7953"
            ],
            [
             0.7777777777777778,
             "#fb9f3a"
            ],
            [
             0.8888888888888888,
             "#fdca26"
            ],
            [
             1,
             "#f0f921"
            ]
           ],
           "sequentialminus": [
            [
             0,
             "#0d0887"
            ],
            [
             0.1111111111111111,
             "#46039f"
            ],
            [
             0.2222222222222222,
             "#7201a8"
            ],
            [
             0.3333333333333333,
             "#9c179e"
            ],
            [
             0.4444444444444444,
             "#bd3786"
            ],
            [
             0.5555555555555556,
             "#d8576b"
            ],
            [
             0.6666666666666666,
             "#ed7953"
            ],
            [
             0.7777777777777778,
             "#fb9f3a"
            ],
            [
             0.8888888888888888,
             "#fdca26"
            ],
            [
             1,
             "#f0f921"
            ]
           ]
          },
          "colorway": [
           "#636efa",
           "#EF553B",
           "#00cc96",
           "#ab63fa",
           "#FFA15A",
           "#19d3f3",
           "#FF6692",
           "#B6E880",
           "#FF97FF",
           "#FECB52"
          ],
          "font": {
           "color": "#2a3f5f"
          },
          "geo": {
           "bgcolor": "white",
           "lakecolor": "white",
           "landcolor": "#E5ECF6",
           "showlakes": true,
           "showland": true,
           "subunitcolor": "white"
          },
          "hoverlabel": {
           "align": "left"
          },
          "hovermode": "closest",
          "mapbox": {
           "style": "light"
          },
          "paper_bgcolor": "white",
          "plot_bgcolor": "#E5ECF6",
          "polar": {
           "angularaxis": {
            "gridcolor": "white",
            "linecolor": "white",
            "ticks": ""
           },
           "bgcolor": "#E5ECF6",
           "radialaxis": {
            "gridcolor": "white",
            "linecolor": "white",
            "ticks": ""
           }
          },
          "scene": {
           "xaxis": {
            "backgroundcolor": "#E5ECF6",
            "gridcolor": "white",
            "gridwidth": 2,
            "linecolor": "white",
            "showbackground": true,
            "ticks": "",
            "zerolinecolor": "white"
           },
           "yaxis": {
            "backgroundcolor": "#E5ECF6",
            "gridcolor": "white",
            "gridwidth": 2,
            "linecolor": "white",
            "showbackground": true,
            "ticks": "",
            "zerolinecolor": "white"
           },
           "zaxis": {
            "backgroundcolor": "#E5ECF6",
            "gridcolor": "white",
            "gridwidth": 2,
            "linecolor": "white",
            "showbackground": true,
            "ticks": "",
            "zerolinecolor": "white"
           }
          },
          "shapedefaults": {
           "line": {
            "color": "#2a3f5f"
           }
          },
          "ternary": {
           "aaxis": {
            "gridcolor": "white",
            "linecolor": "white",
            "ticks": ""
           },
           "baxis": {
            "gridcolor": "white",
            "linecolor": "white",
            "ticks": ""
           },
           "bgcolor": "#E5ECF6",
           "caxis": {
            "gridcolor": "white",
            "linecolor": "white",
            "ticks": ""
           }
          },
          "title": {
           "x": 0.05
          },
          "xaxis": {
           "automargin": true,
           "gridcolor": "white",
           "linecolor": "white",
           "ticks": "",
           "title": {
            "standoff": 15
           },
           "zerolinecolor": "white",
           "zerolinewidth": 2
          },
          "yaxis": {
           "automargin": true,
           "gridcolor": "white",
           "linecolor": "white",
           "ticks": "",
           "title": {
            "standoff": 15
           },
           "zerolinecolor": "white",
           "zerolinewidth": 2
          }
         }
        }
       }
      }
     },
     "metadata": {}
    }
   ],
   "source": [
    "# Parallel Categories Plot\n",
    "px.parallel_categories(sfo_data, color=sfo_data.index)"
   ]
  },
  {
   "cell_type": "markdown",
   "metadata": {},
   "source": [
    "- - - "
   ]
  },
  {
   "cell_type": "markdown",
   "metadata": {},
   "source": [
    "## Neighborhood Map\n",
    "\n",
    "In this section, you will read in neighboor location data and build an interactive map with the average prices per neighborhood. Use a scatter_mapbox from plotly express to create the visualization. Remember, you will need your mapbox api key for this."
   ]
  },
  {
   "cell_type": "markdown",
   "metadata": {},
   "source": [
    "### Load Location Data"
   ]
  },
  {
   "cell_type": "code",
   "execution_count": 52,
   "metadata": {},
   "outputs": [
    {
     "output_type": "execute_result",
     "data": {
      "text/plain": [
       "      Neighborhood        Lat         Lon\n",
       "0     Alamo Square  37.791012 -122.402100\n",
       "1       Anza Vista  37.779598 -122.443451\n",
       "2          Bayview  37.734670 -122.401060\n",
       "3  Bayview Heights  37.728740 -122.410980\n",
       "4   Bernal Heights  37.728630 -122.443050"
      ],
      "text/html": "<div>\n<style scoped>\n    .dataframe tbody tr th:only-of-type {\n        vertical-align: middle;\n    }\n\n    .dataframe tbody tr th {\n        vertical-align: top;\n    }\n\n    .dataframe thead th {\n        text-align: right;\n    }\n</style>\n<table border=\"1\" class=\"dataframe\">\n  <thead>\n    <tr style=\"text-align: right;\">\n      <th></th>\n      <th>Neighborhood</th>\n      <th>Lat</th>\n      <th>Lon</th>\n    </tr>\n  </thead>\n  <tbody>\n    <tr>\n      <th>0</th>\n      <td>Alamo Square</td>\n      <td>37.791012</td>\n      <td>-122.402100</td>\n    </tr>\n    <tr>\n      <th>1</th>\n      <td>Anza Vista</td>\n      <td>37.779598</td>\n      <td>-122.443451</td>\n    </tr>\n    <tr>\n      <th>2</th>\n      <td>Bayview</td>\n      <td>37.734670</td>\n      <td>-122.401060</td>\n    </tr>\n    <tr>\n      <th>3</th>\n      <td>Bayview Heights</td>\n      <td>37.728740</td>\n      <td>-122.410980</td>\n    </tr>\n    <tr>\n      <th>4</th>\n      <td>Bernal Heights</td>\n      <td>37.728630</td>\n      <td>-122.443050</td>\n    </tr>\n  </tbody>\n</table>\n</div>"
     },
     "metadata": {},
     "execution_count": 52
    }
   ],
   "source": [
    "# Load neighborhoods coordinates data\n",
    "file_path = Path(\"Data/neighborhoods_coordinates.csv\")\n",
    "df_neighborhood_locations = pd.read_csv(file_path)\n",
    "df_neighborhood_locations.head()"
   ]
  },
  {
   "cell_type": "markdown",
   "metadata": {},
   "source": [
    "### Data Preparation\n",
    "\n",
    "You will need to join the location data with the mean prices per neighborhood\n",
    "\n",
    "1. Calculate the mean values for each neighborhood\n",
    "2. Join the average values with the neighborhood locations"
   ]
  },
  {
   "cell_type": "code",
   "execution_count": 56,
   "metadata": {},
   "outputs": [
    {
     "output_type": "execute_result",
     "data": {
      "text/plain": [
       "   index           Neighborhood         year  sale_price_sqr_foot  \\\n",
       "0      0  Union Square District  2012.500000           903.993258   \n",
       "1      1         Merced Heights  2014.000000           788.844818   \n",
       "2      2          Miraloma Park  2011.750000           779.810842   \n",
       "3      3        Pacific Heights  2013.000000           689.555817   \n",
       "4      4          Westwood Park  2015.000000           687.087575   \n",
       "5      5         Telegraph Hill  2013.000000           676.506578   \n",
       "6      6       Presidio Heights  2013.000000           675.350212   \n",
       "7      7             Cow Hollow  2013.000000           665.964042   \n",
       "8      8           Potrero Hill  2013.000000           662.013613   \n",
       "9      9            South Beach  2011.666667           650.124479   \n",
       "\n",
       "   housing_units   gross_rent       Lat        Lon  \n",
       "0      377427.50  2555.166667  37.79101 -122.40210  \n",
       "1      380348.00  3414.000000  37.71993 -122.46595  \n",
       "2      375967.25  2155.250000  37.73415 -122.45700  \n",
       "3      378401.00  2817.285714  37.79298 -122.43579  \n",
       "4      382295.00  3959.000000  37.73415 -122.45700  \n",
       "5      378401.00  2817.285714  37.80055 -122.40433  \n",
       "6      378401.00  2817.285714  37.78553 -122.45600  \n",
       "7      378401.00  2817.285714  37.79298 -122.43579  \n",
       "8      378401.00  2817.285714  37.73196 -122.38324  \n",
       "9      375805.00  2099.000000  37.78323 -122.40065  "
      ],
      "text/html": "<div>\n<style scoped>\n    .dataframe tbody tr th:only-of-type {\n        vertical-align: middle;\n    }\n\n    .dataframe tbody tr th {\n        vertical-align: top;\n    }\n\n    .dataframe thead th {\n        text-align: right;\n    }\n</style>\n<table border=\"1\" class=\"dataframe\">\n  <thead>\n    <tr style=\"text-align: right;\">\n      <th></th>\n      <th>index</th>\n      <th>Neighborhood</th>\n      <th>year</th>\n      <th>sale_price_sqr_foot</th>\n      <th>housing_units</th>\n      <th>gross_rent</th>\n      <th>Lat</th>\n      <th>Lon</th>\n    </tr>\n  </thead>\n  <tbody>\n    <tr>\n      <th>0</th>\n      <td>0</td>\n      <td>Union Square District</td>\n      <td>2012.500000</td>\n      <td>903.993258</td>\n      <td>377427.50</td>\n      <td>2555.166667</td>\n      <td>37.79101</td>\n      <td>-122.40210</td>\n    </tr>\n    <tr>\n      <th>1</th>\n      <td>1</td>\n      <td>Merced Heights</td>\n      <td>2014.000000</td>\n      <td>788.844818</td>\n      <td>380348.00</td>\n      <td>3414.000000</td>\n      <td>37.71993</td>\n      <td>-122.46595</td>\n    </tr>\n    <tr>\n      <th>2</th>\n      <td>2</td>\n      <td>Miraloma Park</td>\n      <td>2011.750000</td>\n      <td>779.810842</td>\n      <td>375967.25</td>\n      <td>2155.250000</td>\n      <td>37.73415</td>\n      <td>-122.45700</td>\n    </tr>\n    <tr>\n      <th>3</th>\n      <td>3</td>\n      <td>Pacific Heights</td>\n      <td>2013.000000</td>\n      <td>689.555817</td>\n      <td>378401.00</td>\n      <td>2817.285714</td>\n      <td>37.79298</td>\n      <td>-122.43579</td>\n    </tr>\n    <tr>\n      <th>4</th>\n      <td>4</td>\n      <td>Westwood Park</td>\n      <td>2015.000000</td>\n      <td>687.087575</td>\n      <td>382295.00</td>\n      <td>3959.000000</td>\n      <td>37.73415</td>\n      <td>-122.45700</td>\n    </tr>\n    <tr>\n      <th>5</th>\n      <td>5</td>\n      <td>Telegraph Hill</td>\n      <td>2013.000000</td>\n      <td>676.506578</td>\n      <td>378401.00</td>\n      <td>2817.285714</td>\n      <td>37.80055</td>\n      <td>-122.40433</td>\n    </tr>\n    <tr>\n      <th>6</th>\n      <td>6</td>\n      <td>Presidio Heights</td>\n      <td>2013.000000</td>\n      <td>675.350212</td>\n      <td>378401.00</td>\n      <td>2817.285714</td>\n      <td>37.78553</td>\n      <td>-122.45600</td>\n    </tr>\n    <tr>\n      <th>7</th>\n      <td>7</td>\n      <td>Cow Hollow</td>\n      <td>2013.000000</td>\n      <td>665.964042</td>\n      <td>378401.00</td>\n      <td>2817.285714</td>\n      <td>37.79298</td>\n      <td>-122.43579</td>\n    </tr>\n    <tr>\n      <th>8</th>\n      <td>8</td>\n      <td>Potrero Hill</td>\n      <td>2013.000000</td>\n      <td>662.013613</td>\n      <td>378401.00</td>\n      <td>2817.285714</td>\n      <td>37.73196</td>\n      <td>-122.38324</td>\n    </tr>\n    <tr>\n      <th>9</th>\n      <td>9</td>\n      <td>South Beach</td>\n      <td>2011.666667</td>\n      <td>650.124479</td>\n      <td>375805.00</td>\n      <td>2099.000000</td>\n      <td>37.78323</td>\n      <td>-122.40065</td>\n    </tr>\n  </tbody>\n</table>\n</div>"
     },
     "metadata": {},
     "execution_count": 56
    }
   ],
   "source": [
    "# Calculate the mean values for each neighborhood\n",
    "\n",
    "top10=top10.reset_index().rename(columns={'neighborhood': 'Neighborhood'})\n",
    "#top10.head()\n",
    "append_data = pd.merge(top10, df_neighborhood_locations, on='Neighborhood')\n",
    "append_data\n",
    "#df_neighborhood_locations.groupby('sale_price_sqr_foot').mean()"
   ]
  },
  {
   "cell_type": "code",
   "execution_count": 57,
   "metadata": {},
   "outputs": [
    {
     "output_type": "execute_result",
     "data": {
      "text/plain": [
       "   index           Neighborhood         year  sale_price_sqr_foot  \\\n",
       "0      0  Union Square District  2012.500000           903.993258   \n",
       "1      1         Merced Heights  2014.000000           788.844818   \n",
       "2      2          Miraloma Park  2011.750000           779.810842   \n",
       "3      3        Pacific Heights  2013.000000           689.555817   \n",
       "4      4          Westwood Park  2015.000000           687.087575   \n",
       "5      5         Telegraph Hill  2013.000000           676.506578   \n",
       "6      6       Presidio Heights  2013.000000           675.350212   \n",
       "7      7             Cow Hollow  2013.000000           665.964042   \n",
       "8      8           Potrero Hill  2013.000000           662.013613   \n",
       "9      9            South Beach  2011.666667           650.124479   \n",
       "\n",
       "   housing_units   gross_rent       Lat        Lon  \n",
       "0      377427.50  2555.166667  37.79101 -122.40210  \n",
       "1      380348.00  3414.000000  37.71993 -122.46595  \n",
       "2      375967.25  2155.250000  37.73415 -122.45700  \n",
       "3      378401.00  2817.285714  37.79298 -122.43579  \n",
       "4      382295.00  3959.000000  37.73415 -122.45700  \n",
       "5      378401.00  2817.285714  37.80055 -122.40433  \n",
       "6      378401.00  2817.285714  37.78553 -122.45600  \n",
       "7      378401.00  2817.285714  37.79298 -122.43579  \n",
       "8      378401.00  2817.285714  37.73196 -122.38324  \n",
       "9      375805.00  2099.000000  37.78323 -122.40065  "
      ],
      "text/html": "<div>\n<style scoped>\n    .dataframe tbody tr th:only-of-type {\n        vertical-align: middle;\n    }\n\n    .dataframe tbody tr th {\n        vertical-align: top;\n    }\n\n    .dataframe thead th {\n        text-align: right;\n    }\n</style>\n<table border=\"1\" class=\"dataframe\">\n  <thead>\n    <tr style=\"text-align: right;\">\n      <th></th>\n      <th>index</th>\n      <th>Neighborhood</th>\n      <th>year</th>\n      <th>sale_price_sqr_foot</th>\n      <th>housing_units</th>\n      <th>gross_rent</th>\n      <th>Lat</th>\n      <th>Lon</th>\n    </tr>\n  </thead>\n  <tbody>\n    <tr>\n      <th>0</th>\n      <td>0</td>\n      <td>Union Square District</td>\n      <td>2012.500000</td>\n      <td>903.993258</td>\n      <td>377427.50</td>\n      <td>2555.166667</td>\n      <td>37.79101</td>\n      <td>-122.40210</td>\n    </tr>\n    <tr>\n      <th>1</th>\n      <td>1</td>\n      <td>Merced Heights</td>\n      <td>2014.000000</td>\n      <td>788.844818</td>\n      <td>380348.00</td>\n      <td>3414.000000</td>\n      <td>37.71993</td>\n      <td>-122.46595</td>\n    </tr>\n    <tr>\n      <th>2</th>\n      <td>2</td>\n      <td>Miraloma Park</td>\n      <td>2011.750000</td>\n      <td>779.810842</td>\n      <td>375967.25</td>\n      <td>2155.250000</td>\n      <td>37.73415</td>\n      <td>-122.45700</td>\n    </tr>\n    <tr>\n      <th>3</th>\n      <td>3</td>\n      <td>Pacific Heights</td>\n      <td>2013.000000</td>\n      <td>689.555817</td>\n      <td>378401.00</td>\n      <td>2817.285714</td>\n      <td>37.79298</td>\n      <td>-122.43579</td>\n    </tr>\n    <tr>\n      <th>4</th>\n      <td>4</td>\n      <td>Westwood Park</td>\n      <td>2015.000000</td>\n      <td>687.087575</td>\n      <td>382295.00</td>\n      <td>3959.000000</td>\n      <td>37.73415</td>\n      <td>-122.45700</td>\n    </tr>\n    <tr>\n      <th>5</th>\n      <td>5</td>\n      <td>Telegraph Hill</td>\n      <td>2013.000000</td>\n      <td>676.506578</td>\n      <td>378401.00</td>\n      <td>2817.285714</td>\n      <td>37.80055</td>\n      <td>-122.40433</td>\n    </tr>\n    <tr>\n      <th>6</th>\n      <td>6</td>\n      <td>Presidio Heights</td>\n      <td>2013.000000</td>\n      <td>675.350212</td>\n      <td>378401.00</td>\n      <td>2817.285714</td>\n      <td>37.78553</td>\n      <td>-122.45600</td>\n    </tr>\n    <tr>\n      <th>7</th>\n      <td>7</td>\n      <td>Cow Hollow</td>\n      <td>2013.000000</td>\n      <td>665.964042</td>\n      <td>378401.00</td>\n      <td>2817.285714</td>\n      <td>37.79298</td>\n      <td>-122.43579</td>\n    </tr>\n    <tr>\n      <th>8</th>\n      <td>8</td>\n      <td>Potrero Hill</td>\n      <td>2013.000000</td>\n      <td>662.013613</td>\n      <td>378401.00</td>\n      <td>2817.285714</td>\n      <td>37.73196</td>\n      <td>-122.38324</td>\n    </tr>\n    <tr>\n      <th>9</th>\n      <td>9</td>\n      <td>South Beach</td>\n      <td>2011.666667</td>\n      <td>650.124479</td>\n      <td>375805.00</td>\n      <td>2099.000000</td>\n      <td>37.78323</td>\n      <td>-122.40065</td>\n    </tr>\n  </tbody>\n</table>\n</div>"
     },
     "metadata": {},
     "execution_count": 57
    }
   ],
   "source": [
    "# Join the average values with the neighborhood locations\n",
    "append_data"
   ]
  },
  {
   "cell_type": "markdown",
   "metadata": {},
   "source": [
    "### Mapbox Visualization\n",
    "\n",
    "Plot the aveage values per neighborhood with a plotly express scatter_mapbox visualization."
   ]
  },
  {
   "cell_type": "code",
   "execution_count": 55,
   "metadata": {},
   "outputs": [],
   "source": [
    "# Create a scatter mapbox to analyze neighborhood info\n",
    "# YOUR CODE HERE!"
   ]
  }
 ],
 "metadata": {
  "file_extension": ".py",
  "kernelspec": {
   "name": "Python 3.7.7 64-bit ('pyvizenv': conda)",
   "display_name": "Python 3.7.7 64-bit ('pyvizenv': conda)",
   "metadata": {
    "interpreter": {
     "hash": "c3c06777d2d3a090de4d2535f4f1b119177f34ac2cf7c8075bb72b3b1efd8194"
    }
   }
  },
  "language_info": {
   "codemirror_mode": {
    "name": "ipython",
    "version": 3
   },
   "file_extension": ".py",
   "mimetype": "text/x-python",
   "name": "python",
   "nbconvert_exporter": "python",
   "pygments_lexer": "ipython3",
   "version": "3.7.7-final"
  },
  "mimetype": "text/x-python",
  "name": "python",
  "npconvert_exporter": "python",
  "pygments_lexer": "ipython3",
  "version": 3
 },
 "nbformat": 4,
 "nbformat_minor": 4
}